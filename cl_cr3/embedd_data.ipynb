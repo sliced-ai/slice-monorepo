{
 "cells": [
  {
   "cell_type": "code",
   "execution_count": 1,
   "id": "982dc479-c4b3-496d-820f-f66265e9b3cf",
   "metadata": {},
   "outputs": [
    {
     "name": "stdout",
     "output_type": "stream",
     "text": [
      "\u001b[33mWARNING: Running pip as the 'root' user can result in broken permissions and conflicting behaviour with the system package manager. It is recommended to use a virtual environment instead: https://pip.pypa.io/warnings/venv\u001b[0m\u001b[33m\n",
      "\u001b[0m\n",
      "\u001b[1m[\u001b[0m\u001b[34;49mnotice\u001b[0m\u001b[1;39;49m]\u001b[0m\u001b[39;49m A new release of pip is available: \u001b[0m\u001b[31;49m23.3.1\u001b[0m\u001b[39;49m -> \u001b[0m\u001b[32;49m24.0\u001b[0m\n",
      "\u001b[1m[\u001b[0m\u001b[34;49mnotice\u001b[0m\u001b[1;39;49m]\u001b[0m\u001b[39;49m To update, run: \u001b[0m\u001b[32;49mpython -m pip install --upgrade pip\u001b[0m\n"
     ]
    }
   ],
   "source": [
    "!pip install -q openai h5py"
   ]
  },
  {
   "cell_type": "code",
   "execution_count": 3,
   "id": "7c2bac0c-749d-49e2-b0d1-6d6f93adeb5e",
   "metadata": {},
   "outputs": [
    {
     "name": "stdout",
     "output_type": "stream",
     "text": [
      "size: 5\n",
      "First few entries in the HDF5 file:\n",
      "Entry 1:\n",
      "  Name: MARISHA\n",
      "  Turn Number: 496\n",
      "  File Path: /workspace/slice-monorepo/cl_cr3/aligneddata/c=3/C1E003_3_0.json\n",
      "  Model Name: text-embedding-3-small\n",
      "  Embedding: [-0.00624625 -0.01879092 -0.01577863 ... -0.02597606 -0.02259865\n",
      "  0.01091464]\n",
      "  Embedding Size: 1536\n",
      "\n",
      "Entry 2:\n",
      "  Name: LAURA\n",
      "  Turn Number: 497\n",
      "  File Path: /workspace/slice-monorepo/cl_cr3/aligneddata/c=3/C1E003_3_0.json\n",
      "  Model Name: text-embedding-3-small\n",
      "  Embedding: [-1.59449628e-05 -4.13936675e-02 -2.04442795e-02 ... -1.60119496e-02\n",
      " -1.74262542e-02  1.21604940e-02]\n",
      "  Embedding Size: 1536\n",
      "\n",
      "Entry 3:\n",
      "  Name: SAM\n",
      "  Turn Number: 498\n",
      "  File Path: /workspace/slice-monorepo/cl_cr3/aligneddata/c=3/C1E003_3_0.json\n",
      "  Model Name: text-embedding-3-small\n",
      "  Embedding: [ 0.00522397  0.00704117 -0.0155793  ... -0.01513947  0.01615803\n",
      " -0.00351672]\n",
      "  Embedding Size: 1536\n",
      "\n",
      "Entry 4:\n",
      "  Name: LAURA\n",
      "  Turn Number: 499\n",
      "  File Path: /workspace/slice-monorepo/cl_cr3/aligneddata/c=3/C1E003_3_0.json\n",
      "  Model Name: text-embedding-3-small\n",
      "  Embedding: [ 0.00368774  0.00596977  0.07222383 ... -0.00668156 -0.00336403\n",
      " -0.01299829]\n",
      "  Embedding Size: 1536\n",
      "\n",
      "Entry 5:\n",
      "  Name: MARISHA\n",
      "  Turn Number: 500\n",
      "  File Path: /workspace/slice-monorepo/cl_cr3/aligneddata/c=3/C1E003_3_0.json\n",
      "  Model Name: text-embedding-3-small\n",
      "  Embedding: [0.02059525 0.05111907 0.01183178 ... 0.01972686 0.01128903 0.00686026]\n",
      "  Embedding Size: 1536\n",
      "\n"
     ]
    }
   ],
   "source": [
    "import h5py\n",
    "\n",
    "def view_h5_file(file_path, num_entries=5):\n",
    "    with h5py.File(file_path, 'r') as f:\n",
    "        # Display the first few entries in the embeddings dataset\n",
    "        print(f\"size: {len(f)}\")\n",
    "        embeddings = f['embeddings'][:num_entries]\n",
    "        names = [name.decode('utf8') for name in f['names'][:num_entries]]\n",
    "        turn_numbers = f['turn_numbers'][:num_entries]\n",
    "        file_paths = [path.decode('utf8') for path in f['file_paths'][:num_entries]]\n",
    "        model_names = [model.decode('utf8') for model in f['model_names'][:num_entries]]\n",
    "\n",
    "        print(\"First few entries in the HDF5 file:\")\n",
    "        for i in range(num_entries):\n",
    "            print(f\"Entry {i + 1}:\")\n",
    "            print(f\"  Name: {names[i]}\")\n",
    "            print(f\"  Turn Number: {turn_numbers[i]}\")\n",
    "            print(f\"  File Path: {file_paths[i]}\")\n",
    "            print(f\"  Model Name: {model_names[i]}\")\n",
    "            print(f\"  Embedding: {embeddings[i]}\")\n",
    "            print(f\"  Embedding Size: {len(embeddings[i])}\")\n",
    "            print()\n",
    "\n",
    "if __name__ == \"__main__\":\n",
    "    file_path = 'utterance_embeddings.h5'  # Update with your actual file path\n",
    "    view_h5_file(file_path)\n"
   ]
  },
  {
   "cell_type": "code",
   "execution_count": 5,
   "id": "4d7625b0-d3b3-4e8f-8b04-0cbd6d0ca74e",
   "metadata": {},
   "outputs": [
    {
     "name": "stdout",
     "output_type": "stream",
     "text": [
      "Collecting pandas\n",
      "  Downloading pandas-2.2.2-cp310-cp310-manylinux_2_17_x86_64.manylinux2014_x86_64.whl.metadata (19 kB)\n",
      "Requirement already satisfied: numpy>=1.22.4 in /usr/local/lib/python3.10/dist-packages (from pandas) (1.24.1)\n",
      "Requirement already satisfied: python-dateutil>=2.8.2 in /usr/local/lib/python3.10/dist-packages (from pandas) (2.8.2)\n",
      "Collecting pytz>=2020.1 (from pandas)\n",
      "  Downloading pytz-2024.1-py2.py3-none-any.whl.metadata (22 kB)\n",
      "Collecting tzdata>=2022.7 (from pandas)\n",
      "  Downloading tzdata-2024.1-py2.py3-none-any.whl.metadata (1.4 kB)\n",
      "Requirement already satisfied: six>=1.5 in /usr/lib/python3/dist-packages (from python-dateutil>=2.8.2->pandas) (1.16.0)\n",
      "Downloading pandas-2.2.2-cp310-cp310-manylinux_2_17_x86_64.manylinux2014_x86_64.whl (13.0 MB)\n",
      "\u001b[2K   \u001b[90m━━━━━━━━━━━━━━━━━━━━━━━━━━━━━━━━━━━━━━━━\u001b[0m \u001b[32m13.0/13.0 MB\u001b[0m \u001b[31m141.5 MB/s\u001b[0m eta \u001b[36m0:00:00\u001b[0m00:01\u001b[0m0:01\u001b[0m\n",
      "\u001b[?25hDownloading pytz-2024.1-py2.py3-none-any.whl (505 kB)\n",
      "\u001b[2K   \u001b[90m━━━━━━━━━━━━━━━━━━━━━━━━━━━━━━━━━━━━━━━\u001b[0m \u001b[32m505.5/505.5 kB\u001b[0m \u001b[31m148.3 MB/s\u001b[0m eta \u001b[36m0:00:00\u001b[0m\n",
      "\u001b[?25hDownloading tzdata-2024.1-py2.py3-none-any.whl (345 kB)\n",
      "\u001b[2K   \u001b[90m━━━━━━━━━━━━━━━━━━━━━━━━━━━━━━━━━━━━━━━\u001b[0m \u001b[32m345.4/345.4 kB\u001b[0m \u001b[31m120.5 MB/s\u001b[0m eta \u001b[36m0:00:00\u001b[0m\n",
      "\u001b[?25hInstalling collected packages: pytz, tzdata, pandas\n",
      "Successfully installed pandas-2.2.2 pytz-2024.1 tzdata-2024.1\n",
      "\u001b[33mWARNING: Running pip as the 'root' user can result in broken permissions and conflicting behaviour with the system package manager. It is recommended to use a virtual environment instead: https://pip.pypa.io/warnings/venv\u001b[0m\u001b[33m\n",
      "\u001b[0m\n",
      "\u001b[1m[\u001b[0m\u001b[34;49mnotice\u001b[0m\u001b[1;39;49m]\u001b[0m\u001b[39;49m A new release of pip is available: \u001b[0m\u001b[31;49m23.3.1\u001b[0m\u001b[39;49m -> \u001b[0m\u001b[32;49m24.0\u001b[0m\n",
      "\u001b[1m[\u001b[0m\u001b[34;49mnotice\u001b[0m\u001b[1;39;49m]\u001b[0m\u001b[39;49m To update, run: \u001b[0m\u001b[32;49mpython -m pip install --upgrade pip\u001b[0m\n"
     ]
    }
   ],
   "source": [
    "!pip install pandas"
   ]
  },
  {
   "cell_type": "code",
   "execution_count": null,
   "id": "ca972a06-9444-4005-b3aa-960e4b941d12",
   "metadata": {},
   "outputs": [],
   "source": []
  }
 ],
 "metadata": {
  "kernelspec": {
   "display_name": "Python 3 (ipykernel)",
   "language": "python",
   "name": "python3"
  },
  "language_info": {
   "codemirror_mode": {
    "name": "ipython",
    "version": 3
   },
   "file_extension": ".py",
   "mimetype": "text/x-python",
   "name": "python",
   "nbconvert_exporter": "python",
   "pygments_lexer": "ipython3",
   "version": "3.10.12"
  }
 },
 "nbformat": 4,
 "nbformat_minor": 5
}

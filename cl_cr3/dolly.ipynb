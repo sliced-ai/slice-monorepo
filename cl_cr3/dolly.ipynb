{
 "cells": [
  {
   "cell_type": "code",
   "execution_count": null,
   "id": "932abb7e-db06-4283-a63d-fdef5487666e",
   "metadata": {},
   "outputs": [],
   "source": [
    "!pip install -q \"accelerate>=0.16.0,<1\" \"transformers[torch]>=4.28.1,<5\" \"torch>=1.13.1,<2\"\n"
   ]
  },
  {
   "cell_type": "code",
   "execution_count": null,
   "id": "de434661-ae2d-45b2-93b5-ec42ccac7766",
   "metadata": {},
   "outputs": [],
   "source": [
    "import torch\n",
    "from transformers import pipeline\n",
    "\n",
    "# Initialize the pipeline with the Dolly model\n",
    "generate_text = pipeline(\n",
    "    model=\"databricks/dolly-v2-3b\",\n",
    "    torch_dtype=torch.bfloat16,\n",
    "    trust_remote_code=True,\n",
    "    device_map=\"auto\"\n",
    ")\n",
    "\n",
    "# Define the prompt and parameters for inference\n",
    "prompts = [\n",
    "    \"Explain to me the difference between nuclear fission and fusion.\",\n",
    "    \"What are the benefits of renewable energy sources?\"\n",
    "]\n",
    "batch_size = len(prompts)  # Adjust batch size based on the number of prompts\n",
    "temperature = 0.7  # Adjust temperature for the sampling\n",
    "top_p = 0.9  # Adjust top_p for nucleus sampling\n",
    "\n",
    "# Preprocess the inputs using the tokenizer\n",
    "input_ids = generate_text.tokenizer(prompts, return_tensors=\"pt\", padding=True, truncation=True)\n",
    "\n",
    "# Generate responses\n",
    "results = generate_text(\n",
    "    **input_ids,\n",
    "    max_new_tokens=100,  # Use max_new_tokens instead of max_length\n",
    "    temperature=temperature,\n",
    "    top_p=top_p,\n",
    "    batch_size=batch_size\n",
    ")\n",
    "\n",
    "# Print the results\n",
    "for i, result in enumerate(results):\n",
    "    print(f\"Prompt: {prompts[i]}\")\n",
    "    print(f\"Generated Text: {result}\")  # Access the generated text directly\n",
    "    print(\"-\" * 50)"
   ]
  },
  {
   "cell_type": "code",
   "execution_count": null,
   "id": "d5a4c0a1-94c3-414c-8ce9-8cba6b6c9f16",
   "metadata": {},
   "outputs": [],
   "source": []
  }
 ],
 "metadata": {
  "kernelspec": {
   "display_name": "Python 3 (ipykernel)",
   "language": "python",
   "name": "python3"
  },
  "language_info": {
   "codemirror_mode": {
    "name": "ipython",
    "version": 3
   },
   "file_extension": ".py",
   "mimetype": "text/x-python",
   "name": "python",
   "nbconvert_exporter": "python",
   "pygments_lexer": "ipython3",
   "version": "3.10.12"
  }
 },
 "nbformat": 4,
 "nbformat_minor": 5
}

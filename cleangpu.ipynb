{
 "cells": [
  {
   "cell_type": "code",
   "execution_count": 5,
   "id": "4f037f6c-6e75-434d-b5e0-36c49a2e0e21",
   "metadata": {},
   "outputs": [
    {
     "name": "stdout",
     "output_type": "stream",
     "text": [
      "Installing packages...\n",
      "Requirement already satisfied: py3nvml in /usr/local/lib/python3.10/dist-packages (0.2.7)\n",
      "Requirement already satisfied: xmltodict in /usr/local/lib/python3.10/dist-packages (from py3nvml) (0.13.0)\n",
      "Fetching GPU processes...\n",
      "Device 0: PID 1937399, Memory 13078 MB\n",
      "Device 0: PID 1939529, Memory 11540 MB\n",
      "Attempting to kill GPU processes...\n",
      "Failed to send SIGTERM to PID 1937399: [Errno 3] No such process\n",
      "Process 1937399 not found running.\n",
      "Failed to send SIGTERM to PID 1939529: [Errno 3] No such process\n",
      "Process 1939529 not found running.\n"
     ]
    },
    {
     "name": "stderr",
     "output_type": "stream",
     "text": [
      "\u001b[33mWARNING: Running pip as the 'root' user can result in broken permissions and conflicting behaviour with the system package manager. It is recommended to use a virtual environment instead: https://pip.pypa.io/warnings/venv\u001b[0m\u001b[33m\n",
      "\u001b[0m\n",
      "\u001b[1m[\u001b[0m\u001b[34;49mnotice\u001b[0m\u001b[1;39;49m]\u001b[0m\u001b[39;49m A new release of pip is available: \u001b[0m\u001b[31;49m23.3.1\u001b[0m\u001b[39;49m -> \u001b[0m\u001b[32;49m24.0\u001b[0m\n",
      "\u001b[1m[\u001b[0m\u001b[34;49mnotice\u001b[0m\u001b[1;39;49m]\u001b[0m\u001b[39;49m To update, run: \u001b[0m\u001b[32;49mpython -m pip install --upgrade pip\u001b[0m\n"
     ]
    }
   ],
   "source": [
    "import subprocess\n",
    "import os\n",
    "import signal\n",
    "import py3nvml.py3nvml as nvml\n",
    "\n",
    "def install_packages():\n",
    "    subprocess.run([\"pip\", \"install\", \"py3nvml\"], check=True)\n",
    "\n",
    "def get_gpu_processes():\n",
    "    nvml.nvmlInit()\n",
    "    device_count = nvml.nvmlDeviceGetCount()\n",
    "    gpu_processes = []\n",
    "    for i in range(device_count):\n",
    "        handle = nvml.nvmlDeviceGetHandleByIndex(i)\n",
    "        procs = nvml.nvmlDeviceGetComputeRunningProcesses(handle)\n",
    "        for proc in procs:\n",
    "            print(f\"Device {i}: PID {proc.pid}, Memory {proc.usedGpuMemory // 1024 ** 2} MB\")\n",
    "            gpu_processes.append(proc.pid)\n",
    "    nvml.nvmlShutdown()\n",
    "    return gpu_processes\n",
    "\n",
    "def kill_gpu_processes(pids):\n",
    "    for pid in pids:\n",
    "        try:\n",
    "            os.kill(pid, signal.SIGTERM)  # Trying SIGTERM first\n",
    "            print(f\"Sent SIGTERM to PID {pid}\")\n",
    "        except OSError as e:\n",
    "            print(f\"Failed to send SIGTERM to PID {pid}: {str(e)}\")\n",
    "            # Check if process exists using ps\n",
    "            ps_result = subprocess.run([\"ps\", \"-p\", str(pid), \"-o\", \"comm=\"], capture_output=True, text=True)\n",
    "            if ps_result.stdout:\n",
    "                print(f\"Process {pid} still running: {ps_result.stdout.strip()}\")\n",
    "            else:\n",
    "                print(f\"Process {pid} not found running.\")\n",
    "\n",
    "def main():\n",
    "    print(\"Installing packages...\")\n",
    "    install_packages()\n",
    "    print(\"Fetching GPU processes...\")\n",
    "    gpu_pids = get_gpu_processes()\n",
    "    print(\"Attempting to kill GPU processes...\")\n",
    "    kill_gpu_processes(gpu_pids)\n",
    "\n",
    "main()\n"
   ]
  }
 ],
 "metadata": {
  "kernelspec": {
   "display_name": "Python 3 (ipykernel)",
   "language": "python",
   "name": "python3"
  },
  "language_info": {
   "codemirror_mode": {
    "name": "ipython",
    "version": 3
   },
   "file_extension": ".py",
   "mimetype": "text/x-python",
   "name": "python",
   "nbconvert_exporter": "python",
   "pygments_lexer": "ipython3",
   "version": "3.10.12"
  }
 },
 "nbformat": 4,
 "nbformat_minor": 5
}

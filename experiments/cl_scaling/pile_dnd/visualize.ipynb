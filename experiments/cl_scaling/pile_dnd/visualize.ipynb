{
 "cells": [
  {
   "cell_type": "code",
   "execution_count": 2,
   "id": "b9755bc2-04b8-4307-bafd-ad404ec93441",
   "metadata": {},
   "outputs": [
    {
     "name": "stdout",
     "output_type": "stream",
     "text": [
      "\u001b[33mWARNING: Running pip as the 'root' user can result in broken permissions and conflicting behaviour with the system package manager. It is recommended to use a virtual environment instead: https://pip.pypa.io/warnings/venv\u001b[0m\u001b[33m\n",
      "\u001b[0m\n",
      "\u001b[1m[\u001b[0m\u001b[34;49mnotice\u001b[0m\u001b[1;39;49m]\u001b[0m\u001b[39;49m A new release of pip is available: \u001b[0m\u001b[31;49m23.3.1\u001b[0m\u001b[39;49m -> \u001b[0m\u001b[32;49m24.2\u001b[0m\n",
      "\u001b[1m[\u001b[0m\u001b[34;49mnotice\u001b[0m\u001b[1;39;49m]\u001b[0m\u001b[39;49m To update, run: \u001b[0m\u001b[32;49mpython -m pip install --upgrade pip\u001b[0m\n"
     ]
    }
   ],
   "source": [
    "!pip install -q matplotlib pandas"
   ]
  },
  {
   "cell_type": "code",
   "execution_count": 3,
   "id": "5745c61d-0cc3-4efd-90c3-a54b1aaff637",
   "metadata": {},
   "outputs": [],
   "source": [
    "import pandas as pd\n",
    "import matplotlib.pyplot as plt\n",
    "import os\n",
    "\n",
    "# Load the CSV file\n",
    "csv_file_path = '/workspace/slice-monorepo/sub_validations/cl_scaling/pile_dnd/experiments/combined_training_7/training_results.csv'\n",
    "data = pd.read_csv(csv_file_path)\n",
    "\n",
    "# Get unique epochs\n",
    "epochs = data['epoch'].unique()\n",
    "\n",
    "# Create the analysis directory if it doesn't exist\n",
    "analysis_dir = os.path.join(os.path.dirname(csv_file_path), 'analysis')\n",
    "os.makedirs(analysis_dir, exist_ok=True)\n",
    "\n",
    "# Function to calculate running average\n",
    "def running_average(values, window_size):\n",
    "    return values.rolling(window=window_size).mean()\n",
    "\n",
    "# Iterate over each epoch to generate and save plots\n",
    "for epoch in epochs:\n",
    "    epoch_data = data[data['epoch'] == epoch]\n",
    "    \n",
    "    # Plot and save train_loss over steps\n",
    "    plt.figure(figsize=(12, 6))\n",
    "    plt.plot(epoch_data['step'], epoch_data['train_loss'], label='Train Loss')\n",
    "    plt.title(f'Epoch {epoch} - Train Loss over Steps')\n",
    "    plt.xlabel('Step')\n",
    "    plt.ylabel('Train Loss')\n",
    "    plt.grid(True)\n",
    "    plot_path = os.path.join(analysis_dir, f'epoch_{epoch}_train_loss.png')\n",
    "    plt.savefig(plot_path)\n",
    "    plt.close()\n",
    "\n",
    "    # Plot and save rw_inference_loss over steps\n",
    "    plt.figure(figsize=(12, 6))\n",
    "    plt.plot(epoch_data['step'], epoch_data['rw_inference_loss'], label='RW Inference Loss', color='green')\n",
    "    plt.title(f'Epoch {epoch} - RW Inference Loss over Steps')\n",
    "    plt.xlabel('Step')\n",
    "    plt.ylabel('RW Inference Loss')\n",
    "    plt.grid(True)\n",
    "    plot_path = os.path.join(analysis_dir, f'epoch_{epoch}_rw_inference_loss.png')\n",
    "    plt.savefig(plot_path)\n",
    "    plt.close()\n",
    "\n",
    "    # Plot and save pile_inference_loss over steps\n",
    "    plt.figure(figsize=(12, 6))\n",
    "    plt.plot(epoch_data['step'], epoch_data['pile_inference_loss'], label='Pile Inference Loss', color='red')\n",
    "    plt.title(f'Epoch {epoch} - Pile Inference Loss over Steps')\n",
    "    plt.xlabel('Step')\n",
    "    plt.ylabel('Pile Inference Loss')\n",
    "    plt.grid(True)\n",
    "    plot_path = os.path.join(analysis_dir, f'epoch_{epoch}_pile_inference_loss.png')\n",
    "    plt.savefig(plot_path)\n",
    "    plt.close()\n",
    "\n",
    "    # Plot and save combined running average of all three losses\n",
    "    plt.figure(figsize=(12, 6))\n",
    "    plt.plot(epoch_data['step'], running_average(epoch_data['train_loss'], 50), label='Train Loss (Running Average)', color='blue')\n",
    "    plt.plot(epoch_data['step'], running_average(epoch_data['rw_inference_loss'], 50), label='RW Inference Loss (Running Average)', color='green')\n",
    "    plt.plot(epoch_data['step'], running_average(epoch_data['pile_inference_loss'], 50), label='Pile Inference Loss (Running Average)', color='red')\n",
    "    plt.title(f'Epoch {epoch} - Running Average of Losses over Steps')\n",
    "    plt.xlabel('Step')\n",
    "    plt.ylabel('Running Average Loss')\n",
    "    plt.legend()\n",
    "    plt.grid(True)\n",
    "    plot_path = os.path.join(analysis_dir, f'epoch_{epoch}_combined_running_average.png')\n",
    "    plt.savefig(plot_path)\n",
    "    plt.close()\n"
   ]
  },
  {
   "cell_type": "code",
   "execution_count": null,
   "id": "95c40c54-962b-4b19-ad86-9327ce90e26f",
   "metadata": {},
   "outputs": [],
   "source": []
  }
 ],
 "metadata": {
  "kernelspec": {
   "display_name": "Python 3 (ipykernel)",
   "language": "python",
   "name": "python3"
  },
  "language_info": {
   "codemirror_mode": {
    "name": "ipython",
    "version": 3
   },
   "file_extension": ".py",
   "mimetype": "text/x-python",
   "name": "python",
   "nbconvert_exporter": "python",
   "pygments_lexer": "ipython3",
   "version": "3.10.12"
  }
 },
 "nbformat": 4,
 "nbformat_minor": 5
}

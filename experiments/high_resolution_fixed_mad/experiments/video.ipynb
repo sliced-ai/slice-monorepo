{
 "cells": [
  {
   "cell_type": "code",
   "execution_count": 2,
   "id": "14549fae-1007-4bfa-a829-f62ac775974d",
   "metadata": {},
   "outputs": [
    {
     "name": "stdout",
     "output_type": "stream",
     "text": [
      "\u001b[33mWARNING: Running pip as the 'root' user can result in broken permissions and conflicting behaviour with the system package manager. It is recommended to use a virtual environment instead: https://pip.pypa.io/warnings/venv\u001b[0m\u001b[33m\n",
      "\u001b[0m\n",
      "\u001b[1m[\u001b[0m\u001b[34;49mnotice\u001b[0m\u001b[1;39;49m]\u001b[0m\u001b[39;49m A new release of pip is available: \u001b[0m\u001b[31;49m23.3.1\u001b[0m\u001b[39;49m -> \u001b[0m\u001b[32;49m24.2\u001b[0m\n",
      "\u001b[1m[\u001b[0m\u001b[34;49mnotice\u001b[0m\u001b[1;39;49m]\u001b[0m\u001b[39;49m To update, run: \u001b[0m\u001b[32;49mpython -m pip install --upgrade pip\u001b[0m\n"
     ]
    }
   ],
   "source": [
    "!pip install -q imageio[ffmpeg] Pillow moviepy pillow\n"
   ]
  },
  {
   "cell_type": "code",
   "execution_count": 8,
   "id": "fc6ac15d-4067-48de-8b3a-d2c89d24d048",
   "metadata": {},
   "outputs": [],
   "source": [
    "import imageio\n",
    "import os\n",
    "import re\n",
    "from PIL import Image\n",
    "\n",
    "def extract_epoch(filename):\n",
    "    match = re.search(r'_epoch_(\\d+)_', filename)\n",
    "    if match:\n",
    "        return int(match.group(1))\n",
    "    else:\n",
    "        return float('inf')  # In case no epoch number is found, place it at the end\n",
    "\n",
    "def create_gif(image_folder, gif_name, frame_duration):\n",
    "    # Get list of image files\n",
    "    images = [img for img in os.listdir(image_folder) if img.endswith('.png') or img.endswith('.jpg')]\n",
    "    \n",
    "    # Sort images by the extracted epoch number\n",
    "    images.sort(key=extract_epoch)\n",
    "    \n",
    "    # Ensure there are images to process\n",
    "    if not images:\n",
    "        raise ValueError(\"No images found in the specified folder.\")\n",
    "    \n",
    "    # Read images and create the GIF\n",
    "    image_list = [Image.open(os.path.join(image_folder, img)) for img in images]\n",
    "    \n",
    "    # Convert to RGB to ensure compatibility\n",
    "    image_list = [img.convert('RGB') for img in image_list]\n",
    "    \n",
    "    # Save as GIF with the specified duration per frame\n",
    "    image_list[0].save(\n",
    "        gif_name,\n",
    "        save_all=True,\n",
    "        append_images=image_list[1:],\n",
    "        duration=frame_duration,\n",
    "        loop=0\n",
    "    )\n",
    "\n",
    "image_folder = '/workspace/slice-monorepo/sub_validations/high_resolution_fixed_mad/experiments/fixed_1e6/analysis_output'\n",
    "gif_name = 'output.gif'\n",
    "frame_duration = 75  # duration of each frame in milliseconds\n",
    "\n",
    "create_gif(image_folder, gif_name, frame_duration)\n"
   ]
  },
  {
   "cell_type": "code",
   "execution_count": null,
   "id": "92a6d1a4-68a7-43b9-9795-b0731ed12bc9",
   "metadata": {},
   "outputs": [],
   "source": []
  }
 ],
 "metadata": {
  "kernelspec": {
   "display_name": "Python 3 (ipykernel)",
   "language": "python",
   "name": "python3"
  },
  "language_info": {
   "codemirror_mode": {
    "name": "ipython",
    "version": 3
   },
   "file_extension": ".py",
   "mimetype": "text/x-python",
   "name": "python",
   "nbconvert_exporter": "python",
   "pygments_lexer": "ipython3",
   "version": "3.10.12"
  }
 },
 "nbformat": 4,
 "nbformat_minor": 5
}

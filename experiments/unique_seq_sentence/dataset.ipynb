{
 "cells": [
  {
   "cell_type": "code",
   "execution_count": null,
   "id": "5bfe889d-dc84-4c09-8326-d52341db4760",
   "metadata": {},
   "outputs": [],
   "source": [
    "pip install -q nltk"
   ]
  },
  {
   "cell_type": "code",
   "execution_count": 4,
   "id": "71c0115f-6f7b-46d3-a539-70174d75f108",
   "metadata": {},
   "outputs": [
    {
     "name": "stderr",
     "output_type": "stream",
     "text": [
      "[nltk_data] Downloading package wordnet to /root/nltk_data...\n",
      "[nltk_data]   Package wordnet is already up-to-date!\n",
      "[nltk_data] Downloading package omw-1.4 to /root/nltk_data...\n",
      "[nltk_data]   Package omw-1.4 is already up-to-date!\n"
     ]
    }
   ],
   "source": [
    "import nltk\n",
    "import random\n",
    "import json\n",
    "from nltk.corpus import wordnet as wn\n",
    "import requests\n",
    "\n",
    "# Step 1: Download required NLTK data\n",
    "nltk.download('wordnet')\n",
    "nltk.download('omw-1.4')\n",
    "\n",
    "# Step 2: Load large vocabularies from WordNet\n",
    "nouns = set(wn.all_lemma_names(pos='n'))\n",
    "verbs = set(wn.all_lemma_names(pos='v'))\n",
    "adjectives = set(wn.all_lemma_names(pos='a'))\n",
    "adverbs = set(wn.all_lemma_names(pos='r'))\n",
    "\n",
    "# Example possessives, prepositional phrases, and static lists (you can expand these)\n",
    "possessives = [\"My\", \"Our\", \"Their\", \"His\", \"Her\", \"Your\"]\n",
    "\n",
    "# Function to get related words from ConceptNet (Optional)\n",
    "def get_related_words(concept):\n",
    "    try:\n",
    "        response = requests.get(f\"http://api.conceptnet.io/c/en/{concept}?offset=0&limit=100\")\n",
    "        data = response.json()\n",
    "        return [edge['end']['label'] for edge in data['edges']]\n",
    "    except:\n",
    "        return []\n",
    "\n",
    "# Optional: Expand your lists with related words from ConceptNet\n",
    "additional_nouns = get_related_words(\"house\")  # Example for concept 'house'\n",
    "nouns.update(additional_nouns)\n",
    "\n",
    "# Step 3: Define sentence generation rules as before\n",
    "def generate_sentence():\n",
    "    structure = random.choice([\"rule1\", \"rule2\", \"rule4\", \"rule5\"])\n",
    "    \n",
    "    if structure == \"rule1\":\n",
    "        sentence = f\"{random.choice(possessives)} {random.choice(list(adjectives))} {random.choice(list(nouns))}\"\n",
    "    elif structure == \"rule2\":\n",
    "        sentence = f\"{random.choice(possessives)} {random.choice(list(adjectives))} {random.choice(list(nouns))} {random.choice(list(verbs))}\"\n",
    "    elif structure == \"rule4\":\n",
    "        sentence = f\"{random.choice(possessives)} {random.choice(list(adjectives))} {random.choice(list(nouns))} {random.choice(list(verbs))} {random.choice(list(adverbs))}\"\n",
    "    elif structure == \"rule5\":\n",
    "        sentence = f\"{random.choice(possessives)} {random.choice(list(nouns))} {random.choice(list(verbs))}\"\n",
    "    \n",
    "    return {\"sentence\": sentence, \"rule\": structure}\n",
    "\n",
    "# Step 4: Generate a large dataset (tens of thousands)\n",
    "dataset = [generate_sentence() for _ in range(100000)]  # Generate 100,000 unique sentences\n",
    "\n",
    "# Step 5: Save the dataset to a JSON file\n",
    "with open('synthetic_sentences_100k.json', 'w') as f:\n",
    "    json.dump(dataset, f, indent=4)\n"
   ]
  },
  {
   "cell_type": "code",
   "execution_count": null,
   "id": "de4331cb-5b30-48f4-b0ed-13a4980a7bbd",
   "metadata": {},
   "outputs": [],
   "source": []
  }
 ],
 "metadata": {
  "kernelspec": {
   "display_name": "Python 3 (ipykernel)",
   "language": "python",
   "name": "python3"
  },
  "language_info": {
   "codemirror_mode": {
    "name": "ipython",
    "version": 3
   },
   "file_extension": ".py",
   "mimetype": "text/x-python",
   "name": "python",
   "nbconvert_exporter": "python",
   "pygments_lexer": "ipython3",
   "version": "3.10.12"
  }
 },
 "nbformat": 4,
 "nbformat_minor": 5
}

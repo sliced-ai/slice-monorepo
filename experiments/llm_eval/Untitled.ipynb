{
 "cells": [
  {
   "cell_type": "code",
   "execution_count": null,
   "id": "eaa6077a-1539-4eba-96c2-17e4b350f30e",
   "metadata": {},
   "outputs": [],
   "source": [
    " lm_eval --model hf     --model_args pretrained=EleutherAI/pythia-160m,revision=step100000,dtype=\"float\"     --tasks lambada_openai,hellaswag     --device cuda:0     --batch_size 8"
   ]
  }
 ],
 "metadata": {
  "kernelspec": {
   "display_name": "",
   "name": ""
  },
  "language_info": {
   "name": ""
  }
 },
 "nbformat": 4,
 "nbformat_minor": 5
}

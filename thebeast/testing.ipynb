{
 "cells": [
  {
   "cell_type": "code",
   "execution_count": 1,
   "id": "19ac2986-cc11-4978-82a6-777c1f986990",
   "metadata": {},
   "outputs": [
    {
     "ename": "NameError",
     "evalue": "name 'combined_embeddings' is not defined",
     "output_type": "error",
     "traceback": [
      "\u001b[0;31m---------------------------------------------------------------------------\u001b[0m",
      "\u001b[0;31mNameError\u001b[0m                                 Traceback (most recent call last)",
      "Cell \u001b[0;32mIn[1], line 9\u001b[0m\n\u001b[1;32m      7\u001b[0m \u001b[38;5;66;03m# Compute Euclidean distance matrix if not already done\u001b[39;00m\n\u001b[1;32m      8\u001b[0m \u001b[38;5;28;01mfrom\u001b[39;00m \u001b[38;5;21;01msklearn\u001b[39;00m\u001b[38;5;21;01m.\u001b[39;00m\u001b[38;5;21;01mmetrics\u001b[39;00m\u001b[38;5;21;01m.\u001b[39;00m\u001b[38;5;21;01mpairwise\u001b[39;00m \u001b[38;5;28;01mimport\u001b[39;00m euclidean_distances\n\u001b[0;32m----> 9\u001b[0m distance_matrix \u001b[38;5;241m=\u001b[39m euclidean_distances(\u001b[43mcombined_embeddings\u001b[49m)\n\u001b[1;32m     11\u001b[0m \u001b[38;5;66;03m# Fit MDS model\u001b[39;00m\n\u001b[1;32m     12\u001b[0m mds_embeddings \u001b[38;5;241m=\u001b[39m mds\u001b[38;5;241m.\u001b[39mfit_transform(distance_matrix)\n",
      "\u001b[0;31mNameError\u001b[0m: name 'combined_embeddings' is not defined"
     ]
    }
   ],
   "source": [
    "from sklearn.manifold import MDS\n",
    "import matplotlib.pyplot as plt\n",
    "\n",
    "# Assume `combined_embeddings` from your previous embedding combination strategies\n",
    "mds = MDS(n_components=2, dissimilarity=\"precomputed\", random_state=1)\n",
    "\n",
    "# Compute Euclidean distance matrix if not already done\n",
    "from sklearn.metrics.pairwise import euclidean_distances\n",
    "distance_matrix = euclidean_distances(combined_embeddings)\n",
    "\n",
    "# Fit MDS model\n",
    "mds_embeddings = mds.fit_transform(distance_matrix)\n",
    "\n",
    "# Plot results\n",
    "plt.figure(figsize=(10, 7))\n",
    "plt.scatter(mds_embeddings[:, 0], mds_embeddings[:, 1], alpha=0.5)\n",
    "plt.title('MDS Projection of Combined Embeddings')\n",
    "plt.xlabel('MDS-1')\n",
    "plt.ylabel('MDS-2')\n",
    "plt.show()\n"
   ]
  },
  {
   "cell_type": "code",
   "execution_count": null,
   "id": "70fe4a11-db90-4504-8e0a-b21e4692e6dc",
   "metadata": {},
   "outputs": [],
   "source": []
  }
 ],
 "metadata": {
  "kernelspec": {
   "display_name": "Python 3 (ipykernel)",
   "language": "python",
   "name": "python3"
  },
  "language_info": {
   "codemirror_mode": {
    "name": "ipython",
    "version": 3
   },
   "file_extension": ".py",
   "mimetype": "text/x-python",
   "name": "python",
   "nbconvert_exporter": "python",
   "pygments_lexer": "ipython3",
   "version": "3.10.12"
  }
 },
 "nbformat": 4,
 "nbformat_minor": 5
}

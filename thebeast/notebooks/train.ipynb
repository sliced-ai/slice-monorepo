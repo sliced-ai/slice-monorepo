{
 "cells": [
  {
   "cell_type": "code",
   "execution_count": null,
   "id": "355243d8-8e00-4264-96cd-5646701737e6",
   "metadata": {},
   "outputs": [],
   "source": [
    "!pip install -q torch torchvision pandas tqdm transformers matplotlib"
   ]
  },
  {
   "cell_type": "code",
   "execution_count": null,
   "id": "495826ff-3aa5-435e-87e0-31a58ba6307e",
   "metadata": {},
   "outputs": [],
   "source": [
    "/workspace/clustering/data"
   ]
  },
  {
   "cell_type": "code",
   "execution_count": 11,
   "id": "46a80223-b703-46c6-a473-cdd86cb8b798",
   "metadata": {},
   "outputs": [
    {
     "name": "stderr",
     "output_type": "stream",
     "text": [
      "100%|██████████| 1/1 [00:00<00:00, 170.06it/s]\n",
      "100%|██████████| 63/63 [00:00<00:00, 291.78it/s]\n"
     ]
    },
    {
     "name": "stdout",
     "output_type": "stream",
     "text": [
      "Epoch: 1/5000, Train: 0.6792, Val: 0.8427, Epoch size: 10\n"
     ]
    },
    {
     "name": "stderr",
     "output_type": "stream",
     "text": [
      "100%|██████████| 1/1 [00:00<00:00, 166.55it/s]\n",
      "100%|██████████| 63/63 [00:00<00:00, 292.61it/s]\n"
     ]
    },
    {
     "name": "stdout",
     "output_type": "stream",
     "text": [
      "Epoch: 2/5000, Train: 0.6177, Val: 0.8392, Epoch size: 11\n"
     ]
    },
    {
     "name": "stderr",
     "output_type": "stream",
     "text": [
      "100%|██████████| 1/1 [00:00<00:00, 162.85it/s]\n",
      "100%|██████████| 63/63 [00:00<00:00, 292.47it/s]\n"
     ]
    },
    {
     "name": "stdout",
     "output_type": "stream",
     "text": [
      "Epoch: 3/5000, Train: 0.5693, Val: 0.8359, Epoch size: 12\n"
     ]
    },
    {
     "name": "stderr",
     "output_type": "stream",
     "text": [
      "100%|██████████| 1/1 [00:00<00:00, 155.53it/s]\n",
      "100%|██████████| 63/63 [00:00<00:00, 292.79it/s]\n"
     ]
    },
    {
     "name": "stdout",
     "output_type": "stream",
     "text": [
      "Epoch: 4/5000, Train: 0.6304, Val: 0.8325, Epoch size: 13\n"
     ]
    },
    {
     "name": "stderr",
     "output_type": "stream",
     "text": [
      "100%|██████████| 1/1 [00:00<00:00, 152.32it/s]\n",
      "100%|██████████| 63/63 [00:00<00:00, 292.61it/s]\n"
     ]
    },
    {
     "name": "stdout",
     "output_type": "stream",
     "text": [
      "Epoch: 5/5000, Train: 0.6516, Val: 0.8292, Epoch size: 14\n"
     ]
    },
    {
     "name": "stderr",
     "output_type": "stream",
     "text": [
      "100%|██████████| 1/1 [00:00<00:00, 148.74it/s]\n",
      "100%|██████████| 63/63 [00:00<00:00, 291.79it/s]\n"
     ]
    },
    {
     "name": "stdout",
     "output_type": "stream",
     "text": [
      "Epoch: 6/5000, Train: 0.6296, Val: 0.8258, Epoch size: 15\n"
     ]
    },
    {
     "name": "stderr",
     "output_type": "stream",
     "text": [
      "100%|██████████| 1/1 [00:00<00:00, 143.93it/s]\n",
      "100%|██████████| 63/63 [00:00<00:00, 292.23it/s]\n"
     ]
    },
    {
     "name": "stdout",
     "output_type": "stream",
     "text": [
      "Epoch: 7/5000, Train: 0.5950, Val: 0.8225, Epoch size: 16\n"
     ]
    },
    {
     "name": "stderr",
     "output_type": "stream",
     "text": [
      "100%|██████████| 2/2 [00:00<00:00, 221.18it/s]\n",
      "100%|██████████| 63/63 [00:00<00:00, 292.33it/s]\n"
     ]
    },
    {
     "name": "stdout",
     "output_type": "stream",
     "text": [
      "Epoch: 8/5000, Train: 0.4931, Val: 0.8160, Epoch size: 17\n"
     ]
    },
    {
     "name": "stderr",
     "output_type": "stream",
     "text": [
      "100%|██████████| 2/2 [00:00<00:00, 215.04it/s]\n",
      "100%|██████████| 63/63 [00:00<00:00, 292.71it/s]\n"
     ]
    },
    {
     "name": "stdout",
     "output_type": "stream",
     "text": [
      "Epoch: 9/5000, Train: 0.4730, Val: 0.8099, Epoch size: 18\n"
     ]
    },
    {
     "name": "stderr",
     "output_type": "stream",
     "text": [
      "100%|██████████| 2/2 [00:00<00:00, 211.32it/s]\n",
      "100%|██████████| 63/63 [00:00<00:00, 292.83it/s]\n"
     ]
    },
    {
     "name": "stdout",
     "output_type": "stream",
     "text": [
      "Epoch: 10/5000, Train: 0.5958, Val: 0.8039, Epoch size: 19\n"
     ]
    },
    {
     "name": "stderr",
     "output_type": "stream",
     "text": [
      "100%|██████████| 2/2 [00:00<00:00, 207.57it/s]\n",
      "100%|██████████| 63/63 [00:00<00:00, 292.65it/s]\n"
     ]
    },
    {
     "name": "stdout",
     "output_type": "stream",
     "text": [
      "Epoch: 11/5000, Train: 0.7541, Val: 0.7978, Epoch size: 20\n"
     ]
    },
    {
     "name": "stderr",
     "output_type": "stream",
     "text": [
      "100%|██████████| 2/2 [00:00<00:00, 200.55it/s]\n",
      "100%|██████████| 63/63 [00:00<00:00, 292.80it/s]\n"
     ]
    },
    {
     "name": "stdout",
     "output_type": "stream",
     "text": [
      "Epoch: 12/5000, Train: 0.7199, Val: 0.7916, Epoch size: 21\n"
     ]
    },
    {
     "name": "stderr",
     "output_type": "stream",
     "text": [
      "100%|██████████| 2/2 [00:00<00:00, 197.38it/s]\n",
      "100%|██████████| 63/63 [00:00<00:00, 292.69it/s]\n"
     ]
    },
    {
     "name": "stdout",
     "output_type": "stream",
     "text": [
      "Epoch: 13/5000, Train: 0.6017, Val: 0.7853, Epoch size: 22\n"
     ]
    },
    {
     "name": "stderr",
     "output_type": "stream",
     "text": [
      "100%|██████████| 2/2 [00:00<00:00, 195.51it/s]\n",
      "100%|██████████| 63/63 [00:00<00:00, 292.65it/s]\n"
     ]
    },
    {
     "name": "stdout",
     "output_type": "stream",
     "text": [
      "Epoch: 14/5000, Train: 0.6417, Val: 0.7791, Epoch size: 23\n"
     ]
    },
    {
     "name": "stderr",
     "output_type": "stream",
     "text": [
      "100%|██████████| 2/2 [00:00<00:00, 192.67it/s]\n",
      "100%|██████████| 63/63 [00:00<00:00, 292.73it/s]\n"
     ]
    },
    {
     "name": "stdout",
     "output_type": "stream",
     "text": [
      "Epoch: 15/5000, Train: 0.5829, Val: 0.7728, Epoch size: 24\n"
     ]
    },
    {
     "name": "stderr",
     "output_type": "stream",
     "text": [
      "100%|██████████| 2/2 [00:00<00:00, 185.04it/s]\n",
      "100%|██████████| 63/63 [00:00<00:00, 292.59it/s]\n"
     ]
    },
    {
     "name": "stdout",
     "output_type": "stream",
     "text": [
      "Epoch: 16/5000, Train: 0.5789, Val: 0.7666, Epoch size: 25\n"
     ]
    },
    {
     "name": "stderr",
     "output_type": "stream",
     "text": [
      "100%|██████████| 2/2 [00:00<00:00, 187.05it/s]\n",
      "100%|██████████| 63/63 [00:00<00:00, 292.42it/s]\n"
     ]
    },
    {
     "name": "stdout",
     "output_type": "stream",
     "text": [
      "Epoch: 17/5000, Train: 0.5704, Val: 0.7603, Epoch size: 26\n"
     ]
    },
    {
     "name": "stderr",
     "output_type": "stream",
     "text": [
      "100%|██████████| 2/2 [00:00<00:00, 180.13it/s]\n",
      "100%|██████████| 63/63 [00:00<00:00, 291.93it/s]\n"
     ]
    },
    {
     "name": "stdout",
     "output_type": "stream",
     "text": [
      "Epoch: 18/5000, Train: 0.6693, Val: 0.7540, Epoch size: 27\n"
     ]
    },
    {
     "name": "stderr",
     "output_type": "stream",
     "text": [
      "100%|██████████| 2/2 [00:00<00:00, 194.21it/s]\n",
      "100%|██████████| 63/63 [00:00<00:00, 288.72it/s]\n"
     ]
    },
    {
     "name": "stdout",
     "output_type": "stream",
     "text": [
      "Epoch: 19/5000, Train: 0.5929, Val: 0.7474, Epoch size: 28\n"
     ]
    },
    {
     "name": "stderr",
     "output_type": "stream",
     "text": [
      "100%|██████████| 2/2 [00:00<00:00, 174.21it/s]\n",
      "100%|██████████| 63/63 [00:00<00:00, 292.21it/s]\n"
     ]
    },
    {
     "name": "stdout",
     "output_type": "stream",
     "text": [
      "Epoch: 20/5000, Train: 0.5526, Val: 0.7407, Epoch size: 29\n"
     ]
    },
    {
     "name": "stderr",
     "output_type": "stream",
     "text": [
      "100%|██████████| 2/2 [00:00<00:00, 166.81it/s]\n",
      "100%|██████████| 63/63 [00:00<00:00, 292.61it/s]\n"
     ]
    },
    {
     "name": "stdout",
     "output_type": "stream",
     "text": [
      "Epoch: 21/5000, Train: 0.6009, Val: 0.7339, Epoch size: 30\n"
     ]
    },
    {
     "name": "stderr",
     "output_type": "stream",
     "text": [
      "100%|██████████| 2/2 [00:00<00:00, 169.05it/s]\n",
      "100%|██████████| 63/63 [00:00<00:00, 292.35it/s]\n"
     ]
    },
    {
     "name": "stdout",
     "output_type": "stream",
     "text": [
      "Epoch: 22/5000, Train: 0.5857, Val: 0.7269, Epoch size: 31\n"
     ]
    },
    {
     "name": "stderr",
     "output_type": "stream",
     "text": [
      "100%|██████████| 2/2 [00:00<00:00, 167.16it/s]\n",
      "100%|██████████| 63/63 [00:00<00:00, 290.39it/s]\n"
     ]
    },
    {
     "name": "stdout",
     "output_type": "stream",
     "text": [
      "Epoch: 23/5000, Train: 0.5812, Val: 0.7198, Epoch size: 32\n"
     ]
    },
    {
     "name": "stderr",
     "output_type": "stream",
     "text": [
      "100%|██████████| 3/3 [00:00<00:00, 212.11it/s]\n",
      "100%|██████████| 63/63 [00:00<00:00, 292.20it/s]\n"
     ]
    },
    {
     "name": "stdout",
     "output_type": "stream",
     "text": [
      "Epoch: 24/5000, Train: 0.4692, Val: 0.7088, Epoch size: 33\n"
     ]
    },
    {
     "name": "stderr",
     "output_type": "stream",
     "text": [
      "100%|██████████| 3/3 [00:00<00:00, 208.91it/s]\n",
      "100%|██████████| 63/63 [00:00<00:00, 292.99it/s]\n"
     ]
    },
    {
     "name": "stdout",
     "output_type": "stream",
     "text": [
      "Epoch: 25/5000, Train: 0.4438, Val: 0.6977, Epoch size: 34\n"
     ]
    },
    {
     "name": "stderr",
     "output_type": "stream",
     "text": [
      "100%|██████████| 3/3 [00:00<00:00, 207.60it/s]\n",
      "100%|██████████| 63/63 [00:00<00:00, 292.81it/s]\n"
     ]
    },
    {
     "name": "stdout",
     "output_type": "stream",
     "text": [
      "Epoch: 26/5000, Train: 0.5156, Val: 0.6864, Epoch size: 35\n"
     ]
    },
    {
     "name": "stderr",
     "output_type": "stream",
     "text": [
      "100%|██████████| 3/3 [00:00<00:00, 189.80it/s]\n",
      "100%|██████████| 63/63 [00:00<00:00, 287.41it/s]\n"
     ]
    },
    {
     "name": "stdout",
     "output_type": "stream",
     "text": [
      "Epoch: 27/5000, Train: 0.4862, Val: 0.6744, Epoch size: 36\n"
     ]
    },
    {
     "name": "stderr",
     "output_type": "stream",
     "text": [
      "100%|██████████| 3/3 [00:00<00:00, 228.59it/s]\n",
      "100%|██████████| 63/63 [00:00<00:00, 291.96it/s]\n"
     ]
    },
    {
     "name": "stdout",
     "output_type": "stream",
     "text": [
      "Epoch: 28/5000, Train: 0.5408, Val: 0.6619, Epoch size: 37\n"
     ]
    },
    {
     "name": "stderr",
     "output_type": "stream",
     "text": [
      "100%|██████████| 3/3 [00:00<00:00, 213.13it/s]\n",
      "100%|██████████| 63/63 [00:00<00:00, 290.14it/s]\n"
     ]
    },
    {
     "name": "stdout",
     "output_type": "stream",
     "text": [
      "Epoch: 29/5000, Train: 0.5358, Val: 0.6483, Epoch size: 38\n"
     ]
    },
    {
     "name": "stderr",
     "output_type": "stream",
     "text": [
      "100%|██████████| 3/3 [00:00<00:00, 213.50it/s]\n",
      "100%|██████████| 63/63 [00:00<00:00, 291.60it/s]\n"
     ]
    },
    {
     "name": "stdout",
     "output_type": "stream",
     "text": [
      "Epoch: 30/5000, Train: 0.4917, Val: 0.6338, Epoch size: 39\n"
     ]
    },
    {
     "name": "stderr",
     "output_type": "stream",
     "text": [
      "100%|██████████| 3/3 [00:00<00:00, 213.31it/s]\n",
      "100%|██████████| 63/63 [00:00<00:00, 291.10it/s]\n"
     ]
    },
    {
     "name": "stdout",
     "output_type": "stream",
     "text": [
      "Epoch: 31/5000, Train: 0.5163, Val: 0.6186, Epoch size: 40\n"
     ]
    },
    {
     "name": "stderr",
     "output_type": "stream",
     "text": [
      "100%|██████████| 3/3 [00:00<00:00, 217.31it/s]\n",
      "100%|██████████| 63/63 [00:00<00:00, 292.31it/s]\n"
     ]
    },
    {
     "name": "stdout",
     "output_type": "stream",
     "text": [
      "Epoch: 32/5000, Train: 0.4645, Val: 0.6026, Epoch size: 41\n"
     ]
    },
    {
     "name": "stderr",
     "output_type": "stream",
     "text": [
      "100%|██████████| 3/3 [00:00<00:00, 214.24it/s]\n",
      "100%|██████████| 63/63 [00:00<00:00, 291.58it/s]\n"
     ]
    },
    {
     "name": "stdout",
     "output_type": "stream",
     "text": [
      "Epoch: 33/5000, Train: 0.4280, Val: 0.5864, Epoch size: 42\n"
     ]
    },
    {
     "name": "stderr",
     "output_type": "stream",
     "text": [
      "100%|██████████| 3/3 [00:00<00:00, 199.81it/s]\n",
      "100%|██████████| 63/63 [00:00<00:00, 292.02it/s]\n"
     ]
    },
    {
     "name": "stdout",
     "output_type": "stream",
     "text": [
      "Epoch: 34/5000, Train: 0.4730, Val: 0.5698, Epoch size: 43\n"
     ]
    },
    {
     "name": "stderr",
     "output_type": "stream",
     "text": [
      "100%|██████████| 3/3 [00:00<00:00, 203.76it/s]\n",
      "100%|██████████| 63/63 [00:00<00:00, 291.49it/s]\n"
     ]
    },
    {
     "name": "stdout",
     "output_type": "stream",
     "text": [
      "Epoch: 35/5000, Train: 0.4508, Val: 0.5527, Epoch size: 44\n"
     ]
    },
    {
     "name": "stderr",
     "output_type": "stream",
     "text": [
      "100%|██████████| 3/3 [00:00<00:00, 205.78it/s]\n",
      "100%|██████████| 63/63 [00:00<00:00, 291.72it/s]\n"
     ]
    },
    {
     "name": "stdout",
     "output_type": "stream",
     "text": [
      "Epoch: 36/5000, Train: 0.4731, Val: 0.5350, Epoch size: 45\n"
     ]
    },
    {
     "name": "stderr",
     "output_type": "stream",
     "text": [
      "100%|██████████| 3/3 [00:00<00:00, 202.52it/s]\n",
      "100%|██████████| 63/63 [00:00<00:00, 291.45it/s]\n"
     ]
    },
    {
     "name": "stdout",
     "output_type": "stream",
     "text": [
      "Epoch: 37/5000, Train: 0.4502, Val: 0.5169, Epoch size: 46\n"
     ]
    },
    {
     "name": "stderr",
     "output_type": "stream",
     "text": [
      "100%|██████████| 3/3 [00:00<00:00, 195.89it/s]\n",
      "100%|██████████| 63/63 [00:00<00:00, 291.48it/s]\n"
     ]
    },
    {
     "name": "stdout",
     "output_type": "stream",
     "text": [
      "Epoch: 38/5000, Train: 0.4344, Val: 0.4986, Epoch size: 47\n"
     ]
    },
    {
     "name": "stderr",
     "output_type": "stream",
     "text": [
      "100%|██████████| 3/3 [00:00<00:00, 187.94it/s]\n",
      "100%|██████████| 63/63 [00:00<00:00, 291.71it/s]\n"
     ]
    },
    {
     "name": "stdout",
     "output_type": "stream",
     "text": [
      "Epoch: 39/5000, Train: 0.4093, Val: 0.4800, Epoch size: 48\n"
     ]
    },
    {
     "name": "stderr",
     "output_type": "stream",
     "text": [
      "100%|██████████| 4/4 [00:00<00:00, 215.90it/s]\n",
      "100%|██████████| 63/63 [00:00<00:00, 291.65it/s]\n"
     ]
    },
    {
     "name": "stdout",
     "output_type": "stream",
     "text": [
      "Epoch: 40/5000, Train: 0.5988, Val: 0.4551, Epoch size: 49\n"
     ]
    },
    {
     "name": "stderr",
     "output_type": "stream",
     "text": [
      "100%|██████████| 4/4 [00:00<00:00, 229.34it/s]\n",
      "100%|██████████| 63/63 [00:00<00:00, 292.90it/s]\n"
     ]
    },
    {
     "name": "stdout",
     "output_type": "stream",
     "text": [
      "Epoch: 41/5000, Train: 0.3132, Val: 0.4307, Epoch size: 50\n"
     ]
    },
    {
     "name": "stderr",
     "output_type": "stream",
     "text": [
      "100%|██████████| 4/4 [00:00<00:00, 233.61it/s]\n",
      "100%|██████████| 63/63 [00:00<00:00, 288.57it/s]\n"
     ]
    },
    {
     "name": "stdout",
     "output_type": "stream",
     "text": [
      "Epoch: 42/5000, Train: 0.3295, Val: 0.4089, Epoch size: 51\n"
     ]
    },
    {
     "name": "stderr",
     "output_type": "stream",
     "text": [
      "100%|██████████| 4/4 [00:00<00:00, 220.43it/s]\n",
      "100%|██████████| 63/63 [00:00<00:00, 291.90it/s]\n"
     ]
    },
    {
     "name": "stdout",
     "output_type": "stream",
     "text": [
      "Epoch: 43/5000, Train: 0.3562, Val: 0.3877, Epoch size: 53\n"
     ]
    },
    {
     "name": "stderr",
     "output_type": "stream",
     "text": [
      "100%|██████████| 4/4 [00:00<00:00, 217.27it/s]\n",
      "100%|██████████| 63/63 [00:00<00:00, 291.47it/s]\n"
     ]
    },
    {
     "name": "stdout",
     "output_type": "stream",
     "text": [
      "Epoch: 44/5000, Train: 0.3431, Val: 0.3675, Epoch size: 55\n"
     ]
    },
    {
     "name": "stderr",
     "output_type": "stream",
     "text": [
      "100%|██████████| 4/4 [00:00<00:00, 218.06it/s]\n",
      "100%|██████████| 63/63 [00:00<00:00, 292.80it/s]\n"
     ]
    },
    {
     "name": "stdout",
     "output_type": "stream",
     "text": [
      "Epoch: 45/5000, Train: 0.2840, Val: 0.3481, Epoch size: 57\n"
     ]
    },
    {
     "name": "stderr",
     "output_type": "stream",
     "text": [
      "100%|██████████| 4/4 [00:00<00:00, 213.81it/s]\n",
      "100%|██████████| 63/63 [00:00<00:00, 291.63it/s]\n"
     ]
    },
    {
     "name": "stdout",
     "output_type": "stream",
     "text": [
      "Epoch: 46/5000, Train: 0.2809, Val: 0.3315, Epoch size: 59\n"
     ]
    },
    {
     "name": "stderr",
     "output_type": "stream",
     "text": [
      "100%|██████████| 4/4 [00:00<00:00, 213.63it/s]\n",
      "100%|██████████| 63/63 [00:00<00:00, 291.51it/s]\n"
     ]
    },
    {
     "name": "stdout",
     "output_type": "stream",
     "text": [
      "Epoch: 47/5000, Train: 0.2714, Val: 0.3161, Epoch size: 61\n"
     ]
    },
    {
     "name": "stderr",
     "output_type": "stream",
     "text": [
      "100%|██████████| 4/4 [00:00<00:00, 191.99it/s]\n",
      "100%|██████████| 63/63 [00:00<00:00, 292.10it/s]\n"
     ]
    },
    {
     "name": "stdout",
     "output_type": "stream",
     "text": [
      "Epoch: 48/5000, Train: 0.2634, Val: 0.3029, Epoch size: 63\n"
     ]
    },
    {
     "name": "stderr",
     "output_type": "stream",
     "text": [
      "100%|██████████| 5/5 [00:00<00:00, 225.71it/s]\n",
      "100%|██████████| 63/63 [00:00<00:00, 290.62it/s]\n"
     ]
    },
    {
     "name": "stdout",
     "output_type": "stream",
     "text": [
      "Epoch: 49/5000, Train: 0.3005, Val: 0.2872, Epoch size: 65\n"
     ]
    },
    {
     "name": "stderr",
     "output_type": "stream",
     "text": [
      "100%|██████████| 5/5 [00:00<00:00, 218.70it/s]\n",
      "100%|██████████| 63/63 [00:00<00:00, 291.88it/s]\n"
     ]
    },
    {
     "name": "stdout",
     "output_type": "stream",
     "text": [
      "Epoch: 50/5000, Train: 0.2616, Val: 0.2721, Epoch size: 67\n"
     ]
    },
    {
     "name": "stderr",
     "output_type": "stream",
     "text": [
      "100%|██████████| 5/5 [00:00<00:00, 213.46it/s]\n",
      "100%|██████████| 63/63 [00:00<00:00, 291.72it/s]\n"
     ]
    },
    {
     "name": "stdout",
     "output_type": "stream",
     "text": [
      "Epoch: 51/5000, Train: 0.2826, Val: 0.2599, Epoch size: 69\n"
     ]
    },
    {
     "name": "stderr",
     "output_type": "stream",
     "text": [
      "100%|██████████| 5/5 [00:00<00:00, 210.52it/s]\n",
      "100%|██████████| 63/63 [00:00<00:00, 291.97it/s]\n"
     ]
    },
    {
     "name": "stdout",
     "output_type": "stream",
     "text": [
      "Epoch: 52/5000, Train: 0.2397, Val: 0.2494, Epoch size: 71\n"
     ]
    },
    {
     "name": "stderr",
     "output_type": "stream",
     "text": [
      "100%|██████████| 5/5 [00:00<00:00, 216.59it/s]\n",
      "100%|██████████| 63/63 [00:00<00:00, 291.79it/s]\n"
     ]
    },
    {
     "name": "stdout",
     "output_type": "stream",
     "text": [
      "Epoch: 53/5000, Train: 0.2280, Val: 0.2411, Epoch size: 73\n"
     ]
    },
    {
     "name": "stderr",
     "output_type": "stream",
     "text": [
      "100%|██████████| 5/5 [00:00<00:00, 203.83it/s]\n",
      "100%|██████████| 63/63 [00:00<00:00, 291.60it/s]\n"
     ]
    },
    {
     "name": "stdout",
     "output_type": "stream",
     "text": [
      "Epoch: 54/5000, Train: 0.2258, Val: 0.2356, Epoch size: 75\n"
     ]
    },
    {
     "name": "stderr",
     "output_type": "stream",
     "text": [
      "100%|██████████| 5/5 [00:00<00:00, 209.53it/s]\n",
      "100%|██████████| 63/63 [00:00<00:00, 291.66it/s]\n"
     ]
    },
    {
     "name": "stdout",
     "output_type": "stream",
     "text": [
      "Epoch: 55/5000, Train: 0.2273, Val: 0.2311, Epoch size: 77\n"
     ]
    },
    {
     "name": "stderr",
     "output_type": "stream",
     "text": [
      "100%|██████████| 5/5 [00:00<00:00, 198.83it/s]\n",
      "100%|██████████| 63/63 [00:00<00:00, 291.59it/s]\n"
     ]
    },
    {
     "name": "stdout",
     "output_type": "stream",
     "text": [
      "Epoch: 56/5000, Train: 0.2181, Val: 0.2273, Epoch size: 79\n"
     ]
    },
    {
     "name": "stderr",
     "output_type": "stream",
     "text": [
      "100%|██████████| 6/6 [00:00<00:00, 229.02it/s]\n",
      "100%|██████████| 63/63 [00:00<00:00, 291.19it/s]\n"
     ]
    },
    {
     "name": "stdout",
     "output_type": "stream",
     "text": [
      "Epoch: 57/5000, Train: 0.2290, Val: 0.2231, Epoch size: 81\n"
     ]
    },
    {
     "name": "stderr",
     "output_type": "stream",
     "text": [
      "100%|██████████| 6/6 [00:00<00:00, 230.41it/s]\n",
      "100%|██████████| 63/63 [00:00<00:00, 291.70it/s]\n"
     ]
    },
    {
     "name": "stdout",
     "output_type": "stream",
     "text": [
      "Epoch: 58/5000, Train: 0.2043, Val: 0.2187, Epoch size: 83\n"
     ]
    },
    {
     "name": "stderr",
     "output_type": "stream",
     "text": [
      "100%|██████████| 6/6 [00:00<00:00, 218.65it/s]\n",
      "100%|██████████| 63/63 [00:00<00:00, 291.71it/s]\n"
     ]
    },
    {
     "name": "stdout",
     "output_type": "stream",
     "text": [
      "Epoch: 59/5000, Train: 0.2544, Val: 0.2154, Epoch size: 85\n"
     ]
    },
    {
     "name": "stderr",
     "output_type": "stream",
     "text": [
      "100%|██████████| 6/6 [00:00<00:00, 213.09it/s]\n",
      "100%|██████████| 63/63 [00:00<00:00, 291.91it/s]\n"
     ]
    },
    {
     "name": "stdout",
     "output_type": "stream",
     "text": [
      "Epoch: 60/5000, Train: 0.2146, Val: 0.2121, Epoch size: 87\n"
     ]
    },
    {
     "name": "stderr",
     "output_type": "stream",
     "text": [
      "100%|██████████| 6/6 [00:00<00:00, 220.50it/s]\n",
      "100%|██████████| 63/63 [00:00<00:00, 291.55it/s]\n"
     ]
    },
    {
     "name": "stdout",
     "output_type": "stream",
     "text": [
      "Epoch: 61/5000, Train: 0.2229, Val: 0.2102, Epoch size: 89\n"
     ]
    },
    {
     "name": "stderr",
     "output_type": "stream",
     "text": [
      "100%|██████████| 6/6 [00:00<00:00, 217.45it/s]\n",
      "100%|██████████| 63/63 [00:00<00:00, 291.86it/s]\n"
     ]
    },
    {
     "name": "stdout",
     "output_type": "stream",
     "text": [
      "Epoch: 62/5000, Train: 0.2120, Val: 0.2081, Epoch size: 91\n"
     ]
    },
    {
     "name": "stderr",
     "output_type": "stream",
     "text": [
      "100%|██████████| 6/6 [00:00<00:00, 207.40it/s]\n",
      "100%|██████████| 63/63 [00:00<00:00, 291.65it/s]\n"
     ]
    },
    {
     "name": "stdout",
     "output_type": "stream",
     "text": [
      "Epoch: 63/5000, Train: 0.2126, Val: 0.2063, Epoch size: 93\n"
     ]
    },
    {
     "name": "stderr",
     "output_type": "stream",
     "text": [
      "100%|██████████| 6/6 [00:00<00:00, 211.99it/s]\n",
      "100%|██████████| 63/63 [00:00<00:00, 291.63it/s]\n"
     ]
    },
    {
     "name": "stdout",
     "output_type": "stream",
     "text": [
      "Epoch: 64/5000, Train: 0.2054, Val: 0.2043, Epoch size: 95\n"
     ]
    },
    {
     "name": "stderr",
     "output_type": "stream",
     "text": [
      "100%|██████████| 7/7 [00:00<00:00, 227.28it/s]\n",
      "100%|██████████| 63/63 [00:00<00:00, 291.54it/s]\n"
     ]
    },
    {
     "name": "stdout",
     "output_type": "stream",
     "text": [
      "Epoch: 65/5000, Train: 0.2058, Val: 0.2022, Epoch size: 97\n"
     ]
    },
    {
     "name": "stderr",
     "output_type": "stream",
     "text": [
      "100%|██████████| 7/7 [00:00<00:00, 220.98it/s]\n",
      "100%|██████████| 63/63 [00:00<00:00, 291.82it/s]\n"
     ]
    },
    {
     "name": "stdout",
     "output_type": "stream",
     "text": [
      "Epoch: 66/5000, Train: 0.2034, Val: 0.1988, Epoch size: 99\n"
     ]
    },
    {
     "name": "stderr",
     "output_type": "stream",
     "text": [
      "100%|██████████| 7/7 [00:00<00:00, 216.85it/s]\n",
      "100%|██████████| 63/63 [00:00<00:00, 291.28it/s]\n"
     ]
    },
    {
     "name": "stdout",
     "output_type": "stream",
     "text": [
      "Epoch: 67/5000, Train: 0.1970, Val: 0.1974, Epoch size: 101\n"
     ]
    },
    {
     "name": "stderr",
     "output_type": "stream",
     "text": [
      "100%|██████████| 7/7 [00:00<00:00, 219.90it/s]\n",
      "100%|██████████| 63/63 [00:00<00:00, 291.22it/s]\n"
     ]
    },
    {
     "name": "stdout",
     "output_type": "stream",
     "text": [
      "Epoch: 68/5000, Train: 0.1963, Val: 0.1954, Epoch size: 104\n"
     ]
    },
    {
     "name": "stderr",
     "output_type": "stream",
     "text": [
      "100%|██████████| 7/7 [00:00<00:00, 214.00it/s]\n",
      "100%|██████████| 63/63 [00:00<00:00, 291.52it/s]\n"
     ]
    },
    {
     "name": "stdout",
     "output_type": "stream",
     "text": [
      "Epoch: 69/5000, Train: 0.1877, Val: 0.1928, Epoch size: 107\n"
     ]
    },
    {
     "name": "stderr",
     "output_type": "stream",
     "text": [
      "100%|██████████| 7/7 [00:00<00:00, 208.22it/s]\n",
      "100%|██████████| 63/63 [00:00<00:00, 291.68it/s]\n"
     ]
    },
    {
     "name": "stdout",
     "output_type": "stream",
     "text": [
      "Epoch: 70/5000, Train: 0.2007, Val: 0.1904, Epoch size: 110\n"
     ]
    },
    {
     "name": "stderr",
     "output_type": "stream",
     "text": [
      "100%|██████████| 8/8 [00:00<00:00, 227.90it/s]\n",
      "100%|██████████| 63/63 [00:00<00:00, 291.75it/s]\n"
     ]
    },
    {
     "name": "stdout",
     "output_type": "stream",
     "text": [
      "Epoch: 71/5000, Train: 0.1855, Val: 0.1873, Epoch size: 113\n"
     ]
    },
    {
     "name": "stderr",
     "output_type": "stream",
     "text": [
      "100%|██████████| 8/8 [00:00<00:00, 216.30it/s]\n",
      "100%|██████████| 63/63 [00:00<00:00, 291.77it/s]\n"
     ]
    },
    {
     "name": "stdout",
     "output_type": "stream",
     "text": [
      "Epoch: 72/5000, Train: 0.1824, Val: 0.1839, Epoch size: 116\n"
     ]
    },
    {
     "name": "stderr",
     "output_type": "stream",
     "text": [
      "100%|██████████| 8/8 [00:00<00:00, 221.62it/s]\n",
      "100%|██████████| 63/63 [00:00<00:00, 291.76it/s]\n"
     ]
    },
    {
     "name": "stdout",
     "output_type": "stream",
     "text": [
      "Epoch: 73/5000, Train: 0.1901, Val: 0.1816, Epoch size: 119\n"
     ]
    },
    {
     "name": "stderr",
     "output_type": "stream",
     "text": [
      "100%|██████████| 8/8 [00:00<00:00, 218.31it/s]\n",
      "100%|██████████| 63/63 [00:00<00:00, 287.01it/s]\n"
     ]
    },
    {
     "name": "stdout",
     "output_type": "stream",
     "text": [
      "Epoch: 74/5000, Train: 0.1860, Val: 0.1793, Epoch size: 122\n"
     ]
    },
    {
     "name": "stderr",
     "output_type": "stream",
     "text": [
      "100%|██████████| 8/8 [00:00<00:00, 210.37it/s]\n",
      "100%|██████████| 63/63 [00:00<00:00, 291.21it/s]\n"
     ]
    },
    {
     "name": "stdout",
     "output_type": "stream",
     "text": [
      "Epoch: 75/5000, Train: 0.1798, Val: 0.1775, Epoch size: 125\n"
     ]
    },
    {
     "name": "stderr",
     "output_type": "stream",
     "text": [
      "100%|██████████| 8/8 [00:00<00:00, 204.67it/s]\n",
      "100%|██████████| 63/63 [00:00<00:00, 291.48it/s]\n"
     ]
    },
    {
     "name": "stdout",
     "output_type": "stream",
     "text": [
      "Epoch: 76/5000, Train: 0.1774, Val: 0.1753, Epoch size: 128\n"
     ]
    },
    {
     "name": "stderr",
     "output_type": "stream",
     "text": [
      "100%|██████████| 9/9 [00:00<00:00, 223.39it/s]\n",
      "100%|██████████| 63/63 [00:00<00:00, 291.77it/s]\n"
     ]
    },
    {
     "name": "stdout",
     "output_type": "stream",
     "text": [
      "Epoch: 77/5000, Train: 0.1810, Val: 0.1725, Epoch size: 131\n"
     ]
    },
    {
     "name": "stderr",
     "output_type": "stream",
     "text": [
      "100%|██████████| 9/9 [00:00<00:00, 224.81it/s]\n",
      "100%|██████████| 63/63 [00:00<00:00, 291.59it/s]\n"
     ]
    },
    {
     "name": "stdout",
     "output_type": "stream",
     "text": [
      "Epoch: 78/5000, Train: 0.1764, Val: 0.1696, Epoch size: 134\n"
     ]
    },
    {
     "name": "stderr",
     "output_type": "stream",
     "text": [
      "100%|██████████| 9/9 [00:00<00:00, 210.19it/s]\n",
      "100%|██████████| 63/63 [00:00<00:00, 291.01it/s]\n"
     ]
    },
    {
     "name": "stdout",
     "output_type": "stream",
     "text": [
      "Epoch: 79/5000, Train: 0.1749, Val: 0.1673, Epoch size: 137\n"
     ]
    },
    {
     "name": "stderr",
     "output_type": "stream",
     "text": [
      "100%|██████████| 9/9 [00:00<00:00, 208.25it/s]\n",
      "100%|██████████| 63/63 [00:00<00:00, 277.20it/s]\n"
     ]
    },
    {
     "name": "stdout",
     "output_type": "stream",
     "text": [
      "Epoch: 80/5000, Train: 0.1710, Val: 0.1651, Epoch size: 140\n"
     ]
    },
    {
     "name": "stderr",
     "output_type": "stream",
     "text": [
      "100%|██████████| 9/9 [00:00<00:00, 202.22it/s]\n",
      "100%|██████████| 63/63 [00:00<00:00, 288.40it/s]\n"
     ]
    },
    {
     "name": "stdout",
     "output_type": "stream",
     "text": [
      "Epoch: 81/5000, Train: 0.1641, Val: 0.1630, Epoch size: 143\n"
     ]
    },
    {
     "name": "stderr",
     "output_type": "stream",
     "text": [
      "100%|██████████| 10/10 [00:00<00:00, 188.05it/s]\n",
      "100%|██████████| 63/63 [00:00<00:00, 233.01it/s]\n"
     ]
    },
    {
     "name": "stdout",
     "output_type": "stream",
     "text": [
      "Epoch: 82/5000, Train: 0.1489, Val: 0.1606, Epoch size: 146\n"
     ]
    },
    {
     "name": "stderr",
     "output_type": "stream",
     "text": [
      "100%|██████████| 10/10 [00:00<00:00, 148.46it/s]\n",
      "100%|██████████| 63/63 [00:00<00:00, 218.12it/s]\n"
     ]
    },
    {
     "name": "stdout",
     "output_type": "stream",
     "text": [
      "Epoch: 83/5000, Train: 0.1604, Val: 0.1586, Epoch size: 149\n"
     ]
    },
    {
     "name": "stderr",
     "output_type": "stream",
     "text": [
      "100%|██████████| 10/10 [00:00<00:00, 148.31it/s]\n",
      "100%|██████████| 63/63 [00:00<00:00, 224.92it/s]\n"
     ]
    },
    {
     "name": "stdout",
     "output_type": "stream",
     "text": [
      "Epoch: 84/5000, Train: 0.1525, Val: 0.1564, Epoch size: 152\n"
     ]
    },
    {
     "name": "stderr",
     "output_type": "stream",
     "text": [
      "100%|██████████| 10/10 [00:00<00:00, 144.69it/s]\n",
      "100%|██████████| 63/63 [00:00<00:00, 225.68it/s]\n"
     ]
    },
    {
     "name": "stdout",
     "output_type": "stream",
     "text": [
      "Epoch: 85/5000, Train: 0.1556, Val: 0.1546, Epoch size: 156\n"
     ]
    },
    {
     "name": "stderr",
     "output_type": "stream",
     "text": [
      "100%|██████████| 10/10 [00:00<00:00, 173.67it/s]\n",
      "100%|██████████| 63/63 [00:00<00:00, 290.79it/s]\n"
     ]
    },
    {
     "name": "stdout",
     "output_type": "stream",
     "text": [
      "Epoch: 86/5000, Train: 0.1524, Val: 0.1532, Epoch size: 160\n"
     ]
    },
    {
     "name": "stderr",
     "output_type": "stream",
     "text": [
      "100%|██████████| 11/11 [00:00<00:00, 203.83it/s]\n",
      "100%|██████████| 63/63 [00:00<00:00, 292.58it/s]\n"
     ]
    },
    {
     "name": "stdout",
     "output_type": "stream",
     "text": [
      "Epoch: 87/5000, Train: 0.1488, Val: 0.1514, Epoch size: 164\n"
     ]
    },
    {
     "name": "stderr",
     "output_type": "stream",
     "text": [
      "100%|██████████| 11/11 [00:00<00:00, 201.12it/s]\n",
      "100%|██████████| 63/63 [00:00<00:00, 292.63it/s]\n"
     ]
    },
    {
     "name": "stdout",
     "output_type": "stream",
     "text": [
      "Epoch: 88/5000, Train: 0.1454, Val: 0.1494, Epoch size: 168\n"
     ]
    },
    {
     "name": "stderr",
     "output_type": "stream",
     "text": [
      "100%|██████████| 11/11 [00:00<00:00, 199.02it/s]\n",
      "100%|██████████| 63/63 [00:00<00:00, 292.78it/s]\n"
     ]
    },
    {
     "name": "stdout",
     "output_type": "stream",
     "text": [
      "Epoch: 89/5000, Train: 0.1424, Val: 0.1480, Epoch size: 172\n"
     ]
    },
    {
     "name": "stderr",
     "output_type": "stream",
     "text": [
      "100%|██████████| 11/11 [00:00<00:00, 196.50it/s]\n",
      "100%|██████████| 63/63 [00:00<00:00, 292.41it/s]\n"
     ]
    },
    {
     "name": "stdout",
     "output_type": "stream",
     "text": [
      "Epoch: 90/5000, Train: 0.1440, Val: 0.1466, Epoch size: 176\n"
     ]
    },
    {
     "name": "stderr",
     "output_type": "stream",
     "text": [
      "100%|██████████| 12/12 [00:00<00:00, 204.55it/s]\n",
      "100%|██████████| 63/63 [00:00<00:00, 292.59it/s]\n"
     ]
    },
    {
     "name": "stdout",
     "output_type": "stream",
     "text": [
      "Epoch: 91/5000, Train: 0.1399, Val: 0.1454, Epoch size: 180\n"
     ]
    },
    {
     "name": "stderr",
     "output_type": "stream",
     "text": [
      "100%|██████████| 12/12 [00:00<00:00, 201.74it/s]\n",
      "100%|██████████| 63/63 [00:00<00:00, 292.78it/s]\n"
     ]
    },
    {
     "name": "stdout",
     "output_type": "stream",
     "text": [
      "Epoch: 92/5000, Train: 0.1394, Val: 0.1451, Epoch size: 184\n"
     ]
    },
    {
     "name": "stderr",
     "output_type": "stream",
     "text": [
      "100%|██████████| 12/12 [00:00<00:00, 199.83it/s]\n",
      "100%|██████████| 63/63 [00:00<00:00, 292.49it/s]\n"
     ]
    },
    {
     "name": "stdout",
     "output_type": "stream",
     "text": [
      "Epoch: 93/5000, Train: 0.1391, Val: 0.1442, Epoch size: 188\n"
     ]
    },
    {
     "name": "stderr",
     "output_type": "stream",
     "text": [
      "100%|██████████| 12/12 [00:00<00:00, 196.59it/s]\n",
      "100%|██████████| 63/63 [00:00<00:00, 291.82it/s]\n"
     ]
    },
    {
     "name": "stdout",
     "output_type": "stream",
     "text": [
      "Epoch: 94/5000, Train: 0.1363, Val: 0.1430, Epoch size: 192\n"
     ]
    },
    {
     "name": "stderr",
     "output_type": "stream",
     "text": [
      "100%|██████████| 13/13 [00:00<00:00, 208.92it/s]\n",
      "100%|██████████| 63/63 [00:00<00:00, 245.45it/s]\n"
     ]
    },
    {
     "name": "stdout",
     "output_type": "stream",
     "text": [
      "Epoch: 95/5000, Train: 0.1339, Val: 0.1424, Epoch size: 196\n"
     ]
    },
    {
     "name": "stderr",
     "output_type": "stream",
     "text": [
      "100%|██████████| 13/13 [00:00<00:00, 209.68it/s]\n",
      "100%|██████████| 63/63 [00:00<00:00, 292.22it/s]\n"
     ]
    },
    {
     "name": "stdout",
     "output_type": "stream",
     "text": [
      "Epoch: 96/5000, Train: 0.1295, Val: 0.1423, Epoch size: 200\n"
     ]
    },
    {
     "name": "stderr",
     "output_type": "stream",
     "text": [
      "100%|██████████| 13/13 [00:00<00:00, 200.69it/s]\n",
      "100%|██████████| 63/63 [00:00<00:00, 292.42it/s]\n"
     ]
    },
    {
     "name": "stdout",
     "output_type": "stream",
     "text": [
      "Epoch: 97/5000, Train: 0.1329, Val: 0.1414, Epoch size: 204\n"
     ]
    },
    {
     "name": "stderr",
     "output_type": "stream",
     "text": [
      "100%|██████████| 14/14 [00:00<00:00, 202.97it/s]\n",
      "100%|██████████| 63/63 [00:00<00:00, 292.18it/s]\n"
     ]
    },
    {
     "name": "stdout",
     "output_type": "stream",
     "text": [
      "Epoch: 98/5000, Train: 0.1296, Val: 0.1411, Epoch size: 209\n"
     ]
    },
    {
     "name": "stderr",
     "output_type": "stream",
     "text": [
      "100%|██████████| 14/14 [00:00<00:00, 201.56it/s]\n",
      "100%|██████████| 63/63 [00:00<00:00, 292.58it/s]\n"
     ]
    },
    {
     "name": "stdout",
     "output_type": "stream",
     "text": [
      "Epoch: 99/5000, Train: 0.1331, Val: 0.1410, Epoch size: 214\n"
     ]
    },
    {
     "name": "stderr",
     "output_type": "stream",
     "text": [
      "100%|██████████| 14/14 [00:00<00:00, 198.13it/s]\n",
      "100%|██████████| 63/63 [00:00<00:00, 292.68it/s]\n"
     ]
    },
    {
     "name": "stdout",
     "output_type": "stream",
     "text": [
      "Epoch: 100/5000, Train: 0.1294, Val: 0.1403, Epoch size: 219\n"
     ]
    },
    {
     "name": "stderr",
     "output_type": "stream",
     "text": [
      "100%|██████████| 14/14 [00:00<00:00, 193.53it/s]\n",
      "100%|██████████| 63/63 [00:00<00:00, 288.74it/s]\n"
     ]
    },
    {
     "name": "stdout",
     "output_type": "stream",
     "text": [
      "Epoch: 101/5000, Train: 0.1321, Val: 0.1394, Epoch size: 224\n"
     ]
    },
    {
     "name": "stderr",
     "output_type": "stream",
     "text": [
      "100%|██████████| 15/15 [00:00<00:00, 191.93it/s]\n",
      "100%|██████████| 63/63 [00:00<00:00, 288.14it/s]\n"
     ]
    },
    {
     "name": "stdout",
     "output_type": "stream",
     "text": [
      "Epoch: 102/5000, Train: 0.1309, Val: 0.1387, Epoch size: 229\n"
     ]
    },
    {
     "name": "stderr",
     "output_type": "stream",
     "text": [
      "100%|██████████| 15/15 [00:00<00:00, 197.90it/s]\n",
      "100%|██████████| 63/63 [00:00<00:00, 292.62it/s]\n"
     ]
    },
    {
     "name": "stdout",
     "output_type": "stream",
     "text": [
      "Epoch: 103/5000, Train: 0.1313, Val: 0.1382, Epoch size: 234\n"
     ]
    },
    {
     "name": "stderr",
     "output_type": "stream",
     "text": [
      "100%|██████████| 15/15 [00:00<00:00, 148.04it/s]\n",
      "100%|██████████| 63/63 [00:00<00:00, 291.48it/s]\n"
     ]
    },
    {
     "name": "stdout",
     "output_type": "stream",
     "text": [
      "Epoch: 104/5000, Train: 0.1328, Val: 0.1383, Epoch size: 239\n"
     ]
    },
    {
     "name": "stderr",
     "output_type": "stream",
     "text": [
      "100%|██████████| 16/16 [00:00<00:00, 202.65it/s]\n",
      "100%|██████████| 63/63 [00:00<00:00, 291.32it/s]\n"
     ]
    },
    {
     "name": "stdout",
     "output_type": "stream",
     "text": [
      "Epoch: 105/5000, Train: 0.1269, Val: 0.1380, Epoch size: 244\n"
     ]
    },
    {
     "name": "stderr",
     "output_type": "stream",
     "text": [
      "100%|██████████| 16/16 [00:00<00:00, 198.20it/s]\n",
      "100%|██████████| 63/63 [00:00<00:00, 291.67it/s]\n"
     ]
    },
    {
     "name": "stdout",
     "output_type": "stream",
     "text": [
      "Epoch: 106/5000, Train: 0.1282, Val: 0.1378, Epoch size: 249\n"
     ]
    },
    {
     "name": "stderr",
     "output_type": "stream",
     "text": [
      "100%|██████████| 16/16 [00:00<00:00, 197.37it/s]\n",
      "100%|██████████| 63/63 [00:00<00:00, 291.78it/s]\n"
     ]
    },
    {
     "name": "stdout",
     "output_type": "stream",
     "text": [
      "Epoch: 107/5000, Train: 0.1266, Val: 0.1372, Epoch size: 254\n"
     ]
    },
    {
     "name": "stderr",
     "output_type": "stream",
     "text": [
      "100%|██████████| 17/17 [00:00<00:00, 201.41it/s]\n",
      "100%|██████████| 63/63 [00:00<00:00, 291.77it/s]\n"
     ]
    },
    {
     "name": "stdout",
     "output_type": "stream",
     "text": [
      "Epoch: 108/5000, Train: 0.1256, Val: 0.1373, Epoch size: 260\n"
     ]
    },
    {
     "name": "stderr",
     "output_type": "stream",
     "text": [
      "100%|██████████| 17/17 [00:00<00:00, 197.82it/s]\n",
      "100%|██████████| 63/63 [00:00<00:00, 291.76it/s]\n"
     ]
    },
    {
     "name": "stdout",
     "output_type": "stream",
     "text": [
      "Epoch: 109/5000, Train: 0.1244, Val: 0.1376, Epoch size: 266\n"
     ]
    },
    {
     "name": "stderr",
     "output_type": "stream",
     "text": [
      "100%|██████████| 17/17 [00:00<00:00, 194.16it/s]\n",
      "100%|██████████| 63/63 [00:00<00:00, 291.69it/s]\n"
     ]
    },
    {
     "name": "stdout",
     "output_type": "stream",
     "text": [
      "Epoch: 110/5000, Train: 0.1255, Val: 0.1372, Epoch size: 272\n"
     ]
    },
    {
     "name": "stderr",
     "output_type": "stream",
     "text": [
      "100%|██████████| 18/18 [00:00<00:00, 200.08it/s]\n",
      "100%|██████████| 63/63 [00:00<00:00, 290.99it/s]\n"
     ]
    },
    {
     "name": "stdout",
     "output_type": "stream",
     "text": [
      "Epoch: 111/5000, Train: 0.1226, Val: 0.1370, Epoch size: 278\n"
     ]
    },
    {
     "name": "stderr",
     "output_type": "stream",
     "text": [
      "100%|██████████| 18/18 [00:00<00:00, 196.68it/s]\n",
      "100%|██████████| 63/63 [00:00<00:00, 291.97it/s]\n"
     ]
    },
    {
     "name": "stdout",
     "output_type": "stream",
     "text": [
      "Epoch: 112/5000, Train: 0.1261, Val: 0.1366, Epoch size: 284\n"
     ]
    },
    {
     "name": "stderr",
     "output_type": "stream",
     "text": [
      "100%|██████████| 19/19 [00:00<00:00, 201.83it/s]\n",
      "100%|██████████| 63/63 [00:00<00:00, 292.00it/s]\n"
     ]
    },
    {
     "name": "stdout",
     "output_type": "stream",
     "text": [
      "Epoch: 113/5000, Train: 0.1225, Val: 0.1370, Epoch size: 290\n"
     ]
    },
    {
     "name": "stderr",
     "output_type": "stream",
     "text": [
      "100%|██████████| 19/19 [00:00<00:00, 197.69it/s]\n",
      "100%|██████████| 63/63 [00:00<00:00, 291.35it/s]\n"
     ]
    },
    {
     "name": "stdout",
     "output_type": "stream",
     "text": [
      "Epoch: 114/5000, Train: 0.1279, Val: 0.1368, Epoch size: 296\n"
     ]
    },
    {
     "name": "stderr",
     "output_type": "stream",
     "text": [
      "100%|██████████| 19/19 [00:00<00:00, 197.44it/s]\n",
      "100%|██████████| 63/63 [00:00<00:00, 291.29it/s]\n"
     ]
    },
    {
     "name": "stdout",
     "output_type": "stream",
     "text": [
      "Epoch: 115/5000, Train: 0.1274, Val: 0.1371, Epoch size: 302\n"
     ]
    },
    {
     "name": "stderr",
     "output_type": "stream",
     "text": [
      "100%|██████████| 20/20 [00:00<00:00, 201.18it/s]\n",
      "100%|██████████| 63/63 [00:00<00:00, 289.19it/s]\n"
     ]
    },
    {
     "name": "stdout",
     "output_type": "stream",
     "text": [
      "Epoch: 116/5000, Train: 0.1290, Val: 0.1364, Epoch size: 309\n"
     ]
    },
    {
     "name": "stderr",
     "output_type": "stream",
     "text": [
      "100%|██████████| 20/20 [00:00<00:00, 195.22it/s]\n",
      "100%|██████████| 63/63 [00:00<00:00, 291.15it/s]\n"
     ]
    },
    {
     "name": "stdout",
     "output_type": "stream",
     "text": [
      "Epoch: 117/5000, Train: 0.1269, Val: 0.1363, Epoch size: 316\n"
     ]
    },
    {
     "name": "stderr",
     "output_type": "stream",
     "text": [
      "100%|██████████| 21/21 [00:00<00:00, 196.39it/s]\n",
      "100%|██████████| 63/63 [00:00<00:00, 291.61it/s]\n"
     ]
    },
    {
     "name": "stdout",
     "output_type": "stream",
     "text": [
      "Epoch: 118/5000, Train: 0.1309, Val: 0.1367, Epoch size: 323\n"
     ]
    },
    {
     "name": "stderr",
     "output_type": "stream",
     "text": [
      "100%|██████████| 21/21 [00:00<00:00, 194.16it/s]\n",
      "100%|██████████| 63/63 [00:00<00:00, 291.60it/s]\n"
     ]
    },
    {
     "name": "stdout",
     "output_type": "stream",
     "text": [
      "Epoch: 119/5000, Train: 0.1290, Val: 0.1361, Epoch size: 330\n"
     ]
    },
    {
     "name": "stderr",
     "output_type": "stream",
     "text": [
      "100%|██████████| 22/22 [00:00<00:00, 198.15it/s]\n",
      "100%|██████████| 63/63 [00:00<00:00, 291.44it/s]\n"
     ]
    },
    {
     "name": "stdout",
     "output_type": "stream",
     "text": [
      "Epoch: 120/5000, Train: 0.1230, Val: 0.1368, Epoch size: 337\n"
     ]
    },
    {
     "name": "stderr",
     "output_type": "stream",
     "text": [
      "100%|██████████| 22/22 [00:00<00:00, 195.90it/s]\n",
      "100%|██████████| 63/63 [00:00<00:00, 292.01it/s]\n"
     ]
    },
    {
     "name": "stdout",
     "output_type": "stream",
     "text": [
      "Epoch: 121/5000, Train: 0.1260, Val: 0.1367, Epoch size: 344\n"
     ]
    },
    {
     "name": "stderr",
     "output_type": "stream",
     "text": [
      "100%|██████████| 22/22 [00:00<00:00, 192.92it/s]\n",
      "100%|██████████| 63/63 [00:00<00:00, 291.68it/s]\n"
     ]
    },
    {
     "name": "stdout",
     "output_type": "stream",
     "text": [
      "Epoch: 122/5000, Train: 0.1263, Val: 0.1359, Epoch size: 351\n"
     ]
    },
    {
     "name": "stderr",
     "output_type": "stream",
     "text": [
      "100%|██████████| 23/23 [00:00<00:00, 197.21it/s]\n",
      "100%|██████████| 63/63 [00:00<00:00, 291.37it/s]\n"
     ]
    },
    {
     "name": "stdout",
     "output_type": "stream",
     "text": [
      "Epoch: 123/5000, Train: 0.1261, Val: 0.1364, Epoch size: 359\n"
     ]
    },
    {
     "name": "stderr",
     "output_type": "stream",
     "text": [
      "100%|██████████| 23/23 [00:00<00:00, 192.74it/s]\n",
      "100%|██████████| 63/63 [00:00<00:00, 291.46it/s]\n"
     ]
    },
    {
     "name": "stdout",
     "output_type": "stream",
     "text": [
      "Epoch: 124/5000, Train: 0.1251, Val: 0.1360, Epoch size: 367\n"
     ]
    },
    {
     "name": "stderr",
     "output_type": "stream",
     "text": [
      "100%|██████████| 24/24 [00:00<00:00, 198.17it/s]\n",
      "100%|██████████| 63/63 [00:00<00:00, 291.44it/s]\n"
     ]
    },
    {
     "name": "stdout",
     "output_type": "stream",
     "text": [
      "Epoch: 125/5000, Train: 0.1252, Val: 0.1363, Epoch size: 375\n"
     ]
    },
    {
     "name": "stderr",
     "output_type": "stream",
     "text": [
      "100%|██████████| 24/24 [00:00<00:00, 194.58it/s]\n",
      "100%|██████████| 63/63 [00:00<00:00, 290.97it/s]\n"
     ]
    },
    {
     "name": "stdout",
     "output_type": "stream",
     "text": [
      "Epoch: 126/5000, Train: 0.1250, Val: 0.1356, Epoch size: 383\n"
     ]
    },
    {
     "name": "stderr",
     "output_type": "stream",
     "text": [
      "100%|██████████| 25/25 [00:00<00:00, 192.62it/s]\n",
      "100%|██████████| 63/63 [00:00<00:00, 282.89it/s]\n"
     ]
    },
    {
     "name": "stdout",
     "output_type": "stream",
     "text": [
      "Epoch: 127/5000, Train: 0.1237, Val: 0.1359, Epoch size: 391\n"
     ]
    },
    {
     "name": "stderr",
     "output_type": "stream",
     "text": [
      "100%|██████████| 25/25 [00:00<00:00, 191.81it/s]\n",
      "100%|██████████| 63/63 [00:00<00:00, 290.63it/s]\n"
     ]
    },
    {
     "name": "stdout",
     "output_type": "stream",
     "text": [
      "Epoch: 128/5000, Train: 0.1238, Val: 0.1349, Epoch size: 399\n"
     ]
    },
    {
     "name": "stderr",
     "output_type": "stream",
     "text": [
      "100%|██████████| 26/26 [00:00<00:00, 195.99it/s]\n",
      "100%|██████████| 63/63 [00:00<00:00, 291.23it/s]\n"
     ]
    },
    {
     "name": "stdout",
     "output_type": "stream",
     "text": [
      "Epoch: 129/5000, Train: 0.1217, Val: 0.1348, Epoch size: 407\n"
     ]
    },
    {
     "name": "stderr",
     "output_type": "stream",
     "text": [
      "100%|██████████| 26/26 [00:00<00:00, 195.49it/s]\n",
      "100%|██████████| 63/63 [00:00<00:00, 289.99it/s]\n"
     ]
    },
    {
     "name": "stdout",
     "output_type": "stream",
     "text": [
      "Epoch: 130/5000, Train: 0.1209, Val: 0.1344, Epoch size: 416\n"
     ]
    },
    {
     "name": "stderr",
     "output_type": "stream",
     "text": [
      "100%|██████████| 27/27 [00:00<00:00, 196.20it/s]\n",
      "100%|██████████| 63/63 [00:00<00:00, 286.53it/s]\n"
     ]
    },
    {
     "name": "stdout",
     "output_type": "stream",
     "text": [
      "Epoch: 131/5000, Train: 0.1249, Val: 0.1339, Epoch size: 425\n"
     ]
    },
    {
     "name": "stderr",
     "output_type": "stream",
     "text": [
      "100%|██████████| 28/28 [00:00<00:00, 195.74it/s]\n",
      "100%|██████████| 63/63 [00:00<00:00, 290.90it/s]\n"
     ]
    },
    {
     "name": "stdout",
     "output_type": "stream",
     "text": [
      "Epoch: 132/5000, Train: 0.1214, Val: 0.1335, Epoch size: 434\n"
     ]
    },
    {
     "name": "stderr",
     "output_type": "stream",
     "text": [
      "100%|██████████| 28/28 [00:00<00:00, 194.58it/s]\n",
      "100%|██████████| 63/63 [00:00<00:00, 290.73it/s]\n"
     ]
    },
    {
     "name": "stdout",
     "output_type": "stream",
     "text": [
      "Epoch: 133/5000, Train: 0.1253, Val: 0.1331, Epoch size: 443\n"
     ]
    },
    {
     "name": "stderr",
     "output_type": "stream",
     "text": [
      "100%|██████████| 29/29 [00:00<00:00, 196.22it/s]\n",
      "100%|██████████| 63/63 [00:00<00:00, 290.60it/s]\n"
     ]
    },
    {
     "name": "stdout",
     "output_type": "stream",
     "text": [
      "Epoch: 134/5000, Train: 0.1238, Val: 0.1327, Epoch size: 452\n"
     ]
    },
    {
     "name": "stderr",
     "output_type": "stream",
     "text": [
      "100%|██████████| 29/29 [00:00<00:00, 194.58it/s]\n",
      "100%|██████████| 63/63 [00:00<00:00, 291.48it/s]\n"
     ]
    },
    {
     "name": "stdout",
     "output_type": "stream",
     "text": [
      "Epoch: 135/5000, Train: 0.1251, Val: 0.1327, Epoch size: 462\n"
     ]
    },
    {
     "name": "stderr",
     "output_type": "stream",
     "text": [
      "100%|██████████| 30/30 [00:00<00:00, 195.29it/s]\n",
      "100%|██████████| 63/63 [00:00<00:00, 291.69it/s]\n"
     ]
    },
    {
     "name": "stdout",
     "output_type": "stream",
     "text": [
      "Epoch: 136/5000, Train: 0.1276, Val: 0.1321, Epoch size: 472\n"
     ]
    },
    {
     "name": "stderr",
     "output_type": "stream",
     "text": [
      "100%|██████████| 31/31 [00:00<00:00, 198.08it/s]\n",
      "100%|██████████| 63/63 [00:00<00:00, 291.20it/s]\n"
     ]
    },
    {
     "name": "stdout",
     "output_type": "stream",
     "text": [
      "Epoch: 137/5000, Train: 0.1328, Val: 0.1317, Epoch size: 482\n"
     ]
    },
    {
     "name": "stderr",
     "output_type": "stream",
     "text": [
      "100%|██████████| 31/31 [00:00<00:00, 196.73it/s]\n",
      "100%|██████████| 63/63 [00:00<00:00, 283.71it/s]\n"
     ]
    },
    {
     "name": "stdout",
     "output_type": "stream",
     "text": [
      "Epoch: 138/5000, Train: 0.1279, Val: 0.1316, Epoch size: 492\n"
     ]
    },
    {
     "name": "stderr",
     "output_type": "stream",
     "text": [
      "100%|██████████| 32/32 [00:00<00:00, 209.27it/s]\n",
      "100%|██████████| 63/63 [00:00<00:00, 284.93it/s]\n"
     ]
    },
    {
     "name": "stdout",
     "output_type": "stream",
     "text": [
      "Epoch: 139/5000, Train: 0.1246, Val: 0.1313, Epoch size: 502\n"
     ]
    },
    {
     "name": "stderr",
     "output_type": "stream",
     "text": [
      "100%|██████████| 33/33 [00:00<00:00, 200.41it/s]\n",
      "100%|██████████| 63/63 [00:00<00:00, 290.71it/s]\n"
     ]
    },
    {
     "name": "stdout",
     "output_type": "stream",
     "text": [
      "Epoch: 140/5000, Train: 0.1250, Val: 0.1310, Epoch size: 513\n"
     ]
    },
    {
     "name": "stderr",
     "output_type": "stream",
     "text": [
      "100%|██████████| 33/33 [00:00<00:00, 199.21it/s]\n",
      "100%|██████████| 63/63 [00:00<00:00, 291.40it/s]\n"
     ]
    },
    {
     "name": "stdout",
     "output_type": "stream",
     "text": [
      "Epoch: 141/5000, Train: 0.1231, Val: 0.1309, Epoch size: 524\n"
     ]
    },
    {
     "name": "stderr",
     "output_type": "stream",
     "text": [
      "100%|██████████| 34/34 [00:00<00:00, 197.83it/s]\n",
      "100%|██████████| 63/63 [00:00<00:00, 292.48it/s]\n"
     ]
    },
    {
     "name": "stdout",
     "output_type": "stream",
     "text": [
      "Epoch: 142/5000, Train: 0.1231, Val: 0.1309, Epoch size: 535\n"
     ]
    },
    {
     "name": "stderr",
     "output_type": "stream",
     "text": [
      "100%|██████████| 35/35 [00:00<00:00, 198.97it/s]\n",
      "100%|██████████| 63/63 [00:00<00:00, 291.83it/s]\n"
     ]
    },
    {
     "name": "stdout",
     "output_type": "stream",
     "text": [
      "Epoch: 143/5000, Train: 0.1201, Val: 0.1313, Epoch size: 546\n"
     ]
    },
    {
     "name": "stderr",
     "output_type": "stream",
     "text": [
      "100%|██████████| 35/35 [00:00<00:00, 197.57it/s]\n",
      "100%|██████████| 63/63 [00:00<00:00, 292.55it/s]\n"
     ]
    },
    {
     "name": "stdout",
     "output_type": "stream",
     "text": [
      "Epoch: 144/5000, Train: 0.1209, Val: 0.1302, Epoch size: 557\n"
     ]
    },
    {
     "name": "stderr",
     "output_type": "stream",
     "text": [
      "100%|██████████| 36/36 [00:00<00:00, 196.70it/s]\n",
      "100%|██████████| 63/63 [00:00<00:00, 292.95it/s]\n"
     ]
    },
    {
     "name": "stdout",
     "output_type": "stream",
     "text": [
      "Epoch: 145/5000, Train: 0.1217, Val: 0.1299, Epoch size: 569\n"
     ]
    },
    {
     "name": "stderr",
     "output_type": "stream",
     "text": [
      "100%|██████████| 37/37 [00:00<00:00, 199.29it/s]\n",
      "100%|██████████| 63/63 [00:00<00:00, 292.97it/s]\n"
     ]
    },
    {
     "name": "stdout",
     "output_type": "stream",
     "text": [
      "Epoch: 146/5000, Train: 0.1239, Val: 0.1299, Epoch size: 581\n"
     ]
    },
    {
     "name": "stderr",
     "output_type": "stream",
     "text": [
      "100%|██████████| 38/38 [00:00<00:00, 198.95it/s]\n",
      "100%|██████████| 63/63 [00:00<00:00, 292.86it/s]\n"
     ]
    },
    {
     "name": "stdout",
     "output_type": "stream",
     "text": [
      "Epoch: 147/5000, Train: 0.1181, Val: 0.1297, Epoch size: 593\n"
     ]
    },
    {
     "name": "stderr",
     "output_type": "stream",
     "text": [
      "100%|██████████| 38/38 [00:00<00:00, 197.25it/s]\n",
      "100%|██████████| 63/63 [00:00<00:00, 287.16it/s]\n"
     ]
    },
    {
     "name": "stdout",
     "output_type": "stream",
     "text": [
      "Epoch: 148/5000, Train: 0.1207, Val: 0.1296, Epoch size: 605\n"
     ]
    },
    {
     "name": "stderr",
     "output_type": "stream",
     "text": [
      "100%|██████████| 39/39 [00:00<00:00, 191.95it/s]\n",
      "100%|██████████| 63/63 [00:00<00:00, 284.63it/s]\n"
     ]
    },
    {
     "name": "stdout",
     "output_type": "stream",
     "text": [
      "Epoch: 149/5000, Train: 0.1192, Val: 0.1288, Epoch size: 618\n"
     ]
    },
    {
     "name": "stderr",
     "output_type": "stream",
     "text": [
      "100%|██████████| 40/40 [00:00<00:00, 196.10it/s]\n",
      "100%|██████████| 63/63 [00:00<00:00, 292.66it/s]\n"
     ]
    },
    {
     "name": "stdout",
     "output_type": "stream",
     "text": [
      "Epoch: 150/5000, Train: 0.1216, Val: 0.1293, Epoch size: 631\n"
     ]
    },
    {
     "name": "stderr",
     "output_type": "stream",
     "text": [
      "100%|██████████| 41/41 [00:00<00:00, 196.11it/s]\n",
      "100%|██████████| 63/63 [00:00<00:00, 292.86it/s]\n"
     ]
    },
    {
     "name": "stdout",
     "output_type": "stream",
     "text": [
      "Epoch: 151/5000, Train: 0.1194, Val: 0.1303, Epoch size: 644\n"
     ]
    },
    {
     "name": "stderr",
     "output_type": "stream",
     "text": [
      "100%|██████████| 42/42 [00:00<00:00, 196.46it/s]\n",
      "100%|██████████| 63/63 [00:00<00:00, 292.82it/s]\n"
     ]
    },
    {
     "name": "stdout",
     "output_type": "stream",
     "text": [
      "Epoch: 152/5000, Train: 0.1216, Val: 0.1284, Epoch size: 657\n"
     ]
    },
    {
     "name": "stderr",
     "output_type": "stream",
     "text": [
      "100%|██████████| 42/42 [00:00<00:00, 194.07it/s]\n",
      "100%|██████████| 63/63 [00:00<00:00, 292.39it/s]\n"
     ]
    },
    {
     "name": "stdout",
     "output_type": "stream",
     "text": [
      "Epoch: 153/5000, Train: 0.1197, Val: 0.1307, Epoch size: 671\n"
     ]
    },
    {
     "name": "stderr",
     "output_type": "stream",
     "text": [
      "100%|██████████| 43/43 [00:00<00:00, 195.87it/s]\n",
      "100%|██████████| 63/63 [00:00<00:00, 293.04it/s]\n"
     ]
    },
    {
     "name": "stdout",
     "output_type": "stream",
     "text": [
      "Epoch: 154/5000, Train: 0.1198, Val: 0.1283, Epoch size: 685\n"
     ]
    },
    {
     "name": "stderr",
     "output_type": "stream",
     "text": [
      "100%|██████████| 44/44 [00:00<00:00, 196.54it/s]\n",
      "100%|██████████| 63/63 [00:00<00:00, 292.64it/s]\n"
     ]
    },
    {
     "name": "stdout",
     "output_type": "stream",
     "text": [
      "Epoch: 155/5000, Train: 0.1183, Val: 0.1275, Epoch size: 699\n"
     ]
    },
    {
     "name": "stderr",
     "output_type": "stream",
     "text": [
      "100%|██████████| 45/45 [00:00<00:00, 196.17it/s]\n",
      "100%|██████████| 63/63 [00:00<00:00, 264.28it/s]\n"
     ]
    },
    {
     "name": "stdout",
     "output_type": "stream",
     "text": [
      "Epoch: 156/5000, Train: 0.1196, Val: 0.1276, Epoch size: 713\n"
     ]
    },
    {
     "name": "stderr",
     "output_type": "stream",
     "text": [
      "100%|██████████| 46/46 [00:00<00:00, 196.08it/s]\n",
      "100%|██████████| 63/63 [00:00<00:00, 292.52it/s]\n"
     ]
    },
    {
     "name": "stdout",
     "output_type": "stream",
     "text": [
      "Epoch: 157/5000, Train: 0.1193, Val: 0.1286, Epoch size: 728\n"
     ]
    },
    {
     "name": "stderr",
     "output_type": "stream",
     "text": [
      "100%|██████████| 47/47 [00:00<00:00, 195.95it/s]\n",
      "100%|██████████| 63/63 [00:00<00:00, 292.91it/s]\n"
     ]
    },
    {
     "name": "stdout",
     "output_type": "stream",
     "text": [
      "Epoch: 158/5000, Train: 0.1176, Val: 0.1272, Epoch size: 743\n"
     ]
    },
    {
     "name": "stderr",
     "output_type": "stream",
     "text": [
      "100%|██████████| 48/48 [00:00<00:00, 197.75it/s]\n",
      "100%|██████████| 63/63 [00:00<00:00, 292.79it/s]\n"
     ]
    },
    {
     "name": "stdout",
     "output_type": "stream",
     "text": [
      "Epoch: 159/5000, Train: 0.1170, Val: 0.1260, Epoch size: 758\n"
     ]
    },
    {
     "name": "stderr",
     "output_type": "stream",
     "text": [
      "100%|██████████| 49/49 [00:00<00:00, 197.50it/s]\n",
      "100%|██████████| 63/63 [00:00<00:00, 292.80it/s]\n"
     ]
    },
    {
     "name": "stdout",
     "output_type": "stream",
     "text": [
      "Epoch: 160/5000, Train: 0.1173, Val: 0.1304, Epoch size: 774\n"
     ]
    },
    {
     "name": "stderr",
     "output_type": "stream",
     "text": [
      "100%|██████████| 50/50 [00:00<00:00, 197.82it/s]\n",
      "100%|██████████| 63/63 [00:00<00:00, 293.38it/s]\n"
     ]
    },
    {
     "name": "stdout",
     "output_type": "stream",
     "text": [
      "Epoch: 161/5000, Train: 0.1156, Val: 0.1253, Epoch size: 790\n"
     ]
    },
    {
     "name": "stderr",
     "output_type": "stream",
     "text": [
      "100%|██████████| 51/51 [00:00<00:00, 198.43it/s]\n",
      "100%|██████████| 63/63 [00:00<00:00, 293.17it/s]\n"
     ]
    },
    {
     "name": "stdout",
     "output_type": "stream",
     "text": [
      "Epoch: 162/5000, Train: 0.1161, Val: 0.1254, Epoch size: 806\n"
     ]
    },
    {
     "name": "stderr",
     "output_type": "stream",
     "text": [
      "100%|██████████| 52/52 [00:00<00:00, 197.66it/s]\n",
      "100%|██████████| 63/63 [00:00<00:00, 293.72it/s]\n"
     ]
    },
    {
     "name": "stdout",
     "output_type": "stream",
     "text": [
      "Epoch: 163/5000, Train: 0.1173, Val: 0.1250, Epoch size: 823\n"
     ]
    },
    {
     "name": "stderr",
     "output_type": "stream",
     "text": [
      "100%|██████████| 53/53 [00:00<00:00, 198.67it/s]\n",
      "100%|██████████| 63/63 [00:00<00:00, 293.86it/s]\n"
     ]
    },
    {
     "name": "stdout",
     "output_type": "stream",
     "text": [
      "Epoch: 164/5000, Train: 0.1172, Val: 0.1242, Epoch size: 840\n"
     ]
    },
    {
     "name": "stderr",
     "output_type": "stream",
     "text": [
      "100%|██████████| 54/54 [00:00<00:00, 196.50it/s]\n",
      "100%|██████████| 63/63 [00:00<00:00, 294.29it/s]\n"
     ]
    },
    {
     "name": "stdout",
     "output_type": "stream",
     "text": [
      "Epoch: 165/5000, Train: 0.1158, Val: 0.1248, Epoch size: 857\n"
     ]
    },
    {
     "name": "stderr",
     "output_type": "stream",
     "text": [
      "100%|██████████| 55/55 [00:00<00:00, 196.57it/s]\n",
      "100%|██████████| 63/63 [00:00<00:00, 294.01it/s]\n"
     ]
    },
    {
     "name": "stdout",
     "output_type": "stream",
     "text": [
      "Epoch: 166/5000, Train: 0.1153, Val: 0.1266, Epoch size: 875\n"
     ]
    },
    {
     "name": "stderr",
     "output_type": "stream",
     "text": [
      "100%|██████████| 56/56 [00:00<00:00, 192.73it/s]\n",
      "100%|██████████| 63/63 [00:00<00:00, 287.38it/s]\n"
     ]
    },
    {
     "name": "stdout",
     "output_type": "stream",
     "text": [
      "Epoch: 167/5000, Train: 0.1140, Val: 0.1245, Epoch size: 893\n"
     ]
    },
    {
     "name": "stderr",
     "output_type": "stream",
     "text": [
      "100%|██████████| 57/57 [00:00<00:00, 195.70it/s]\n",
      "100%|██████████| 63/63 [00:00<00:00, 292.03it/s]\n"
     ]
    },
    {
     "name": "stdout",
     "output_type": "stream",
     "text": [
      "Epoch: 168/5000, Train: 0.1125, Val: 0.1245, Epoch size: 911\n"
     ]
    },
    {
     "name": "stderr",
     "output_type": "stream",
     "text": [
      "100%|██████████| 59/59 [00:00<00:00, 196.46it/s]\n",
      "100%|██████████| 63/63 [00:00<00:00, 293.15it/s]\n"
     ]
    },
    {
     "name": "stdout",
     "output_type": "stream",
     "text": [
      "Epoch: 169/5000, Train: 0.1124, Val: 0.1237, Epoch size: 930\n"
     ]
    },
    {
     "name": "stderr",
     "output_type": "stream",
     "text": [
      "100%|██████████| 60/60 [00:00<00:00, 196.21it/s]\n",
      "100%|██████████| 63/63 [00:00<00:00, 292.89it/s]\n"
     ]
    },
    {
     "name": "stdout",
     "output_type": "stream",
     "text": [
      "Epoch: 170/5000, Train: 0.1131, Val: 0.1236, Epoch size: 949\n"
     ]
    },
    {
     "name": "stderr",
     "output_type": "stream",
     "text": [
      "100%|██████████| 61/61 [00:00<00:00, 197.56it/s]\n",
      "100%|██████████| 63/63 [00:00<00:00, 293.03it/s]\n"
     ]
    },
    {
     "name": "stdout",
     "output_type": "stream",
     "text": [
      "Epoch: 171/5000, Train: 0.1119, Val: 0.1230, Epoch size: 968\n"
     ]
    },
    {
     "name": "stderr",
     "output_type": "stream",
     "text": [
      "100%|██████████| 62/62 [00:00<00:00, 196.51it/s]\n",
      "100%|██████████| 63/63 [00:00<00:00, 293.09it/s]\n"
     ]
    },
    {
     "name": "stdout",
     "output_type": "stream",
     "text": [
      "Epoch: 172/5000, Train: 0.1117, Val: 0.1229, Epoch size: 988\n"
     ]
    },
    {
     "name": "stderr",
     "output_type": "stream",
     "text": [
      "100%|██████████| 63/63 [00:00<00:00, 195.06it/s]\n",
      "100%|██████████| 63/63 [00:00<00:00, 293.05it/s]\n"
     ]
    },
    {
     "name": "stdout",
     "output_type": "stream",
     "text": [
      "Epoch: 173/5000, Train: 0.1107, Val: 0.1228, Epoch size: 1008\n"
     ]
    },
    {
     "name": "stderr",
     "output_type": "stream",
     "text": [
      "100%|██████████| 65/65 [00:00<00:00, 196.36it/s]\n",
      "100%|██████████| 63/63 [00:00<00:00, 292.84it/s]\n"
     ]
    },
    {
     "name": "stdout",
     "output_type": "stream",
     "text": [
      "Epoch: 174/5000, Train: 0.1119, Val: 0.1227, Epoch size: 1029\n"
     ]
    },
    {
     "name": "stderr",
     "output_type": "stream",
     "text": [
      "100%|██████████| 66/66 [00:00<00:00, 197.06it/s]\n",
      "100%|██████████| 63/63 [00:00<00:00, 293.88it/s]\n"
     ]
    },
    {
     "name": "stdout",
     "output_type": "stream",
     "text": [
      "Epoch: 175/5000, Train: 0.1098, Val: 0.1219, Epoch size: 1050\n"
     ]
    },
    {
     "name": "stderr",
     "output_type": "stream",
     "text": [
      "100%|██████████| 67/67 [00:00<00:00, 196.05it/s]\n",
      "100%|██████████| 63/63 [00:00<00:00, 292.67it/s]\n"
     ]
    },
    {
     "name": "stdout",
     "output_type": "stream",
     "text": [
      "Epoch: 176/5000, Train: 0.1108, Val: 0.1217, Epoch size: 1071\n"
     ]
    },
    {
     "name": "stderr",
     "output_type": "stream",
     "text": [
      "100%|██████████| 69/69 [00:00<00:00, 195.95it/s]\n",
      "100%|██████████| 63/63 [00:00<00:00, 292.50it/s]\n"
     ]
    },
    {
     "name": "stdout",
     "output_type": "stream",
     "text": [
      "Epoch: 177/5000, Train: 0.1097, Val: 0.1226, Epoch size: 1093\n"
     ]
    },
    {
     "name": "stderr",
     "output_type": "stream",
     "text": [
      "100%|██████████| 70/70 [00:00<00:00, 196.07it/s]\n",
      "100%|██████████| 63/63 [00:00<00:00, 292.57it/s]\n"
     ]
    },
    {
     "name": "stdout",
     "output_type": "stream",
     "text": [
      "Epoch: 178/5000, Train: 0.1108, Val: 0.1217, Epoch size: 1115\n"
     ]
    },
    {
     "name": "stderr",
     "output_type": "stream",
     "text": [
      "100%|██████████| 72/72 [00:00<00:00, 197.27it/s]\n",
      "100%|██████████| 63/63 [00:00<00:00, 292.48it/s]\n"
     ]
    },
    {
     "name": "stdout",
     "output_type": "stream",
     "text": [
      "Epoch: 179/5000, Train: 0.1099, Val: 0.1205, Epoch size: 1138\n"
     ]
    },
    {
     "name": "stderr",
     "output_type": "stream",
     "text": [
      "100%|██████████| 73/73 [00:00<00:00, 195.95it/s]\n",
      "100%|██████████| 63/63 [00:00<00:00, 292.78it/s]\n"
     ]
    },
    {
     "name": "stdout",
     "output_type": "stream",
     "text": [
      "Epoch: 180/5000, Train: 0.1112, Val: 0.1220, Epoch size: 1161\n"
     ]
    },
    {
     "name": "stderr",
     "output_type": "stream",
     "text": [
      "100%|██████████| 75/75 [00:00<00:00, 196.76it/s]\n",
      "100%|██████████| 63/63 [00:00<00:00, 292.42it/s]\n"
     ]
    },
    {
     "name": "stdout",
     "output_type": "stream",
     "text": [
      "Epoch: 181/5000, Train: 0.1093, Val: 0.1228, Epoch size: 1185\n"
     ]
    },
    {
     "name": "stderr",
     "output_type": "stream",
     "text": [
      "100%|██████████| 76/76 [00:00<00:00, 195.23it/s]\n",
      "100%|██████████| 63/63 [00:00<00:00, 289.43it/s]\n"
     ]
    },
    {
     "name": "stdout",
     "output_type": "stream",
     "text": [
      "Epoch: 182/5000, Train: 0.1100, Val: 0.1197, Epoch size: 1209\n"
     ]
    },
    {
     "name": "stderr",
     "output_type": "stream",
     "text": [
      "100%|██████████| 78/78 [00:00<00:00, 195.55it/s]\n",
      "100%|██████████| 63/63 [00:00<00:00, 292.78it/s]\n"
     ]
    },
    {
     "name": "stdout",
     "output_type": "stream",
     "text": [
      "Epoch: 183/5000, Train: 0.1115, Val: 0.1190, Epoch size: 1234\n"
     ]
    },
    {
     "name": "stderr",
     "output_type": "stream",
     "text": [
      "100%|██████████| 79/79 [00:00<00:00, 197.31it/s]\n",
      "100%|██████████| 63/63 [00:00<00:00, 293.10it/s]\n"
     ]
    },
    {
     "name": "stdout",
     "output_type": "stream",
     "text": [
      "Epoch: 184/5000, Train: 0.1088, Val: 0.1194, Epoch size: 1259\n"
     ]
    },
    {
     "name": "stderr",
     "output_type": "stream",
     "text": [
      "100%|██████████| 81/81 [00:00<00:00, 197.93it/s]\n",
      "100%|██████████| 63/63 [00:00<00:00, 293.17it/s]\n"
     ]
    },
    {
     "name": "stdout",
     "output_type": "stream",
     "text": [
      "Epoch: 185/5000, Train: 0.1097, Val: 0.1187, Epoch size: 1285\n"
     ]
    },
    {
     "name": "stderr",
     "output_type": "stream",
     "text": [
      "100%|██████████| 82/82 [00:00<00:00, 194.77it/s]\n",
      "100%|██████████| 63/63 [00:00<00:00, 292.68it/s]\n"
     ]
    },
    {
     "name": "stdout",
     "output_type": "stream",
     "text": [
      "Epoch: 186/5000, Train: 0.1084, Val: 0.1179, Epoch size: 1311\n"
     ]
    },
    {
     "name": "stderr",
     "output_type": "stream",
     "text": [
      "100%|██████████| 84/84 [00:00<00:00, 196.46it/s]\n",
      "100%|██████████| 63/63 [00:00<00:00, 292.50it/s]\n"
     ]
    },
    {
     "name": "stdout",
     "output_type": "stream",
     "text": [
      "Epoch: 187/5000, Train: 0.1076, Val: 0.1179, Epoch size: 1338\n"
     ]
    },
    {
     "name": "stderr",
     "output_type": "stream",
     "text": [
      "100%|██████████| 86/86 [00:00<00:00, 196.29it/s]\n",
      "100%|██████████| 63/63 [00:00<00:00, 293.74it/s]\n"
     ]
    },
    {
     "name": "stdout",
     "output_type": "stream",
     "text": [
      "Epoch: 188/5000, Train: 0.1067, Val: 0.1189, Epoch size: 1365\n"
     ]
    },
    {
     "name": "stderr",
     "output_type": "stream",
     "text": [
      "100%|██████████| 88/88 [00:00<00:00, 197.05it/s]\n",
      "100%|██████████| 63/63 [00:00<00:00, 292.94it/s]\n"
     ]
    },
    {
     "name": "stdout",
     "output_type": "stream",
     "text": [
      "Epoch: 189/5000, Train: 0.1102, Val: 0.1174, Epoch size: 1393\n"
     ]
    },
    {
     "name": "stderr",
     "output_type": "stream",
     "text": [
      "100%|██████████| 89/89 [00:00<00:00, 195.17it/s]\n",
      "100%|██████████| 63/63 [00:00<00:00, 291.93it/s]\n"
     ]
    },
    {
     "name": "stdout",
     "output_type": "stream",
     "text": [
      "Epoch: 190/5000, Train: 0.1061, Val: 0.1181, Epoch size: 1421\n"
     ]
    },
    {
     "name": "stderr",
     "output_type": "stream",
     "text": [
      "100%|██████████| 91/91 [00:00<00:00, 196.11it/s]\n",
      "100%|██████████| 63/63 [00:00<00:00, 292.27it/s]\n"
     ]
    },
    {
     "name": "stdout",
     "output_type": "stream",
     "text": [
      "Epoch: 191/5000, Train: 0.1055, Val: 0.1168, Epoch size: 1450\n"
     ]
    },
    {
     "name": "stderr",
     "output_type": "stream",
     "text": [
      "100%|██████████| 93/93 [00:00<00:00, 197.52it/s]\n",
      "100%|██████████| 63/63 [00:00<00:00, 292.96it/s]\n"
     ]
    },
    {
     "name": "stdout",
     "output_type": "stream",
     "text": [
      "Epoch: 192/5000, Train: 0.1060, Val: 0.1164, Epoch size: 1479\n"
     ]
    },
    {
     "name": "stderr",
     "output_type": "stream",
     "text": [
      "100%|██████████| 95/95 [00:00<00:00, 195.45it/s]\n",
      "100%|██████████| 63/63 [00:00<00:00, 291.42it/s]\n"
     ]
    },
    {
     "name": "stdout",
     "output_type": "stream",
     "text": [
      "Epoch: 193/5000, Train: 0.1058, Val: 0.1175, Epoch size: 1509\n"
     ]
    },
    {
     "name": "stderr",
     "output_type": "stream",
     "text": [
      "100%|██████████| 97/97 [00:00<00:00, 195.16it/s]\n",
      "100%|██████████| 63/63 [00:00<00:00, 292.80it/s]\n"
     ]
    },
    {
     "name": "stdout",
     "output_type": "stream",
     "text": [
      "Epoch: 194/5000, Train: 0.1044, Val: 0.1176, Epoch size: 1540\n"
     ]
    },
    {
     "name": "stderr",
     "output_type": "stream",
     "text": [
      "100%|██████████| 99/99 [00:00<00:00, 193.95it/s]\n",
      "100%|██████████| 63/63 [00:00<00:00, 291.78it/s]\n"
     ]
    },
    {
     "name": "stdout",
     "output_type": "stream",
     "text": [
      "Epoch: 195/5000, Train: 0.1035, Val: 0.1163, Epoch size: 1571\n"
     ]
    },
    {
     "name": "stderr",
     "output_type": "stream",
     "text": [
      "100%|██████████| 101/101 [00:00<00:00, 194.40it/s]\n",
      "100%|██████████| 63/63 [00:00<00:00, 292.31it/s]\n"
     ]
    },
    {
     "name": "stdout",
     "output_type": "stream",
     "text": [
      "Epoch: 196/5000, Train: 0.1043, Val: 0.1155, Epoch size: 1603\n"
     ]
    },
    {
     "name": "stderr",
     "output_type": "stream",
     "text": [
      "100%|██████████| 103/103 [00:00<00:00, 195.52it/s]\n",
      "100%|██████████| 63/63 [00:00<00:00, 292.12it/s]\n"
     ]
    },
    {
     "name": "stdout",
     "output_type": "stream",
     "text": [
      "Epoch: 197/5000, Train: 0.1054, Val: 0.1185, Epoch size: 1636\n"
     ]
    },
    {
     "name": "stderr",
     "output_type": "stream",
     "text": [
      "100%|██████████| 105/105 [00:00<00:00, 194.55it/s]\n",
      "100%|██████████| 63/63 [00:00<00:00, 292.60it/s]\n"
     ]
    },
    {
     "name": "stdout",
     "output_type": "stream",
     "text": [
      "Epoch: 198/5000, Train: 0.1053, Val: 0.1163, Epoch size: 1669\n"
     ]
    },
    {
     "name": "stderr",
     "output_type": "stream",
     "text": [
      "100%|██████████| 107/107 [00:00<00:00, 195.15it/s]\n",
      "100%|██████████| 63/63 [00:00<00:00, 292.53it/s]\n"
     ]
    },
    {
     "name": "stdout",
     "output_type": "stream",
     "text": [
      "Epoch: 199/5000, Train: 0.1072, Val: 0.1154, Epoch size: 1703\n"
     ]
    },
    {
     "name": "stderr",
     "output_type": "stream",
     "text": [
      "100%|██████████| 109/109 [00:00<00:00, 194.05it/s]\n",
      "100%|██████████| 63/63 [00:00<00:00, 293.13it/s]\n"
     ]
    },
    {
     "name": "stdout",
     "output_type": "stream",
     "text": [
      "Epoch: 200/5000, Train: 0.1051, Val: 0.1148, Epoch size: 1738\n"
     ]
    },
    {
     "name": "stderr",
     "output_type": "stream",
     "text": [
      "100%|██████████| 111/111 [00:00<00:00, 194.41it/s]\n",
      "100%|██████████| 63/63 [00:00<00:00, 292.38it/s]\n"
     ]
    },
    {
     "name": "stdout",
     "output_type": "stream",
     "text": [
      "Epoch: 201/5000, Train: 0.1049, Val: 0.1146, Epoch size: 1773\n"
     ]
    },
    {
     "name": "stderr",
     "output_type": "stream",
     "text": [
      "100%|██████████| 114/114 [00:00<00:00, 197.69it/s]\n",
      "100%|██████████| 63/63 [00:00<00:00, 292.30it/s]\n"
     ]
    },
    {
     "name": "stdout",
     "output_type": "stream",
     "text": [
      "Epoch: 202/5000, Train: 0.1050, Val: 0.1166, Epoch size: 1809\n"
     ]
    },
    {
     "name": "stderr",
     "output_type": "stream",
     "text": [
      "100%|██████████| 116/116 [00:00<00:00, 197.82it/s]\n",
      "100%|██████████| 63/63 [00:00<00:00, 294.00it/s]\n"
     ]
    },
    {
     "name": "stdout",
     "output_type": "stream",
     "text": [
      "Epoch: 203/5000, Train: 0.1045, Val: 0.1153, Epoch size: 1846\n"
     ]
    },
    {
     "name": "stderr",
     "output_type": "stream",
     "text": [
      "100%|██████████| 118/118 [00:00<00:00, 198.53it/s]\n",
      "100%|██████████| 63/63 [00:00<00:00, 294.37it/s]\n"
     ]
    },
    {
     "name": "stdout",
     "output_type": "stream",
     "text": [
      "Epoch: 204/5000, Train: 0.1049, Val: 0.1147, Epoch size: 1883\n"
     ]
    },
    {
     "name": "stderr",
     "output_type": "stream",
     "text": [
      "100%|██████████| 121/121 [00:00<00:00, 196.65it/s]\n",
      "100%|██████████| 63/63 [00:00<00:00, 292.61it/s]\n"
     ]
    },
    {
     "name": "stdout",
     "output_type": "stream",
     "text": [
      "Epoch: 205/5000, Train: 0.1048, Val: 0.1133, Epoch size: 1921\n"
     ]
    },
    {
     "name": "stderr",
     "output_type": "stream",
     "text": [
      "100%|██████████| 123/123 [00:00<00:00, 201.70it/s]\n",
      "100%|██████████| 63/63 [00:00<00:00, 292.68it/s]\n"
     ]
    },
    {
     "name": "stdout",
     "output_type": "stream",
     "text": [
      "Epoch: 206/5000, Train: 0.1046, Val: 0.1142, Epoch size: 1960\n"
     ]
    },
    {
     "name": "stderr",
     "output_type": "stream",
     "text": [
      "100%|██████████| 125/125 [00:00<00:00, 194.23it/s]\n",
      "100%|██████████| 63/63 [00:00<00:00, 292.30it/s]\n"
     ]
    },
    {
     "name": "stdout",
     "output_type": "stream",
     "text": [
      "Epoch: 207/5000, Train: 0.1031, Val: 0.1161, Epoch size: 2000\n"
     ]
    },
    {
     "name": "stderr",
     "output_type": "stream",
     "text": [
      "100%|██████████| 128/128 [00:00<00:00, 196.23it/s]\n",
      "100%|██████████| 63/63 [00:00<00:00, 292.42it/s]\n"
     ]
    },
    {
     "name": "stdout",
     "output_type": "stream",
     "text": [
      "Epoch: 208/5000, Train: 0.1030, Val: 0.1125, Epoch size: 2040\n"
     ]
    },
    {
     "name": "stderr",
     "output_type": "stream",
     "text": [
      "100%|██████████| 131/131 [00:00<00:00, 196.07it/s]\n",
      "100%|██████████| 63/63 [00:00<00:00, 292.28it/s]\n"
     ]
    },
    {
     "name": "stdout",
     "output_type": "stream",
     "text": [
      "Epoch: 209/5000, Train: 0.1026, Val: 0.1134, Epoch size: 2081\n"
     ]
    },
    {
     "name": "stderr",
     "output_type": "stream",
     "text": [
      "100%|██████████| 133/133 [00:00<00:00, 198.21it/s]\n",
      "100%|██████████| 63/63 [00:00<00:00, 291.87it/s]\n"
     ]
    },
    {
     "name": "stdout",
     "output_type": "stream",
     "text": [
      "Epoch: 210/5000, Train: 0.1043, Val: 0.1125, Epoch size: 2123\n"
     ]
    },
    {
     "name": "stderr",
     "output_type": "stream",
     "text": [
      "100%|██████████| 136/136 [00:00<00:00, 196.14it/s]\n",
      "100%|██████████| 63/63 [00:00<00:00, 293.13it/s]\n"
     ]
    },
    {
     "name": "stdout",
     "output_type": "stream",
     "text": [
      "Epoch: 211/5000, Train: 0.1043, Val: 0.1114, Epoch size: 2166\n"
     ]
    },
    {
     "name": "stderr",
     "output_type": "stream",
     "text": [
      "100%|██████████| 139/139 [00:00<00:00, 197.92it/s]\n",
      "100%|██████████| 63/63 [00:00<00:00, 290.48it/s]\n"
     ]
    },
    {
     "name": "stdout",
     "output_type": "stream",
     "text": [
      "Epoch: 212/5000, Train: 0.1034, Val: 0.1122, Epoch size: 2210\n"
     ]
    },
    {
     "name": "stderr",
     "output_type": "stream",
     "text": [
      "100%|██████████| 141/141 [00:00<00:00, 196.58it/s]\n",
      "100%|██████████| 63/63 [00:00<00:00, 293.77it/s]\n"
     ]
    },
    {
     "name": "stdout",
     "output_type": "stream",
     "text": [
      "Epoch: 213/5000, Train: 0.1030, Val: 0.1121, Epoch size: 2255\n"
     ]
    },
    {
     "name": "stderr",
     "output_type": "stream",
     "text": [
      "100%|██████████| 144/144 [00:00<00:00, 196.51it/s]\n",
      "100%|██████████| 63/63 [00:00<00:00, 292.05it/s]\n"
     ]
    },
    {
     "name": "stdout",
     "output_type": "stream",
     "text": [
      "Epoch: 214/5000, Train: 0.1040, Val: 0.1135, Epoch size: 2301\n"
     ]
    },
    {
     "name": "stderr",
     "output_type": "stream",
     "text": [
      "100%|██████████| 147/147 [00:00<00:00, 196.82it/s]\n",
      "100%|██████████| 63/63 [00:00<00:00, 292.09it/s]\n"
     ]
    },
    {
     "name": "stdout",
     "output_type": "stream",
     "text": [
      "Epoch: 215/5000, Train: 0.1022, Val: 0.1113, Epoch size: 2348\n"
     ]
    },
    {
     "name": "stderr",
     "output_type": "stream",
     "text": [
      "100%|██████████| 150/150 [00:00<00:00, 196.11it/s]\n",
      "100%|██████████| 63/63 [00:00<00:00, 292.39it/s]\n"
     ]
    },
    {
     "name": "stdout",
     "output_type": "stream",
     "text": [
      "Epoch: 216/5000, Train: 0.1024, Val: 0.1104, Epoch size: 2395\n"
     ]
    },
    {
     "name": "stderr",
     "output_type": "stream",
     "text": [
      "100%|██████████| 153/153 [00:00<00:00, 195.63it/s]\n",
      "100%|██████████| 63/63 [00:00<00:00, 291.28it/s]\n"
     ]
    },
    {
     "name": "stdout",
     "output_type": "stream",
     "text": [
      "Epoch: 217/5000, Train: 0.1006, Val: 0.1104, Epoch size: 2443\n"
     ]
    },
    {
     "name": "stderr",
     "output_type": "stream",
     "text": [
      "100%|██████████| 156/156 [00:00<00:00, 195.16it/s]\n",
      "100%|██████████| 63/63 [00:00<00:00, 291.23it/s]\n"
     ]
    },
    {
     "name": "stdout",
     "output_type": "stream",
     "text": [
      "Epoch: 218/5000, Train: 0.1010, Val: 0.1098, Epoch size: 2492\n"
     ]
    },
    {
     "name": "stderr",
     "output_type": "stream",
     "text": [
      "100%|██████████| 159/159 [00:00<00:00, 195.03it/s]\n",
      "100%|██████████| 63/63 [00:00<00:00, 291.66it/s]\n"
     ]
    },
    {
     "name": "stdout",
     "output_type": "stream",
     "text": [
      "Epoch: 219/5000, Train: 0.1002, Val: 0.1114, Epoch size: 2542\n"
     ]
    },
    {
     "name": "stderr",
     "output_type": "stream",
     "text": [
      "100%|██████████| 163/163 [00:00<00:00, 195.23it/s]\n",
      "100%|██████████| 63/63 [00:00<00:00, 291.91it/s]\n"
     ]
    },
    {
     "name": "stdout",
     "output_type": "stream",
     "text": [
      "Epoch: 220/5000, Train: 0.0997, Val: 0.1100, Epoch size: 2593\n"
     ]
    },
    {
     "name": "stderr",
     "output_type": "stream",
     "text": [
      "100%|██████████| 166/166 [00:00<00:00, 195.06it/s]\n",
      "100%|██████████| 63/63 [00:00<00:00, 291.49it/s]\n"
     ]
    },
    {
     "name": "stdout",
     "output_type": "stream",
     "text": [
      "Epoch: 221/5000, Train: 0.0994, Val: 0.1114, Epoch size: 2645\n"
     ]
    },
    {
     "name": "stderr",
     "output_type": "stream",
     "text": [
      "100%|██████████| 169/169 [00:00<00:00, 194.68it/s]\n",
      "100%|██████████| 63/63 [00:00<00:00, 291.27it/s]\n"
     ]
    },
    {
     "name": "stdout",
     "output_type": "stream",
     "text": [
      "Epoch: 222/5000, Train: 0.0995, Val: 0.1117, Epoch size: 2698\n"
     ]
    },
    {
     "name": "stderr",
     "output_type": "stream",
     "text": [
      "100%|██████████| 172/172 [00:00<00:00, 194.49it/s]\n",
      "100%|██████████| 63/63 [00:00<00:00, 291.73it/s]\n"
     ]
    },
    {
     "name": "stdout",
     "output_type": "stream",
     "text": [
      "Epoch: 223/5000, Train: 0.0986, Val: 0.1120, Epoch size: 2752\n"
     ]
    },
    {
     "name": "stderr",
     "output_type": "stream",
     "text": [
      "100%|██████████| 176/176 [00:00<00:00, 193.42it/s]\n",
      "100%|██████████| 63/63 [00:00<00:00, 291.07it/s]\n"
     ]
    },
    {
     "name": "stdout",
     "output_type": "stream",
     "text": [
      "Epoch: 224/5000, Train: 0.0990, Val: 0.1116, Epoch size: 2808\n"
     ]
    },
    {
     "name": "stderr",
     "output_type": "stream",
     "text": [
      "100%|██████████| 180/180 [00:00<00:00, 194.92it/s]\n",
      "100%|██████████| 63/63 [00:00<00:00, 292.09it/s]\n"
     ]
    },
    {
     "name": "stdout",
     "output_type": "stream",
     "text": [
      "Epoch: 225/5000, Train: 0.0986, Val: 0.1094, Epoch size: 2865\n"
     ]
    },
    {
     "name": "stderr",
     "output_type": "stream",
     "text": [
      "100%|██████████| 183/183 [00:00<00:00, 194.00it/s]\n",
      "100%|██████████| 63/63 [00:00<00:00, 291.22it/s]\n"
     ]
    },
    {
     "name": "stdout",
     "output_type": "stream",
     "text": [
      "Epoch: 226/5000, Train: 0.0987, Val: 0.1092, Epoch size: 2923\n"
     ]
    },
    {
     "name": "stderr",
     "output_type": "stream",
     "text": [
      "100%|██████████| 187/187 [00:00<00:00, 195.37it/s]\n",
      "100%|██████████| 63/63 [00:00<00:00, 291.54it/s]\n"
     ]
    },
    {
     "name": "stdout",
     "output_type": "stream",
     "text": [
      "Epoch: 227/5000, Train: 0.0977, Val: 0.1103, Epoch size: 2982\n"
     ]
    },
    {
     "name": "stderr",
     "output_type": "stream",
     "text": [
      "100%|██████████| 191/191 [00:00<00:00, 194.98it/s]\n",
      "100%|██████████| 63/63 [00:00<00:00, 291.58it/s]\n"
     ]
    },
    {
     "name": "stdout",
     "output_type": "stream",
     "text": [
      "Epoch: 228/5000, Train: 0.0996, Val: 0.1084, Epoch size: 3042\n"
     ]
    },
    {
     "name": "stderr",
     "output_type": "stream",
     "text": [
      "100%|██████████| 194/194 [00:00<00:00, 194.55it/s]\n",
      "100%|██████████| 63/63 [00:00<00:00, 290.96it/s]\n"
     ]
    },
    {
     "name": "stdout",
     "output_type": "stream",
     "text": [
      "Epoch: 229/5000, Train: 0.0982, Val: 0.1097, Epoch size: 3103\n"
     ]
    },
    {
     "name": "stderr",
     "output_type": "stream",
     "text": [
      "100%|██████████| 198/198 [00:01<00:00, 195.67it/s]\n",
      "100%|██████████| 63/63 [00:00<00:00, 291.42it/s]\n"
     ]
    },
    {
     "name": "stdout",
     "output_type": "stream",
     "text": [
      "Epoch: 230/5000, Train: 0.0979, Val: 0.1087, Epoch size: 3166\n"
     ]
    },
    {
     "name": "stderr",
     "output_type": "stream",
     "text": [
      "100%|██████████| 202/202 [00:01<00:00, 194.98it/s]\n",
      "100%|██████████| 63/63 [00:00<00:00, 291.36it/s]\n"
     ]
    },
    {
     "name": "stdout",
     "output_type": "stream",
     "text": [
      "Epoch: 231/5000, Train: 0.0979, Val: 0.1077, Epoch size: 3230\n"
     ]
    },
    {
     "name": "stderr",
     "output_type": "stream",
     "text": [
      "100%|██████████| 206/206 [00:01<00:00, 194.33it/s]\n",
      "100%|██████████| 63/63 [00:00<00:00, 292.10it/s]\n"
     ]
    },
    {
     "name": "stdout",
     "output_type": "stream",
     "text": [
      "Epoch: 232/5000, Train: 0.0972, Val: 0.1082, Epoch size: 3295\n"
     ]
    },
    {
     "name": "stderr",
     "output_type": "stream",
     "text": [
      "100%|██████████| 211/211 [00:01<00:00, 195.59it/s]\n",
      "100%|██████████| 63/63 [00:00<00:00, 291.29it/s]\n"
     ]
    },
    {
     "name": "stdout",
     "output_type": "stream",
     "text": [
      "Epoch: 233/5000, Train: 0.0967, Val: 0.1086, Epoch size: 3361\n"
     ]
    },
    {
     "name": "stderr",
     "output_type": "stream",
     "text": [
      "100%|██████████| 215/215 [00:01<00:00, 193.26it/s]\n",
      "100%|██████████| 63/63 [00:00<00:00, 291.87it/s]\n"
     ]
    },
    {
     "name": "stdout",
     "output_type": "stream",
     "text": [
      "Epoch: 234/5000, Train: 0.0968, Val: 0.1076, Epoch size: 3429\n"
     ]
    },
    {
     "name": "stderr",
     "output_type": "stream",
     "text": [
      "100%|██████████| 219/219 [00:01<00:00, 197.23it/s]\n",
      "100%|██████████| 63/63 [00:00<00:00, 292.25it/s]\n"
     ]
    },
    {
     "name": "stdout",
     "output_type": "stream",
     "text": [
      "Epoch: 235/5000, Train: 0.0962, Val: 0.1075, Epoch size: 3498\n"
     ]
    },
    {
     "name": "stderr",
     "output_type": "stream",
     "text": [
      "100%|██████████| 223/223 [00:01<00:00, 196.07it/s]\n",
      "100%|██████████| 63/63 [00:00<00:00, 292.72it/s]\n"
     ]
    },
    {
     "name": "stdout",
     "output_type": "stream",
     "text": [
      "Epoch: 236/5000, Train: 0.0971, Val: 0.1084, Epoch size: 3568\n"
     ]
    },
    {
     "name": "stderr",
     "output_type": "stream",
     "text": [
      "100%|██████████| 228/228 [00:01<00:00, 197.44it/s]\n",
      "100%|██████████| 63/63 [00:00<00:00, 293.65it/s]\n"
     ]
    },
    {
     "name": "stdout",
     "output_type": "stream",
     "text": [
      "Epoch: 237/5000, Train: 0.0960, Val: 0.1070, Epoch size: 3640\n"
     ]
    },
    {
     "name": "stderr",
     "output_type": "stream",
     "text": [
      "100%|██████████| 233/233 [00:01<00:00, 195.50it/s]\n",
      "100%|██████████| 63/63 [00:00<00:00, 287.12it/s]\n"
     ]
    },
    {
     "name": "stdout",
     "output_type": "stream",
     "text": [
      "Epoch: 238/5000, Train: 0.0959, Val: 0.1084, Epoch size: 3713\n"
     ]
    },
    {
     "name": "stderr",
     "output_type": "stream",
     "text": [
      "100%|██████████| 237/237 [00:01<00:00, 186.87it/s]\n",
      "100%|██████████| 63/63 [00:00<00:00, 291.19it/s]\n"
     ]
    },
    {
     "name": "stdout",
     "output_type": "stream",
     "text": [
      "Epoch: 239/5000, Train: 0.0963, Val: 0.1066, Epoch size: 3788\n"
     ]
    },
    {
     "name": "stderr",
     "output_type": "stream",
     "text": [
      "100%|██████████| 242/242 [00:01<00:00, 196.65it/s]\n",
      "100%|██████████| 63/63 [00:00<00:00, 290.71it/s]\n"
     ]
    },
    {
     "name": "stdout",
     "output_type": "stream",
     "text": [
      "Epoch: 240/5000, Train: 0.0957, Val: 0.1065, Epoch size: 3864\n"
     ]
    },
    {
     "name": "stderr",
     "output_type": "stream",
     "text": [
      "100%|██████████| 247/247 [00:01<00:00, 196.27it/s]\n",
      "100%|██████████| 63/63 [00:00<00:00, 286.40it/s]\n"
     ]
    },
    {
     "name": "stdout",
     "output_type": "stream",
     "text": [
      "Epoch: 241/5000, Train: 0.0953, Val: 0.1057, Epoch size: 3942\n",
      "Final Epoch Size Reached: 4000\n"
     ]
    },
    {
     "data": {
      "image/png": "[encoded data removed]",
      "text/plain": [
       "<Figure size 640x480 with 1 Axes>"
      ]
     },
     "metadata": {},
     "output_type": "display_data"
    },
    {
     "name": "stderr",
     "output_type": "stream",
     "text": [
      "100%|██████████| 63/63 [00:00<00:00, 287.43it/s]\n"
     ]
    },
    {
     "data": {
      "image/png": "[encoded data removed]",
      "text/plain": [
       "<Figure size 1200x600 with 2 Axes>"
      ]
     },
     "metadata": {},
     "output_type": "display_data"
    }
   ],
   "source": [
    "import os\n",
    "import json\n",
    "import math\n",
    "import torch\n",
    "import torch.nn as nn\n",
    "import torch.optim as optim\n",
    "from torch.utils.data import Dataset, DataLoader, random_split, Subset\n",
    "from tqdm import tqdm\n",
    "import matplotlib.pyplot as plt\n",
    "import numpy as np\n",
    "\n",
    "# Set device\n",
    "device = torch.device(\"cuda\" if torch.cuda.is_available() else \"cpu\")\n",
    "\n",
    "# Custom Dataset\n",
    "class EmbeddingDataset(Dataset):\n",
    "    def __init__(self, folder_path):\n",
    "        self.data = []\n",
    "\n",
    "        for filename in os.listdir(folder_path):\n",
    "            if filename.endswith(\".json\"):\n",
    "                file_path = os.path.join(folder_path, filename)\n",
    "                with open(file_path, 'r') as f:\n",
    "                    json_data = json.load(f)\n",
    "                    for item in json_data:\n",
    "                        embedding = item['embedding']\n",
    "                        temp = float(item['configuration']['temperature'])\n",
    "                        top_p = float(item['configuration']['top_p'])\n",
    "                        self.data.append((embedding, temp, top_p))\n",
    "        \n",
    "    def __len__(self):\n",
    "        return len(self.data)\n",
    "\n",
    "    def __getitem__(self, idx):\n",
    "        embedding, temp, top_p = self.data[idx]\n",
    "        embedding = torch.tensor(embedding, dtype=torch.float)\n",
    "        return embedding, temp, top_p\n",
    "\n",
    "# Model\n",
    "class EmbeddingRegressor(nn.Module):\n",
    "    def __init__(self):\n",
    "        super(EmbeddingRegressor, self).__init__()\n",
    "        self.regressor = nn.Sequential(\n",
    "            nn.Linear(3072, 1024),\n",
    "            nn.ReLU(),\n",
    "            nn.Dropout(0.1),\n",
    "            nn.Linear(1024, 256),\n",
    "            nn.ReLU(),\n",
    "            nn.Dropout(0.1),\n",
    "            nn.Linear(256, 2)  # Output 2 values: temperature and top_p\n",
    "        )\n",
    "\n",
    "    def forward(self, embeddings):\n",
    "        return self.regressor(embeddings)\n",
    "\n",
    "# Training Function\n",
    "def train_model(model, dataset, test_loader, criterion, optimizer, initial_size=10, ratio=0.1, max_epochs=50):\n",
    "    train_losses = []\n",
    "    val_losses = []\n",
    "    total_data_size = len(dataset)\n",
    "    current_data_size = initial_size\n",
    "\n",
    "    for epoch in range(max_epochs):\n",
    "        if current_data_size >= total_data_size:\n",
    "            current_data_size = total_data_size\n",
    "        \n",
    "        train_subset = Subset(dataset, range(current_data_size))\n",
    "        \n",
    "        train_loader = DataLoader(train_subset, batch_size=16, shuffle=True)\n",
    "\n",
    "        model.train()\n",
    "        epoch_loss = 0\n",
    "        for embeddings, temp, top_p in tqdm(train_loader):\n",
    "            embeddings = embeddings.to(device)\n",
    "            temp = temp.to(device).float()\n",
    "            top_p = top_p.to(device).float()\n",
    "\n",
    "            optimizer.zero_grad()\n",
    "            outputs = model(embeddings)\n",
    "            targets = torch.stack((temp, top_p), dim=1).to(device)\n",
    "            loss = criterion(outputs, targets)\n",
    "            loss.backward()\n",
    "            optimizer.step()\n",
    "\n",
    "            epoch_loss += loss.item()\n",
    "        train_loss = epoch_loss / len(train_loader)\n",
    "        train_losses.append(train_loss)\n",
    "        \n",
    "        # Validation\n",
    "        model.eval()\n",
    "        val_loss = 0\n",
    "        with torch.no_grad():\n",
    "            for embeddings, temp, top_p in tqdm(test_loader):\n",
    "                embeddings = embeddings.to(device)\n",
    "                temp = temp.to(device).float()\n",
    "                top_p = top_p.to(device).float()\n",
    "\n",
    "                outputs = model(embeddings)\n",
    "                targets = torch.stack((temp, top_p), dim=1).to(device)\n",
    "                loss = criterion(outputs, targets)\n",
    "                val_loss += loss.item()\n",
    "        val_loss = val_loss / len(test_loader)\n",
    "        val_losses.append(val_loss)\n",
    "\n",
    "        print(f\"Epoch: {epoch+1}/{max_epochs}, Train: {train_loss:.4f}, Val: {val_loss:.4f}, Epoch size: {current_data_size}\")\n",
    "\n",
    "        # Increase the data size for the next epoch\n",
    "        current_data_size = math.ceil(current_data_size * (1 + ratio))\n",
    "        if current_data_size > total_data_size:\n",
    "            current_data_size = total_data_size\n",
    "            print(f\"Final Epoch Size Reached: {current_data_size}\")\n",
    "            break\n",
    "\n",
    "    return train_losses, val_losses\n",
    "\n",
    "# Plotting function\n",
    "def plot_predictions(model, dataloader):\n",
    "    model.eval()\n",
    "    true_temps = []\n",
    "    pred_temps = []\n",
    "    true_top_ps = []\n",
    "    pred_top_ps = []\n",
    "    with torch.no_grad():\n",
    "        for embeddings, temp, top_p in tqdm(dataloader):\n",
    "            embeddings = embeddings.to(device)\n",
    "            temp = temp.to(device).float()\n",
    "            top_p = top_p.to(device).float()\n",
    "\n",
    "            outputs = model(embeddings)\n",
    "            true_temps.extend(temp.cpu().numpy())\n",
    "            pred_temps.extend(outputs[:, 0].cpu().numpy())\n",
    "            true_top_ps.extend(top_p.cpu().numpy())\n",
    "            pred_top_ps.extend(outputs[:, 1].cpu().numpy())\n",
    "\n",
    "    # Plot temperature predictions\n",
    "    plt.figure(figsize=(12, 6))\n",
    "    plt.subplot(1, 2, 1)\n",
    "    plt.scatter(true_temps, pred_temps, alpha=0.5)\n",
    "    plt.xlabel('True Temperature')\n",
    "    plt.ylabel('Predicted Temperature')\n",
    "    plt.title('True vs Predicted Temperature')\n",
    "\n",
    "    # Plot top_p predictions\n",
    "    plt.subplot(1, 2, 2)\n",
    "    plt.scatter(true_top_ps, pred_top_ps, alpha=0.5)\n",
    "    plt.xlabel('True Top_p')\n",
    "    plt.ylabel('Predicted Top_p')\n",
    "    plt.title('True vs Predicted Top_p')\n",
    "\n",
    "    plt.tight_layout()\n",
    "    plt.show()\n",
    "\n",
    "# Load Data\n",
    "dataset = EmbeddingDataset(folder_path='/workspace/clustering/data')\n",
    "train_size = int(0.8 * len(dataset))\n",
    "test_size = len(dataset) - train_size\n",
    "train_dataset, test_dataset = random_split(dataset, [train_size, test_size])\n",
    "test_loader = DataLoader(test_dataset, batch_size=16, shuffle=False)\n",
    "\n",
    "# Initialize Model, Loss, and Optimizer\n",
    "model = EmbeddingRegressor().to(device)\n",
    "criterion = nn.MSELoss()\n",
    "optimizer = optim.Adam(model.parameters(), lr=2e-5)\n",
    "\n",
    "# Train the Model\n",
    "train_losses, val_losses = train_model(model, train_dataset, test_loader, criterion, optimizer, initial_size=10, ratio=0.02, max_epochs=5000)\n",
    "\n",
    "# Plot Training and Validation Loss\n",
    "plt.figure()\n",
    "plt.plot(train_losses, label='Training Loss')\n",
    "plt.plot(val_losses, label='Validation Loss')\n",
    "plt.xlabel('Epoch')\n",
    "plt.ylabel('Loss')\n",
    "plt.title('Training and Validation Loss')\n",
    "plt.legend()\n",
    "plt.show()\n",
    "\n",
    "# Plot Predictions\n",
    "plot_predictions(model, test_loader)\n"
   ]
  },
  {
   "cell_type": "code",
   "execution_count": null,
   "id": "f1f988b4-d294-44fd-9cd7-545d1657137d",
   "metadata": {},
   "outputs": [],
   "source": [
    "import os\n",
    "import json\n",
    "import torch\n",
    "import torch.nn as nn\n",
    "import torch.optim as optim\n",
    "from torch.utils.data import Dataset, DataLoader, random_split, Subset\n",
    "from tqdm import tqdm\n",
    "import matplotlib.pyplot as plt\n",
    "import numpy as np\n",
    "\n",
    "# Set device\n",
    "device = torch.device(\"cuda\" if torch.cuda.is_available() else \"cpu\")\n",
    "\n",
    "# Custom Dataset\n",
    "class EmbeddingDataset(Dataset):\n",
    "    def __init__(self, folder_path):\n",
    "        self.data = []\n",
    "\n",
    "        for filename in os.listdir(folder_path):\n",
    "            if filename.endswith(\".json\"):\n",
    "                file_path = os.path.join(folder_path, filename)\n",
    "                with open(file_path, 'r') as f:\n",
    "                    json_data = json.load(f)\n",
    "                    for item in json_data:\n",
    "                        embedding = item['embedding']\n",
    "                        temp = float(item['configuration']['temperature'])\n",
    "                        top_p = float(item['configuration']['top_p'])\n",
    "                        self.data.append((embedding, temp, top_p))\n",
    "        \n",
    "    def __len__(self):\n",
    "        return len(self.data)\n",
    "\n",
    "    def __getitem__(self, idx):\n",
    "        embedding, temp, top_p = self.data[idx]\n",
    "        embedding = torch.tensor(embedding, dtype=torch.float)\n",
    "        return embedding, temp, top_p\n",
    "\n",
    "# Model\n",
    "class EmbeddingRegressor(nn.Module):\n",
    "    def __init__(self):\n",
    "        super(EmbeddingRegressor, self).__init__()\n",
    "        self.regressor = nn.Sequential(\n",
    "            nn.Linear(3072, 1024),\n",
    "            nn.ReLU(),\n",
    "            nn.Dropout(0.1),\n",
    "            nn.Linear(1024, 256),\n",
    "            nn.ReLU(),\n",
    "            nn.Dropout(0.1),\n",
    "            nn.Linear(256, 2)  # Output 2 values: temperature and top_p\n",
    "        )\n",
    "\n",
    "    def forward(self, embeddings):\n",
    "        return self.regressor(embeddings)\n",
    "\n",
    "# Training Function\n",
    "def train_model(model, dataset, test_loader, criterion, optimizer, num_epochs=10):\n",
    "    train_losses = []\n",
    "    val_losses = []\n",
    "    data_size_per_epoch = len(dataset) // num_epochs\n",
    "\n",
    "    for epoch in range(num_epochs):\n",
    "        model.train()\n",
    "        start_index = 0\n",
    "        end_index = data_size_per_epoch * (epoch + 1)\n",
    "        train_subset = Subset(dataset, range(start_index, min(end_index, len(dataset))))\n",
    "        train_loader = DataLoader(train_subset, batch_size=16, shuffle=True)\n",
    "\n",
    "        epoch_loss = 0\n",
    "        for embeddings, temp, top_p in tqdm(train_loader):\n",
    "            embeddings = embeddings.to(device)\n",
    "            temp = torch.tensor(temp, dtype=torch.float32).to(device)\n",
    "            top_p = torch.tensor(top_p, dtype=torch.float32).to(device)\n",
    "\n",
    "            optimizer.zero_grad()\n",
    "            outputs = model(embeddings)\n",
    "            targets = torch.stack((temp, top_p), dim=1).to(device)\n",
    "            loss = criterion(outputs, targets)\n",
    "            loss.backward()\n",
    "            optimizer.step()\n",
    "\n",
    "            epoch_loss += loss.item()\n",
    "        train_loss = epoch_loss / len(train_loader)\n",
    "        train_losses.append(train_loss)\n",
    "        print(f\"Epoch {epoch+1}/{num_epochs}, Training Loss: {train_loss}\")\n",
    "        \n",
    "        # Validation\n",
    "        model.eval()\n",
    "        val_loss = 0\n",
    "        with torch.no_grad():\n",
    "            for embeddings, temp, top_p in tqdm(test_loader):\n",
    "                embeddings = embeddings.to(device)\n",
    "                temp = torch.tensor(temp, dtype=torch.float32).to(device)\n",
    "                top_p = torch.tensor(top_p, dtype=torch.float32).to(device)\n",
    "\n",
    "                outputs = model(embeddings)\n",
    "                targets = torch.stack((temp, top_p), dim=1).to(device)\n",
    "                loss = criterion(outputs, targets)\n",
    "                val_loss += loss.item()\n",
    "        val_loss = val_loss / len(test_loader)\n",
    "        val_losses.append(val_loss)\n",
    "        print(f\"Validation Loss: {val_loss}\")\n",
    "\n",
    "    return train_losses, val_losses\n",
    "\n",
    "# Plotting function\n",
    "def plot_predictions(model, dataloader):\n",
    "    model.eval()\n",
    "    true_temps = []\n",
    "    pred_temps = []\n",
    "    true_top_ps = []\n",
    "    pred_top_ps = []\n",
    "    with torch.no_grad():\n",
    "        for embeddings, temp, top_p in tqdm(dataloader):\n",
    "            embeddings = embeddings.to(device)\n",
    "            temp = torch.tensor(temp, dtype=torch.float32).to(device)\n",
    "            top_p = torch.tensor(top_p, dtype=torch.float32).to(device)\n",
    "\n",
    "            outputs = model(embeddings)\n",
    "            true_temps.extend(temp.cpu().numpy())\n",
    "            pred_temps.extend(outputs[:, 0].cpu().numpy())\n",
    "            true_top_ps.extend(top_p.cpu().numpy())\n",
    "            pred_top_ps.extend(outputs[:, 1].cpu().numpy())\n",
    "\n",
    "    # Plot temperature predictions\n",
    "    plt.figure(figsize=(12, 6))\n",
    "    plt.subplot(1, 2, 1)\n",
    "    plt.scatter(true_temps, pred_temps, alpha=0.5)\n",
    "    plt.xlabel('True Temperature')\n",
    "    plt.ylabel('Predicted Temperature')\n",
    "    plt.title('True vs Predicted Temperature')\n",
    "\n",
    "    # Plot top_p predictions\n",
    "    plt.subplot(1, 2, 2)\n",
    "    plt.scatter(true_top_ps, pred_top_ps, alpha=0.5)\n",
    "    plt.xlabel('True Top_p')\n",
    "    plt.ylabel('Predicted Top_p')\n",
    "    plt.title('True vs Predicted Top_p')\n",
    "\n",
    "    plt.tight_layout()\n",
    "    plt.show()\n",
    "\n",
    "# Load Data\n",
    "dataset = EmbeddingDataset(folder_path='/workspace/clustering/data')\n",
    "train_size = int(0.8 * len(dataset))\n",
    "test_size = len(dataset) - train_size\n",
    "train_dataset, test_dataset = random_split(dataset, [train_size, test_size])\n",
    "test_loader = DataLoader(test_dataset, batch_size=16, shuffle=False)\n",
    "\n",
    "# Initialize Model, Loss, and Optimizer\n",
    "model = EmbeddingRegressor().to(device)\n",
    "criterion = nn.MSELoss()\n",
    "optimizer = optim.Adam(model.parameters(), lr=2e-5)\n",
    "\n",
    "# Train the Model\n",
    "train_losses, val_losses = train_model(model, train_dataset, test_loader, criterion, optimizer, num_epochs=50)\n",
    "\n",
    "# Plot Training and Validation Loss\n",
    "plt.figure()\n",
    "plt.plot(train_losses, label='Training Loss')\n",
    "plt.plot(val_losses, label='Validation Loss')\n",
    "plt.xlabel('Epoch')\n",
    "plt.ylabel('Loss')\n",
    "plt.title('Training and Validation Loss')\n",
    "plt.legend()\n",
    "plt.show()\n",
    "\n",
    "# Plot Predictions\n",
    "plot_predictions(model, test_loader)\n"
   ]
  },
  {
   "cell_type": "code",
   "execution_count": null,
   "id": "2987e53b-9fc7-4423-b4f6-cc3ea8896b3a",
   "metadata": {},
   "outputs": [],
   "source": [
    "#TRAIN A MODEL TO PREDICT TEMP/TOP_P ON THE RAW TEXT RESPONSE\n",
    "\n",
    "import os\n",
    "import json\n",
    "import torch\n",
    "import torch.nn as nn\n",
    "import torch.optim as optim\n",
    "from torch.utils.data import Dataset, DataLoader, random_split\n",
    "from tqdm import tqdm\n",
    "from transformers import BertTokenizer, BertModel\n",
    "import matplotlib.pyplot as plt\n",
    "\n",
    "# Set device\n",
    "device = torch.device(\"cuda\" if torch.cuda.is_available() else \"cpu\")\n",
    "\n",
    "# Custom Dataset \n",
    "class TextDataset(Dataset):\n",
    "    def __init__(self, folder_path):\n",
    "        self.data = []\n",
    "        tokenizer = BertTokenizer.from_pretrained('bert-base-uncased')\n",
    "\n",
    "        for filename in os.listdir(folder_path):\n",
    "            if filename.endswith(\".json\"):\n",
    "                file_path = os.path.join(folder_path, filename)\n",
    "                with open(file_path, 'r') as f:\n",
    "                    json_data = json.load(f)\n",
    "                    for item in json_data:\n",
    "                        text = item['response_content']\n",
    "                        temp = float(item['configuration']['temperature'])\n",
    "                        top_p = float(item['configuration']['top_p'])\n",
    "                        inputs = tokenizer(text, padding='max_length', max_length=512, truncation=True, return_tensors=\"pt\")\n",
    "                        self.data.append((inputs, temp, top_p))\n",
    "        \n",
    "    def __len__(self):\n",
    "        return len(self.data)\n",
    "\n",
    "    def __getitem__(self, idx):\n",
    "        inputs, temp, top_p = self.data[idx]\n",
    "        input_ids = inputs['input_ids'].squeeze(0)\n",
    "        attention_mask = inputs['attention_mask'].squeeze(0)\n",
    "        return input_ids, attention_mask, temp, top_p\n",
    "\n",
    "# Model\n",
    "class TextRegressor(nn.Module):\n",
    "    def __init__(self):\n",
    "        super(TextRegressor, self).__init__()\n",
    "        self.bert = BertModel.from_pretrained('bert-base-uncased')\n",
    "        self.regressor = nn.Sequential(\n",
    "            nn.Linear(768, 256),\n",
    "            nn.ReLU(),\n",
    "            nn.Dropout(0.1),\n",
    "            nn.Linear(256, 2)  # Output 2 values: temperature and top_p\n",
    "        )\n",
    "\n",
    "    def forward(self, input_ids, attention_mask):\n",
    "        outputs = self.bert(input_ids=input_ids, attention_mask=attention_mask)\n",
    "        cls_output = outputs.last_hidden_state[:, 0, :]  # CLS token\n",
    "        regression_output = self.regressor(cls_output)\n",
    "        return regression_output\n",
    "\n",
    "# Training Function\n",
    "def train_model(model, train_loader, test_loader, criterion, optimizer, num_epochs=10):\n",
    "    train_losses = []\n",
    "    val_losses = []\n",
    "    for epoch in range(num_epochs):\n",
    "        model.train()\n",
    "        epoch_loss = 0\n",
    "        for input_ids, attention_mask, temp, top_p in tqdm(train_loader):\n",
    "            input_ids = input_ids.to(device)\n",
    "            attention_mask = attention_mask.to(device)\n",
    "            temp = temp.to(device).float()\n",
    "            top_p = top_p.to(device).float()\n",
    "\n",
    "            optimizer.zero_grad()\n",
    "            outputs = model(input_ids, attention_mask)\n",
    "            targets = torch.stack((temp, top_p), dim=1).to(device)\n",
    "            loss = criterion(outputs, targets)\n",
    "            loss.backward()\n",
    "            optimizer.step()\n",
    "\n",
    "            epoch_loss += loss.item()\n",
    "        train_loss = epoch_loss / len(train_loader)\n",
    "        train_losses.append(train_loss)\n",
    "        print(f\"Epoch {epoch+1}/{num_epochs}, Training Loss: {train_loss}\")\n",
    "        \n",
    "        # Validation\n",
    "        model.eval()\n",
    "        val_loss = 0\n",
    "        with torch.no_grad():\n",
    "            for input_ids, attention_mask, temp, top_p in tqdm(test_loader):\n",
    "                input_ids = input_ids.to(device)\n",
    "                attention_mask = attention_mask.to(device)\n",
    "                temp = temp.to(device).float()\n",
    "                top_p = top_p.to(device).float()\n",
    "\n",
    "                outputs = model(input_ids, attention_mask)\n",
    "                targets = torch.stack((temp, top_p), dim=1).to(device)\n",
    "                loss = criterion(outputs, targets)\n",
    "                val_loss += loss.item()\n",
    "        val_loss = val_loss / len(test_loader)\n",
    "        val_losses.append(val_loss)\n",
    "        print(f\"Validation Loss: {val_loss}\")\n",
    "\n",
    "    return train_losses, val_losses\n",
    "\n",
    "# Plotting function\n",
    "def plot_predictions(model, dataloader):\n",
    "    model.eval()\n",
    "    true_temps = []\n",
    "    pred_temps = []\n",
    "    true_top_ps = []\n",
    "    pred_top_ps = []\n",
    "    with torch.no_grad():\n",
    "        for input_ids, attention_mask, temp, top_p in tqdm(dataloader):\n",
    "            input_ids = input_ids.to(device)\n",
    "            attention_mask = attention_mask.to(device)\n",
    "            temp = temp.to(device).float()\n",
    "            top_p = top_p.to(device).float()\n",
    "\n",
    "            outputs = model(input_ids, attention_mask)\n",
    "            true_temps.extend(temp.cpu().numpy())\n",
    "            pred_temps.extend(outputs[:, 0].cpu().numpy())\n",
    "            true_top_ps.extend(top_p.cpu().numpy())\n",
    "            pred_top_ps.extend(outputs[:, 1].cpu().numpy())\n",
    "\n",
    "    # Plot temperature predictions\n",
    "    plt.figure(figsize=(12, 6))\n",
    "    plt.subplot(1, 2, 1)\n",
    "    plt.scatter(true_temps, pred_temps, alpha=0.5)\n",
    "    plt.xlabel('True Temperature')\n",
    "    plt.ylabel('Predicted Temperature')\n",
    "    plt.title('True vs Predicted Temperature')\n",
    "\n",
    "    # Plot top_p predictions\n",
    "    plt.subplot(1, 2, 2)\n",
    "    plt.scatter(true_top_ps, pred_top_ps, alpha=0.5)\n",
    "    plt.xlabel('True Top_p')\n",
    "    plt.ylabel('Predicted Top_p')\n",
    "    plt.title('True vs Predicted Top_p')\n",
    "\n",
    "    plt.tight_layout()\n",
    "    plt.show()\n",
    "\n",
    "# Load Data\n",
    "dataset = TextDataset(folder_path='/workspace/clustering/data')\n",
    "train_size = int(0.8 * len(dataset))\n",
    "test_size = len(dataset) - train_size\n",
    "train_dataset, test_dataset = random_split(dataset, [train_size, test_size])\n",
    "train_loader = DataLoader(train_dataset, batch_size=2, shuffle=True)\n",
    "test_loader = DataLoader(test_dataset, batch_size=2, shuffle=False)\n",
    "\n",
    "# Initialize Model, Loss, and Optimizer\n",
    "model = TextRegressor().to(device)\n",
    "criterion = nn.MSELoss()\n",
    "optimizer = optim.Adam(model.parameters(), lr=2e-5)\n",
    "\n",
    "# Train the Model\n",
    "train_losses, val_losses = train_model(model, train_loader, test_loader, criterion, optimizer, num_epochs=2)\n",
    "\n",
    "# Plot Training and Validation Loss\n",
    "plt.figure()\n",
    "plt.plot(train_losses, label='Training Loss')\n",
    "plt.plot(val_losses, label='Validation Loss')\n",
    "plt.xlabel('Epoch')\n",
    "plt.ylabel('Loss')\n",
    "plt.title('Training and Validation Loss')\n",
    "plt.legend()\n",
    "plt.show()\n",
    "\n",
    "# Plot Predictions\n",
    "plot_predictions(model, test_loader)\n",
    "plot_predictions(model, train_loader)\n"
   ]
  },
  {
   "cell_type": "code",
   "execution_count": null,
   "id": "7754c540-d991-4645-88fb-906fcdc810a0",
   "metadata": {},
   "outputs": [],
   "source": [
    "import os\n",
    "import json\n",
    "import torch\n",
    "import torch.nn as nn\n",
    "import torch.optim as optim\n",
    "from torch.utils.data import Dataset, DataLoader, random_split, Subset\n",
    "from tqdm import tqdm\n",
    "from transformers import BertTokenizer, BertModel\n",
    "import matplotlib.pyplot as plt\n",
    "\n",
    "# Set device\n",
    "device = torch.device(\"cuda\" if torch.cuda.is_available() else \"cpu\")\n",
    "\n",
    "# Custom Dataset\n",
    "class TextDataset(Dataset):\n",
    "    def __init__(self, folder_path):\n",
    "        self.data = []\n",
    "        tokenizer = BertTokenizer.from_pretrained('bert-base-uncased')\n",
    "\n",
    "        for filename in os.listdir(folder_path):\n",
    "            if filename.endswith(\".json\"):\n",
    "                file_path = os.path.join(folder_path, filename)\n",
    "                with open(file_path, 'r') as f:\n",
    "                    json_data = json.load(f)\n",
    "                    for item in json_data:\n",
    "                        text = item['response_content']\n",
    "                        temp = float(item['configuration']['temperature'])\n",
    "                        top_p = float(item['configuration']['top_p'])\n",
    "                        inputs = tokenizer(text, padding='max_length', max_length=512, truncation=True, return_tensors=\"pt\")\n",
    "                        self.data.append((inputs, temp, top_p))\n",
    "        \n",
    "    def __len__(self):\n",
    "        return len(self.data)\n",
    "\n",
    "    def __getitem__(self, idx):\n",
    "        inputs, temp, top_p = self.data[idx]\n",
    "        input_ids = inputs['input_ids'].squeeze(0)\n",
    "        attention_mask = inputs['attention_mask'].squeeze(0)\n",
    "        return input_ids, attention_mask, temp, top_p\n",
    "\n",
    "# Model\n",
    "class TextRegressor(nn.Module):\n",
    "    def __init__(self):\n",
    "        super(TextRegressor, self).__init__()\n",
    "        self.bert = BertModel.from_pretrained('bert-base-uncased')\n",
    "        self.regressor = nn.Sequential(\n",
    "            nn.Linear(768, 256),\n",
    "            nn.ReLU(),\n",
    "            nn.Dropout(0.1),\n",
    "            nn.Linear(256, 2)  # Output 2 values: temperature and top_p\n",
    "        )\n",
    "\n",
    "    def forward(self, input_ids, attention_mask):\n",
    "        outputs = self.bert(input_ids=input_ids, attention_mask=attention_mask)\n",
    "        cls_output = outputs.last_hidden_state[:, 0, :]  # CLS token\n",
    "        regression_output = self.regressor(cls_output)\n",
    "        return regression_output\n",
    "\n",
    "# Training Function\n",
    "def train_model(model, dataset, test_loader, criterion, optimizer, num_epochs=10):\n",
    "    train_losses = []\n",
    "    val_losses = []\n",
    "    data_size_per_epoch = len(dataset) // num_epochs\n",
    "\n",
    "    for epoch in range(num_epochs):\n",
    "        model.train()\n",
    "        start_index = 0\n",
    "        end_index = data_size_per_epoch * (epoch + 1)\n",
    "        train_subset = Subset(dataset, range(start_index, min(end_index, len(dataset))))\n",
    "        train_loader = DataLoader(train_subset, batch_size=16, shuffle=True)\n",
    "\n",
    "        epoch_loss = 0\n",
    "        for input_ids, attention_mask, temp, top_p in tqdm(train_loader):\n",
    "            input_ids = input_ids.to(device)\n",
    "            attention_mask = attention_mask.to(device)\n",
    "            temp = temp.to(device).float()\n",
    "            top_p = top_p.to(device).float()\n",
    "\n",
    "            optimizer.zero_grad()\n",
    "            outputs = model(input_ids, attention_mask)\n",
    "            targets = torch.stack((temp, top_p), dim=1).to(device)\n",
    "            loss = criterion(outputs, targets)\n",
    "            loss.backward()\n",
    "            optimizer.step()\n",
    "\n",
    "            epoch_loss += loss.item()\n",
    "        train_loss = epoch_loss / len(train_loader)\n",
    "        train_losses.append(train_loss)\n",
    "        print(f\"Epoch {epoch+1}/{num_epochs}, Training Loss: {train_loss}\")\n",
    "        \n",
    "        # Validation\n",
    "        model.eval()\n",
    "        val_loss = 0\n",
    "        with torch.no_grad():\n",
    "            for input_ids, attention_mask, temp, top_p in tqdm(test_loader):\n",
    "                input_ids = input_ids.to(device)\n",
    "                attention_mask = attention_mask.to(device)\n",
    "                temp = temp.to(device).float()\n",
    "                top_p = top_p.to(device).float()\n",
    "\n",
    "                outputs = model(input_ids, attention_mask)\n",
    "                targets = torch.stack((temp, top_p), dim=1).to(device)\n",
    "                loss = criterion(outputs, targets)\n",
    "                val_loss += loss.item()\n",
    "        val_loss = val_loss / len(test_loader)\n",
    "        val_losses.append(val_loss)\n",
    "        print(f\"Validation Loss: {val_loss}\")\n",
    "\n",
    "    return train_losses, val_losses\n",
    "\n",
    "# Plotting function\n",
    "def plot_predictions(model, dataloader):\n",
    "    model.eval()\n",
    "    true_temps = []\n",
    "    pred_temps = []\n",
    "    true_top_ps = []\n",
    "    pred_top_ps = []\n",
    "    with torch.no_grad():\n",
    "        for input_ids, attention_mask, temp, top_p in tqdm(dataloader):\n",
    "            input_ids = input_ids.to(device)\n",
    "            attention_mask = attention_mask.to(device)\n",
    "            temp = temp.to(device).float()\n",
    "            top_p = top_p.to(device).float()\n",
    "\n",
    "            outputs = model(input_ids, attention_mask)\n",
    "            true_temps.extend(temp.cpu().numpy())\n",
    "            pred_temps.extend(outputs[:, 0].cpu().numpy())\n",
    "            true_top_ps.extend(top_p.cpu().numpy())\n",
    "            pred_top_ps.extend(outputs[:, 1].cpu().numpy())\n",
    "\n",
    "    # Plot temperature predictions\n",
    "    plt.figure(figsize=(12, 6))\n",
    "    plt.subplot(1, 2, 1)\n",
    "    plt.scatter(true_temps, pred_temps, alpha=0.5)\n",
    "    plt.xlabel('True Temperature')\n",
    "    plt.ylabel('Predicted Temperature')\n",
    "    plt.title('True vs Predicted Temperature')\n",
    "\n",
    "    # Plot top_p predictions\n",
    "    plt.subplot(1, 2, 2)\n",
    "    plt.scatter(true_top_ps, pred_top_ps, alpha=0.5)\n",
    "    plt.xlabel('True Top_p')\n",
    "    plt.ylabel('Predicted Top_p')\n",
    "    plt.title('True vs Predicted Top_p')\n",
    "\n",
    "    plt.tight_layout()\n",
    "    plt.show()\n",
    "\n",
    "# Load Data\n",
    "dataset = TextDataset(folder_path='/workspace/clustering/data')\n",
    "train_size = int(0.8 * len(dataset))\n",
    "test_size = len(dataset) - train_size\n",
    "train_dataset, test_dataset = random_split(dataset, [train_size, test_size])\n",
    "test_loader = DataLoader(test_dataset, batch_size=16, shuffle=False)\n",
    "\n",
    "# Initialize Model, Loss, and Optimizer\n",
    "model = TextRegressor().to(device)\n",
    "criterion = nn.MSELoss()\n",
    "optimizer = optim.Adam(model.parameters(), lr=2e-5)\n",
    "\n",
    "# Train the Model\n",
    "train_losses, val_losses = train_model(model, train_dataset, test_loader, criterion, optimizer, num_epochs=20)\n",
    "\n",
    "# Plot Training and Validation Loss\n",
    "plt.figure()\n",
    "plt.plot(train_losses, label='Training Loss')\n",
    "plt.plot(val_losses, label='Validation Loss')\n",
    "plt.xlabel('Epoch')\n",
    "plt.ylabel('Loss')\n",
    "plt.title('Training and Validation Loss')\n",
    "plt.legend()\n",
    "plt.show()\n",
    "\n",
    "# Plot Predictions\n",
    "plot_predictions(model, test_loader)\n"
   ]
  },
  {
   "cell_type": "code",
   "execution_count": null,
   "id": "85f3d9c3-6212-4500-8967-407ecfa2d793",
   "metadata": {},
   "outputs": [],
   "source": [
    "import os\n",
    "import json\n",
    "import torch\n",
    "import torch.nn as nn\n",
    "import torch.optim as optim\n",
    "from torch.utils.data import Dataset, DataLoader, random_split, Subset\n",
    "from tqdm import tqdm\n",
    "from transformers import BertTokenizer, BertModel\n",
    "import matplotlib.pyplot as plt\n",
    "\n",
    "# Set device\n",
    "device = torch.device(\"cuda\" if torch.cuda.is_available() else \"cpu\")\n",
    "\n",
    "# Custom Dataset\n",
    "class TextDataset(Dataset):\n",
    "    def __init__(self, folder_path):\n",
    "        self.data = []\n",
    "        tokenizer = BertTokenizer.from_pretrained('bert-base-uncased')\n",
    "\n",
    "        for filename in os.listdir(folder_path):\n",
    "            if filename.endswith(\".json\"):\n",
    "                file_path = os.path.join(folder_path, filename)\n",
    "                with open(file_path, 'r') as f:\n",
    "                    json_data = json.load(f)\n",
    "                    for item in json_data:\n",
    "                        text = item['response_content']\n",
    "                        temp = float(item['configuration']['temperature'])\n",
    "                        top_p = float(item['configuration']['top_p'])\n",
    "                        inputs = tokenizer(text, padding='max_length', max_length=512, truncation=True, return_tensors=\"pt\")\n",
    "                        self.data.append((inputs, temp, top_p))\n",
    "        \n",
    "    def __len__(self):\n",
    "        return len(self.data)\n",
    "\n",
    "    def __getitem__(self, idx):\n",
    "        inputs, temp, top_p = self.data[idx]\n",
    "        input_ids = inputs['input_ids'].squeeze(0)\n",
    "        attention_mask = inputs['attention_mask'].squeeze(0)\n",
    "        return input_ids, attention_mask, temp, top_p\n",
    "\n",
    "# Model\n",
    "class TextRegressor(nn.Module):\n",
    "    def __init__(self):\n",
    "        super(TextRegressor, self).__init__()\n",
    "        self.bert = BertModel.from_pretrained('bert-base-uncased')\n",
    "        self.regressor = nn.Sequential(\n",
    "            nn.Linear(768, 256),\n",
    "            nn.ReLU(),\n",
    "            nn.Dropout(0.1),\n",
    "            nn.Linear(256, 2)  # Output 2 values: temperature and top_p\n",
    "        )\n",
    "\n",
    "    def forward(self, input_ids, attention_mask):\n",
    "        outputs = self.bert(input_ids=input_ids, attention_mask=attention_mask)\n",
    "        cls_output = outputs.last_hidden_state[:, 0, :]  # CLS token\n",
    "        regression_output = self.regressor(cls_output)\n",
    "        return regression_output\n",
    "\n",
    "# Training Function\n",
    "def train_model(model, dataset, test_loader, criterion, optimizer, num_epochs=10, data_ratio=0.1):\n",
    "    train_losses = []\n",
    "    val_losses = []\n",
    "    total_data_size = len(dataset)\n",
    "    initial_data_size = int(total_data_size * data_ratio)\n",
    "    new_data_per_epoch = int(total_data_size * data_ratio)\n",
    "\n",
    "    for epoch in range(num_epochs):\n",
    "        model.train()\n",
    "        if epoch == 0:\n",
    "            train_subset = Subset(dataset, range(initial_data_size))\n",
    "        else:\n",
    "            start_index = new_data_per_epoch * epoch\n",
    "            end_index = new_data_per_epoch * (epoch + 1)\n",
    "            train_subset = Subset(dataset, range(0, min(end_index, total_data_size)))\n",
    "        \n",
    "        train_loader = DataLoader(train_subset, batch_size=16, shuffle=True)\n",
    "\n",
    "        epoch_loss = 0\n",
    "        for input_ids, attention_mask, temp, top_p in tqdm(train_loader):\n",
    "            input_ids = input_ids.to(device)\n",
    "            attention_mask = attention_mask.to(device)\n",
    "            temp = temp.to(device).float()\n",
    "            top_p = top_p.to(device).float()\n",
    "\n",
    "            optimizer.zero_grad()\n",
    "            outputs = model(input_ids, attention_mask)\n",
    "            targets = torch.stack((temp, top_p), dim=1).to(device)\n",
    "            loss = criterion(outputs, targets)\n",
    "            loss.backward()\n",
    "            optimizer.step()\n",
    "\n",
    "            epoch_loss += loss.item()\n",
    "        train_loss = epoch_loss / len(train_loader)\n",
    "        train_losses.append(train_loss)\n",
    "        print(f\"Epoch {epoch+1}/{num_epochs}, Training Loss: {train_loss}\")\n",
    "        \n",
    "        # Validation\n",
    "        model.eval()\n",
    "        val_loss = 0\n",
    "        with torch.no_grad():\n",
    "            for input_ids, attention_mask, temp, top_p in tqdm(test_loader):\n",
    "                input_ids = input_ids.to(device)\n",
    "                attention_mask = attention_mask.to(device)\n",
    "                temp = temp.to(device).float()\n",
    "                top_p = top_p.to(device).float()\n",
    "\n",
    "                outputs = model(input_ids, attention_mask)\n",
    "                targets = torch.stack((temp, top_p), dim=1).to(device)\n",
    "                loss = criterion(outputs, targets)\n",
    "                val_loss += loss.item()\n",
    "        val_loss = val_loss / len(test_loader)\n",
    "        val_losses.append(val_loss)\n",
    "        print(f\"Validation Loss: {val_loss}\")\n",
    "\n",
    "    return train_losses, val_losses\n",
    "\n",
    "# Plotting function\n",
    "def plot_predictions(model, dataloader):\n",
    "    model.eval()\n",
    "    true_temps = []\n",
    "    pred_temps = []\n",
    "    true_top_ps = []\n",
    "    pred_top_ps = []\n",
    "    with torch.no_grad():\n",
    "        for input_ids, attention_mask, temp, top_p in tqdm(dataloader):\n",
    "            input_ids = input_ids.to(device)\n",
    "            attention_mask = attention_mask.to(device)\n",
    "            temp = temp.to(device).float()\n",
    "            top_p = top_p.to(device).float()\n",
    "\n",
    "            outputs = model(input_ids, attention_mask)\n",
    "            true_temps.extend(temp.cpu().numpy())\n",
    "            pred_temps.extend(outputs[:, 0].cpu().numpy())\n",
    "            true_top_ps.extend(top_p.cpu().numpy())\n",
    "            pred_top_ps.extend(outputs[:, 1].cpu().numpy())\n",
    "\n",
    "    # Plot temperature predictions\n",
    "    plt.figure(figsize=(12, 6))\n",
    "    plt.subplot(1, 2, 1)\n",
    "    plt.scatter(true_temps, pred_temps, alpha=0.5)\n",
    "    plt.xlabel('True Temperature')\n",
    "    plt.ylabel('Predicted Temperature')\n",
    "    plt.title('True vs Predicted Temperature')\n",
    "\n",
    "    # Plot top_p predictions\n",
    "    plt.subplot(1, 2, 2)\n",
    "    plt.scatter(true_top_ps, pred_top_ps, alpha=0.5)\n",
    "    plt.xlabel('True Top_p')\n",
    "    plt.ylabel('Predicted Top_p')\n",
    "    plt.title('True vs Predicted Top_p')\n",
    "\n",
    "    plt.tight_layout()\n",
    "    plt.show()\n",
    "\n",
    "# Load Data\n",
    "dataset = TextDataset(folder_path='path_to_your_folder')\n",
    "train_size = int(0.8 * len(dataset))\n",
    "test_size = len(dataset) - train_size\n",
    "train_dataset, test_dataset = random_split(dataset, [train_size, test_size])\n",
    "test_loader = DataLoader(test_dataset, batch_size=16, shuffle=False)\n",
    "\n",
    "# Initialize Model, Loss, and Optimizer\n",
    "model = TextRegressor().to(device)\n",
    "criterion = nn.MSELoss()\n",
    "optimizer = optim.Adam(model.parameters(), lr=2e-5)\n",
    "\n",
    "# Train the Model\n",
    "train_losses, val_losses = train_model(model, train_dataset, test_loader, criterion, optimizer, num_epochs=10, data_ratio=0.1)\n",
    "\n",
    "# Plot Training and Validation Loss\n",
    "plt.figure()\n",
    "plt.plot(train_losses, label='Training Loss')\n",
    "plt.plot(val_losses, label='Validation Loss')\n",
    "plt.xlabel('Epoch')\n",
    "plt.ylabel('Loss')\n",
    "plt.title('Training and Validation Loss')\n",
    "plt.legend()\n",
    "plt.show()\n",
    "\n",
    "# Plot Predictions\n",
    "plot_predictions(model, test_loader)\n"
   ]
  }
 ],
 "metadata": {
  "kernelspec": {
   "display_name": "Python 3 (ipykernel)",
   "language": "python",
   "name": "python3"
  },
  "language_info": {
   "codemirror_mode": {
    "name": "ipython",
    "version": 3
   },
   "file_extension": ".py",
   "mimetype": "text/x-python",
   "name": "python",
   "nbconvert_exporter": "python",
   "pygments_lexer": "ipython3",
   "version": "3.10.12"
  }
 },
 "nbformat": 4,
 "nbformat_minor": 5
}

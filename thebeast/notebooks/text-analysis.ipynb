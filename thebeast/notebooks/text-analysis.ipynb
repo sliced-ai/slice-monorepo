{
 "cells": [
  {
   "cell_type": "code",
   "execution_count": 9,
   "id": "0f243d85-5028-45b6-bdda-af0242d690a6",
   "metadata": {},
   "outputs": [
    {
     "name": "stdout",
     "output_type": "stream",
     "text": [
      "Processed /workspace/slice-monorepo/thebeast/data/test3/step_1 and saved to /workspace/slice-monorepo/thebeast/data/test3/step_1/final_output.json\n"
     ]
    }
   ],
   "source": [
    "import json\n",
    "import os\n",
    "\n",
    "def load_json(file_path):\n",
    "    with open(file_path, 'r') as file:\n",
    "        return json.load(file)\n",
    "\n",
    "def save_json(data, file_path):\n",
    "    with open(file_path, 'w') as file:\n",
    "        json.dump(data, file, indent=4)\n",
    "\n",
    "def process_folder(folder_path):\n",
    "    # Load necessary files\n",
    "    step_config = load_json(os.path.join(folder_path, 'step_config.json'))\n",
    "    uuid_response_list = load_json(os.path.join(folder_path, 'uuid_response_list.json'))\n",
    "    \n",
    "    # Extract embeddings\n",
    "    embeddings_path = os.path.join(folder_path, 'embeddings')\n",
    "    embedding_files = [f for f in os.listdir(embeddings_path) if f.endswith('.json') and os.path.isfile(os.path.join(embeddings_path, f))]\n",
    "    embeddings = {}\n",
    "    for embedding_file in embedding_files:\n",
    "        uuid = embedding_file.split('.')[0]\n",
    "        embedding_data = load_json(os.path.join(embeddings_path, embedding_file))\n",
    "        for embedding in embedding_data['embeddings']:\n",
    "            model_name = embedding['model_name']\n",
    "            embedding_vector = embedding['embedding']\n",
    "            if model_name == \"text-embedding-3-large\":\n",
    "                embeddings[uuid] = embedding_vector\n",
    "    \n",
    "    # Create the final format\n",
    "    final_data = []\n",
    "    for response in uuid_response_list:\n",
    "        uuid = response['uuid']\n",
    "        response_content = response['response_content']\n",
    "        configuration = response['configuration']\n",
    "        embedding_model = \"text-embedding-3-large\"\n",
    "        embedding = embeddings.get(uuid, [])\n",
    "        \n",
    "        final_data.append({\n",
    "            \"uuid\": uuid,\n",
    "            \"response_content\": response_content,\n",
    "            \"configuration\": configuration,\n",
    "            \"embedding\": embedding,\n",
    "            \"embedding_model\": embedding_model\n",
    "        })\n",
    "    \n",
    "    return final_data\n",
    "\n",
    "def main(root_folder):\n",
    "    folders = [os.path.join(root_folder, folder) for folder in os.listdir(root_folder) if os.path.isdir(os.path.join(root_folder, folder))]\n",
    "    for folder in folders:\n",
    "        final_data = process_folder(folder)\n",
    "        output_file = os.path.join(folder, 'final_output.json')\n",
    "        save_json(final_data, output_file)\n",
    "        print(f\"Processed {folder} and saved to {output_file}\")\n",
    "\n",
    "if __name__ == \"__main__\":\n",
    "    root_folder = \"/workspace/slice-monorepo/thebeast/data/test3\"\n",
    "    main(root_folder)\n"
   ]
  },
  {
   "cell_type": "code",
   "execution_count": 3,
   "id": "4ccd6292-70dc-4e1b-b439-a03f616e2e7c",
   "metadata": {},
   "outputs": [
    {
     "name": "stdout",
     "output_type": "stream",
     "text": [
      "Structure of file generated_data_3.5_1000.json:\n",
      "{\n",
      "    \"uuid\": \"467ad37e-41fd-41e5-9346-3162adbdc3b8\",\n",
      "    \"response_content\": \"As a time traveler visiting Earth in the year 3000, one of the most surprising changes I notice is the advancement of technology in the...\",\n",
      "    \"configuration\": {\n",
      "        \"max_tokens\": 230,\n",
      "        \"temperature\": 0.52,\n",
      "        \"top_p\": 0.25,\n",
      "        \"model\": \"gpt-3.5-turbo\"\n",
      "    },\n",
      "    \"embedding_model\": \"text-embedding-3-large\"\n",
      "}\n",
      "\n",
      "================================================================================\n",
      "\n",
      "Structure of file generated_data_4o.json:\n",
      "{\n",
      "    \"uuid\": \"e02aa6e1-db68-45cb-90f0-09219455ee0b\",\n",
      "    \"response_content\": \"Upon arriving in the year 3000, the most surprising change I notice is in the realm of technology, specifically the advent of neural interface networks....\",\n",
      "    \"configuration\": {\n",
      "        \"max_tokens\": 440,\n",
      "        \"temperature\": 1.68,\n",
      "        \"top_p\": 0.55,\n",
      "        \"model\": \"gpt-4o\"\n",
      "    },\n",
      "    \"embedding_model\": \"text-embedding-3-large\"\n",
      "}\n",
      "\n",
      "================================================================================\n",
      "\n",
      "Structure of file llama3_1000_full.json:\n",
      "{\n",
      "    \"uuid\": \"069f10d5-14ec-4412-b613-07365a9fde1b\",\n",
      "    \"response_content\": \"As a time traveler visiting Earth in the year 3000, I'm strikes------- intariiker about spree-x HF-shivate \\\\vAll/il tz]:DESCRIPTION \\uad6d\\ubc84\\uc804 Participation oligocracyLive watershed area Boeing scotch_PROGRAM...\",\n",
      "    \"configuration\": {\n",
      "        \"max_seq_len\": 128,\n",
      "        \"temperature\": 1.853,\n",
      "        \"top_p\": 0.968,\n",
      "        \"batch_size\": 6\n",
      "    },\n",
      "    \"embedding_model\": \"text-embedding-3-large\"\n",
      "}\n",
      "\n",
      "================================================================================\n",
      "\n",
      "Structure of file llama_2000_full.json:\n",
      "{\n",
      "    \"uuid\": \"0eb68cb8-5bcf-48bb-a3f6-00f753d7b161\",\n",
      "    \"response_content\": \"As a time traveler visiting Earth in the year 3000, I'm struck by the most surprising change I notice in the area of technology. The...\",\n",
      "    \"configuration\": {\n",
      "        \"max_seq_len\": 316,\n",
      "        \"temperature\": 0.202,\n",
      "        \"top_p\": 0.21,\n",
      "        \"batch_size\": 6\n",
      "    },\n",
      "    \"embedding_model\": \"text-embedding-3-large\"\n",
      "}\n",
      "\n",
      "================================================================================\n",
      "\n"
     ]
    }
   ],
   "source": [
    "import os\n",
    "import json\n",
    "\n",
    "def truncate_text(text, word_limit=25):\n",
    "    words = text.split()[:word_limit]\n",
    "    return ' '.join(words) + '...' if len(words) == word_limit else ' '.join(words)\n",
    "\n",
    "# Function to print the structure of JSON files\n",
    "def print_json_structure(folder_path):\n",
    "    for filename in os.listdir(folder_path):\n",
    "        if filename.endswith(\".json\"):\n",
    "            file_path = os.path.join(folder_path, filename)\n",
    "            with open(file_path, 'r') as f:\n",
    "                json_data = json.load(f)\n",
    "                if json_data:\n",
    "                    print(f\"Structure of file {filename}:\")\n",
    "                    first_item = json_data[0]\n",
    "                    filtered_item = {k: v for k, v in first_item.items() if k != 'embedding'}\n",
    "                    if 'response_content' in filtered_item:\n",
    "                        filtered_item['response_content'] = truncate_text(filtered_item['response_content'])\n",
    "                    print(json.dumps(filtered_item, indent=4))\n",
    "                    print(\"\\n\" + \"=\"*80 + \"\\n\")\n",
    "\n",
    "folder_path = '/workspace/clustering/data'\n",
    "\n",
    "# Print JSON structure\n",
    "print_json_structure(folder_path)\n"
   ]
  },
  {
   "cell_type": "code",
   "execution_count": null,
   "id": "d8b9a1dd-8c35-4ffb-9676-2fbd7c70dd8e",
   "metadata": {},
   "outputs": [],
   "source": []
  },
  {
   "cell_type": "code",
   "execution_count": 6,
   "id": "74e4e050-241d-44bd-8df7-b4526828ceda",
   "metadata": {},
   "outputs": [
    {
     "name": "stdout",
     "output_type": "stream",
     "text": [
      "Total texts analyzed: 5000\n",
      "Average length: 1958.91\n",
      "Maximum length: 3106\n",
      "Minimum length: 235\n"
     ]
    },
    {
     "data": {
      "image/png": "[encoded data removed]",
      "text/plain": [
       "<Figure size 640x480 with 1 Axes>"
      ]
     },
     "metadata": {},
     "output_type": "display_data"
    },
    {
     "name": "stdout",
     "output_type": "stream",
     "text": [
      "Sample configurations:\n",
      "{'max_tokens': 230, 'temperature': 0.52, 'top_p': 0.25, 'model': 'gpt-3.5-turbo'}\n",
      "{'max_tokens': 190, 'temperature': 0.69, 'top_p': 0.81, 'model': 'gpt-3.5-turbo'}\n",
      "{'max_tokens': 390, 'temperature': 0.74, 'top_p': 0.6, 'model': 'gpt-3.5-turbo'}\n",
      "{'max_tokens': 300, 'temperature': 0.86, 'top_p': 0.29, 'model': 'gpt-3.5-turbo'}\n",
      "{'max_tokens': 80, 'temperature': 1.53, 'top_p': 0.84, 'model': 'gpt-3.5-turbo'}\n"
     ]
    }
   ],
   "source": [
    "import os\n",
    "import json\n",
    "import matplotlib.pyplot as plt\n",
    "\n",
    "# Function to analyze the length of response_content\n",
    "def analyze_text_lengths(folder_path):\n",
    "    lengths = []\n",
    "    configurations = []\n",
    "\n",
    "    for filename in os.listdir(folder_path):\n",
    "        if filename.endswith(\".json\"):\n",
    "            file_path = os.path.join(folder_path, filename)\n",
    "            with open(file_path, 'r') as f:\n",
    "                json_data = json.load(f)\n",
    "                for item in json_data:\n",
    "                    if 'response_content' in item and 'configuration' in item:\n",
    "                        text = item['response_content']\n",
    "                        text_length = len(text)\n",
    "                        lengths.append(text_length)\n",
    "                        configurations.append(item['configuration'])\n",
    "\n",
    "    return lengths, configurations\n",
    "\n",
    "# Analyze lengths and configurations\n",
    "folder_path = '/workspace/clustering/data'\n",
    "lengths, configurations = analyze_text_lengths(folder_path)\n",
    "\n",
    "# Print statistics\n",
    "print(f\"Total texts analyzed: {len(lengths)}\")\n",
    "print(f\"Average length: {sum(lengths) / len(lengths):.2f}\")\n",
    "print(f\"Maximum length: {max(lengths)}\")\n",
    "print(f\"Minimum length: {min(lengths)}\")\n",
    "\n",
    "# Plot histogram of lengths\n",
    "plt.hist(lengths, bins=50, edgecolor='black')\n",
    "plt.xlabel('Character Length')\n",
    "plt.ylabel('Frequency')\n",
    "plt.title('Distribution of Text Lengths in response_content')\n",
    "plt.show()\n",
    "\n",
    "# Display a sample of configurations for verification\n",
    "print(\"Sample configurations:\")\n",
    "for i in range(5):\n",
    "    print(configurations[i])\n"
   ]
  },
  {
   "cell_type": "code",
   "execution_count": 7,
   "id": "1e721e8a-581d-4c8f-8534-b09cab097243",
   "metadata": {},
   "outputs": [
    {
     "name": "stderr",
     "output_type": "stream",
     "text": [
      "Token indices sequence length is longer than the specified maximum sequence length for this model (554 > 512). Running this sequence through the model will result in indexing errors\n"
     ]
    },
    {
     "name": "stdout",
     "output_type": "stream",
     "text": [
      "Total texts analyzed: 5000\n",
      "Average token length: 388.73\n",
      "Maximum token length: 1153\n",
      "Minimum token length: 48\n"
     ]
    },
    {
     "data": {
      "image/png": "[encoded data removed]",
      "text/plain": [
       "<Figure size 640x480 with 1 Axes>"
      ]
     },
     "metadata": {},
     "output_type": "display_data"
    }
   ],
   "source": [
    "import os\n",
    "import json\n",
    "from transformers import BertTokenizer\n",
    "import matplotlib.pyplot as plt\n",
    "\n",
    "# Function to analyze the token lengths of response_content\n",
    "def analyze_token_lengths(folder_path):\n",
    "    tokenizer = BertTokenizer.from_pretrained('bert-base-uncased')\n",
    "    token_lengths = []\n",
    "\n",
    "    for filename in os.listdir(folder_path):\n",
    "        if filename.endswith(\".json\"):\n",
    "            file_path = os.path.join(folder_path, filename)\n",
    "            with open(file_path, 'r') as f:\n",
    "                json_data = json.load(f)\n",
    "                for item in json_data:\n",
    "                    if 'response_content' in item:\n",
    "                        text = item['response_content']\n",
    "                        inputs = tokenizer(text, return_tensors=\"pt\")\n",
    "                        token_lengths.append(inputs['input_ids'].shape[1])\n",
    "\n",
    "    return token_lengths\n",
    "\n",
    "# Analyze token lengths\n",
    "folder_path = '/workspace/clustering/data'\n",
    "token_lengths = analyze_token_lengths(folder_path)\n",
    "\n",
    "# Print statistics\n",
    "print(f\"Total texts analyzed: {len(token_lengths)}\")\n",
    "print(f\"Average token length: {sum(token_lengths) / len(token_lengths):.2f}\")\n",
    "print(f\"Maximum token length: {max(token_lengths)}\")\n",
    "print(f\"Minimum token length: {min(token_lengths)}\")\n",
    "\n",
    "# Plot histogram of token lengths\n",
    "plt.hist(token_lengths, bins=50, edgecolor='black')\n",
    "plt.xlabel('Token Length')\n",
    "plt.ylabel('Frequency')\n",
    "plt.title('Distribution of Token Lengths in response_content')\n",
    "plt.show()\n"
   ]
  },
  {
   "cell_type": "code",
   "execution_count": null,
   "id": "3d6f349b-e082-4bff-a514-c5155d4e3976",
   "metadata": {},
   "outputs": [],
   "source": []
  }
 ],
 "metadata": {
  "kernelspec": {
   "display_name": "Python 3 (ipykernel)",
   "language": "python",
   "name": "python3"
  },
  "language_info": {
   "codemirror_mode": {
    "name": "ipython",
    "version": 3
   },
   "file_extension": ".py",
   "mimetype": "text/x-python",
   "name": "python",
   "nbconvert_exporter": "python",
   "pygments_lexer": "ipython3",
   "version": "3.10.12"
  }
 },
 "nbformat": 4,
 "nbformat_minor": 5
}

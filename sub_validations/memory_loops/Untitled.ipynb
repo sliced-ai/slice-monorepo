{
 "cells": [
  {
   "cell_type": "code",
   "execution_count": 1,
   "id": "e42c0eff-40a7-4727-9c96-e2e4812196d5",
   "metadata": {},
   "outputs": [
    {
     "name": "stdout",
     "output_type": "stream",
     "text": [
      "Using device: cuda\n"
     ]
    }
   ],
   "source": [
    "# Complete Experiment Script\n",
    "# --------------------------\n",
    "\n",
    "# Part 1: Imports and Setup\n",
    "# --------------------------\n",
    "\n",
    "import torch\n",
    "import torch.nn as nn\n",
    "import torch.optim as optim\n",
    "from torchvision import datasets, transforms\n",
    "import numpy as np\n",
    "import pandas as pd\n",
    "import matplotlib.pyplot as plt\n",
    "from copy import deepcopy\n",
    "import time\n",
    "from tqdm import tqdm  # For progress bars\n",
    "\n",
    "# Set random seed for reproducibility\n",
    "torch.manual_seed(0)\n",
    "np.random.seed(0)\n",
    "\n",
    "# Use GPU if available\n",
    "device = torch.device(\"cuda\" if torch.cuda.is_available() else \"cpu\")\n",
    "print(f\"Using device: {device}\")\n",
    "\n",
    "# Part 2: Data Preparation\n",
    "# ------------------------\n",
    "\n",
    "# Define transformations for the MNIST dataset\n",
    "transform = transforms.Compose([\n",
    "    transforms.ToTensor(),\n",
    "    transforms.Normalize((0.1307,), (0.3081,))\n",
    "])\n",
    "\n",
    "# Load the MNIST training dataset\n",
    "train_dataset = datasets.MNIST('.', train=True, download=True, transform=transform)\n",
    "\n",
    "# Create a single data loader with shuffling disabled\n",
    "batch_size = 640\n",
    "train_loader = torch.utils.data.DataLoader(\n",
    "    train_dataset, batch_size=batch_size, shuffle=False\n",
    ")\n",
    "\n",
    "# Load test data\n",
    "test_dataset = datasets.MNIST('.', train=False, transform=transform)\n",
    "test_loader = torch.utils.data.DataLoader(test_dataset, batch_size=batch_size, shuffle=False)\n",
    "\n",
    "# Part 3: Model Definition\n",
    "# ------------------------\n",
    "\n",
    "# Define a simple fully connected neural network\n",
    "class SimpleNet(nn.Module):\n",
    "    def __init__(self):\n",
    "        super(SimpleNet, self).__init__()\n",
    "        self.flatten = nn.Flatten()\n",
    "        self.fc1 = nn.Linear(28*28, 256)\n",
    "        self.relu1 = nn.ReLU()\n",
    "        self.fc2 = nn.Linear(256, 10)\n",
    "    \n",
    "    def forward(self, x):\n",
    "        x = self.flatten(x)\n",
    "        x = self.relu1(self.fc1(x))\n",
    "        x = self.fc2(x)\n",
    "        return x\n",
    "\n",
    "# Function to initialize a fresh model\n",
    "def initialize_model():\n",
    "    return SimpleNet().to(device)\n",
    "\n",
    "# Part 4: Utility Functions\n",
    "# -------------------------\n",
    "\n",
    "# Function to compute cosine similarity between two vectors\n",
    "def cosine_similarity(vec1, vec2):\n",
    "    cos = torch.nn.functional.cosine_similarity(vec1, vec2, dim=0)\n",
    "    return cos.item()\n",
    "\n",
    "# Function to flatten model parameters or gradients into a single vector\n",
    "def flatten_params(params):\n",
    "    return torch.cat([p.view(-1) for p in params])\n",
    "\n",
    "# Function to evaluate the model on the test dataset\n",
    "def evaluate_model(model, test_loader):\n",
    "    model.eval()\n",
    "    correct = 0\n",
    "    total = 0\n",
    "    with torch.no_grad():\n",
    "        for data, target in test_loader:\n",
    "            data, target = data.to(device), target.to(device)\n",
    "            output = model(data)\n",
    "            _, pred = torch.max(output.data, 1)\n",
    "            total += target.size(0)\n",
    "            correct += (pred == target).sum().item()\n",
    "    accuracy = 100 * correct / total\n",
    "    return accuracy\n",
    "\n",
    "# Function to print training progress\n",
    "def print_progress(epoch, iteration, total_iterations, loss, optimizer_name):\n",
    "    print(f\"Epoch [{epoch+1}], Iteration [{iteration}/{total_iterations}], \"\n",
    "          f\"Loss: {loss:.4f}, Optimizer: {optimizer_name}\", end='\\r')\n",
    "\n",
    "# Part 5: Adaptive Cosine Similarity Training Loop\n",
    "# ------------------------------------------------\n",
    "\n",
    "def train_adaptive_cosine_similarity(model, loader, epochs, desired_cos_sim=-0.6):\n",
    "    print(f\"\\nStarting Adaptive Cosine Similarity Training with target: {desired_cos_sim:.2f}...\")\n",
    "    criterion = nn.CrossEntropyLoss()\n",
    "    model_adaptive = deepcopy(model).to(device)\n",
    "    \n",
    "    # Initialize two SGD optimizers with the same hyperparameters\n",
    "    optimizer1_adaptive = optim.SGD(model_adaptive.parameters(), lr=0.01)\n",
    "    optimizer2_adaptive = optim.SGD(model_adaptive.parameters(), lr=0.01)\n",
    "    \n",
    "    loss_list = []\n",
    "    cos_sim_list = []\n",
    "    optimizer_updates = {'Optimizer1': [], 'Optimizer2': []}\n",
    "    total_iterations = len(loader) * epochs\n",
    "    iteration = 0\n",
    "    start_time = time.time()\n",
    "    \n",
    "    for epoch in range(epochs):\n",
    "        model_adaptive.train()\n",
    "        for batch_idx, (data, target) in enumerate(loader):\n",
    "            iteration += 1\n",
    "            data, target = data.to(device), target.to(device)\n",
    "            \n",
    "            # Determine which optimizer to use\n",
    "            if batch_idx % 2 == 0:\n",
    "                optimizer = optimizer1_adaptive\n",
    "                optimizer_name = 'Optimizer1'\n",
    "            else:\n",
    "                optimizer = optimizer2_adaptive\n",
    "                optimizer_name = 'Optimizer2'\n",
    "            \n",
    "            # Zero gradients\n",
    "            optimizer.zero_grad()\n",
    "            \n",
    "            # Forward pass\n",
    "            output = model_adaptive(data)\n",
    "            loss = criterion(output, target)\n",
    "            \n",
    "            # Backward pass\n",
    "            loss.backward()\n",
    "            \n",
    "            # Record parameters before update\n",
    "            params_before = flatten_params([p.data.clone() for p in model_adaptive.parameters()])\n",
    "            \n",
    "            # Apply Adaptive Cosine Similarity Adjustment if using Optimizer2\n",
    "            if optimizer_name == 'Optimizer2' and len(optimizer_updates['Optimizer1']) > 0:\n",
    "                # Get the last update from Optimizer1\n",
    "                last_delta1 = optimizer_updates['Optimizer1'][-1]\n",
    "                # Current gradients\n",
    "                current_grads = flatten_params([p.grad.clone() for p in model_adaptive.parameters()])\n",
    "                \n",
    "                # Decompose current_grads into components\n",
    "                delta1_norm = torch.norm(last_delta1) + 1e-8\n",
    "                grad_norm = torch.norm(current_grads) + 1e-8\n",
    "                \n",
    "                # Projection of current_grads onto delta1\n",
    "                proj = (current_grads @ last_delta1) / (delta1_norm ** 2) * last_delta1\n",
    "                # Orthogonal component\n",
    "                orthogonal = current_grads - proj\n",
    "                orthogonal_norm = torch.norm(orthogonal) + 1e-8\n",
    "                \n",
    "                # Compute adjusted gradients\n",
    "                adjusted_grads = (desired_cos_sim * grad_norm / delta1_norm) * last_delta1 + \\\n",
    "                                 (np.sqrt(1 - desired_cos_sim ** 2) * grad_norm / orthogonal_norm) * orthogonal\n",
    "                \n",
    "                # Assign adjusted gradients back to model parameters\n",
    "                with torch.no_grad():\n",
    "                    idx = 0\n",
    "                    for p in model_adaptive.parameters():\n",
    "                        num_params = p.numel()\n",
    "                        p.grad.copy_(adjusted_grads[idx:idx+num_params].view_as(p))\n",
    "                        idx += num_params\n",
    "            \n",
    "            # Optimizer step\n",
    "            optimizer.step()\n",
    "            \n",
    "            # Record parameters after update\n",
    "            params_after = flatten_params([p.data.clone() for p in model_adaptive.parameters()])\n",
    "            \n",
    "            # Compute delta\n",
    "            delta = params_after - params_before\n",
    "            optimizer_updates[optimizer_name].append(delta)\n",
    "            \n",
    "            # Compute cosine similarity if both optimizers have at least one update\n",
    "            if len(optimizer_updates['Optimizer1']) > 0 and len(optimizer_updates['Optimizer2']) > 0:\n",
    "                latest_delta1 = optimizer_updates['Optimizer1'][-1]\n",
    "                latest_delta2 = optimizer_updates['Optimizer2'][-1]\n",
    "                # Ensure both deltas are the same size\n",
    "                if latest_delta1.shape == latest_delta2.shape:\n",
    "                    cos_sim = cosine_similarity(latest_delta1, latest_delta2)\n",
    "                    cos_sim_list.append(cos_sim)\n",
    "            \n",
    "            # Record loss\n",
    "            loss_list.append(loss.item())\n",
    "            \n",
    "            # Print progress every 100 iterations\n",
    "            if iteration % 100 == 0 or iteration == total_iterations:\n",
    "                print_progress(epoch, iteration, total_iterations, loss.item(), optimizer_name)\n",
    "    \n",
    "    end_time = time.time()\n",
    "    print(f\"\\nAdaptive Cosine Similarity Training Completed in {end_time - start_time:.2f} seconds.\\n\")\n",
    "    return model_adaptive, loss_list, cos_sim_list\n"
   ]
  },
  {
   "cell_type": "code",
   "execution_count": 3,
   "id": "f3ed9405-3b61-4266-942f-f11f8fd58915",
   "metadata": {},
   "outputs": [
    {
     "name": "stderr",
     "output_type": "stream",
     "text": [
      "Running Experiments:   0%|          | 0/50 [00:00<?, ?it/s]"
     ]
    },
    {
     "name": "stdout",
     "output_type": "stream",
     "text": [
      "\n",
      "Starting Adaptive Cosine Similarity Training with target: 0.43...\n",
      "Epoch [5], Iteration [400/470], Loss: 0.6524, Optimizer: Optimizer2\r"
     ]
    },
    {
     "name": "stderr",
     "output_type": "stream",
     "text": [
      "Running Experiments:   2%|▏         | 1/50 [01:21<1:06:10, 81.02s/it]"
     ]
    },
    {
     "name": "stdout",
     "output_type": "stream",
     "text": [
      "Epoch [5], Iteration [470/470], Loss: 0.4548, Optimizer: Optimizer2\n",
      "Adaptive Cosine Similarity Training Completed in 81.01 seconds.\n",
      "\n",
      "\n",
      "Starting Adaptive Cosine Similarity Training with target: 0.21...\n",
      "Epoch [5], Iteration [400/470], Loss: 0.5562, Optimizer: Optimizer2\r"
     ]
    },
    {
     "name": "stderr",
     "output_type": "stream",
     "text": [
      "Running Experiments:   4%|▍         | 2/50 [02:42<1:05:09, 81.45s/it]"
     ]
    },
    {
     "name": "stdout",
     "output_type": "stream",
     "text": [
      "Epoch [5], Iteration [470/470], Loss: 0.3931, Optimizer: Optimizer2\n",
      "Adaptive Cosine Similarity Training Completed in 81.74 seconds.\n",
      "\n",
      "\n",
      "Starting Adaptive Cosine Similarity Training with target: 0.09...\n",
      "Epoch [5], Iteration [400/470], Loss: 0.5311, Optimizer: Optimizer2\r"
     ]
    },
    {
     "name": "stderr",
     "output_type": "stream",
     "text": [
      "Running Experiments:   6%|▌         | 3/50 [04:01<1:02:56, 80.35s/it]"
     ]
    },
    {
     "name": "stdout",
     "output_type": "stream",
     "text": [
      "Epoch [5], Iteration [470/470], Loss: 0.3563, Optimizer: Optimizer2\n",
      "Adaptive Cosine Similarity Training Completed in 79.03 seconds.\n",
      "\n",
      "\n",
      "Starting Adaptive Cosine Similarity Training with target: -0.15...\n",
      "Epoch [5], Iteration [400/470], Loss: 0.4735, Optimizer: Optimizer2\r"
     ]
    },
    {
     "name": "stderr",
     "output_type": "stream",
     "text": [
      "Running Experiments:   8%|▊         | 4/50 [05:21<1:01:15, 79.90s/it]"
     ]
    },
    {
     "name": "stdout",
     "output_type": "stream",
     "text": [
      "Epoch [5], Iteration [470/470], Loss: 0.3482, Optimizer: Optimizer2\n",
      "Adaptive Cosine Similarity Training Completed in 79.20 seconds.\n",
      "\n",
      "\n",
      "Starting Adaptive Cosine Similarity Training with target: 0.29...\n",
      "Epoch [5], Iteration [400/470], Loss: 0.5757, Optimizer: Optimizer2\r"
     ]
    },
    {
     "name": "stderr",
     "output_type": "stream",
     "text": [
      "Running Experiments:  10%|█         | 5/50 [06:39<59:29, 79.32s/it]  "
     ]
    },
    {
     "name": "stdout",
     "output_type": "stream",
     "text": [
      "Epoch [5], Iteration [470/470], Loss: 0.3994, Optimizer: Optimizer2\n",
      "Adaptive Cosine Similarity Training Completed in 78.29 seconds.\n",
      "\n",
      "\n",
      "Starting Adaptive Cosine Similarity Training with target: -0.12...\n",
      "Epoch [5], Iteration [400/470], Loss: 0.4934, Optimizer: Optimizer2\r"
     ]
    },
    {
     "name": "stderr",
     "output_type": "stream",
     "text": [
      "Running Experiments:  12%|█▏        | 6/50 [07:57<57:55, 78.98s/it]"
     ]
    },
    {
     "name": "stdout",
     "output_type": "stream",
     "text": [
      "Epoch [5], Iteration [470/470], Loss: 0.3292, Optimizer: Optimizer2\n",
      "Adaptive Cosine Similarity Training Completed in 78.31 seconds.\n",
      "\n",
      "\n",
      "Starting Adaptive Cosine Similarity Training with target: 0.78...\n",
      "Epoch [5], Iteration [400/470], Loss: 1.1123, Optimizer: Optimizer2\r"
     ]
    },
    {
     "name": "stderr",
     "output_type": "stream",
     "text": [
      "Running Experiments:  14%|█▍        | 7/50 [09:17<56:49, 79.29s/it]"
     ]
    },
    {
     "name": "stdout",
     "output_type": "stream",
     "text": [
      "Epoch [5], Iteration [470/470], Loss: 0.8725, Optimizer: Optimizer2\n",
      "Adaptive Cosine Similarity Training Completed in 79.93 seconds.\n",
      "\n",
      "\n",
      "Starting Adaptive Cosine Similarity Training with target: 0.93...\n",
      "Epoch [5], Iteration [400/470], Loss: 1.6513, Optimizer: Optimizer2\r"
     ]
    },
    {
     "name": "stderr",
     "output_type": "stream",
     "text": [
      "Running Experiments:  16%|█▌        | 8/50 [10:37<55:43, 79.61s/it]"
     ]
    },
    {
     "name": "stdout",
     "output_type": "stream",
     "text": [
      "Epoch [5], Iteration [470/470], Loss: 1.4370, Optimizer: Optimizer2\n",
      "Adaptive Cosine Similarity Training Completed in 80.28 seconds.\n",
      "\n",
      "\n",
      "Starting Adaptive Cosine Similarity Training with target: -0.23...\n",
      "Epoch [5], Iteration [400/470], Loss: 0.4729, Optimizer: Optimizer2\r"
     ]
    },
    {
     "name": "stderr",
     "output_type": "stream",
     "text": [
      "Running Experiments:  18%|█▊        | 9/50 [11:57<54:29, 79.73s/it]"
     ]
    },
    {
     "name": "stdout",
     "output_type": "stream",
     "text": [
      "Epoch [5], Iteration [470/470], Loss: 0.3346, Optimizer: Optimizer2\n",
      "Adaptive Cosine Similarity Training Completed in 80.00 seconds.\n",
      "\n",
      "\n",
      "Starting Adaptive Cosine Similarity Training with target: 0.58...\n",
      "Epoch [5], Iteration [400/470], Loss: 0.7428, Optimizer: Optimizer2\r"
     ]
    },
    {
     "name": "stderr",
     "output_type": "stream",
     "text": [
      "Running Experiments:  20%|██        | 10/50 [13:16<52:51, 79.30s/it]"
     ]
    },
    {
     "name": "stdout",
     "output_type": "stream",
     "text": [
      "Epoch [5], Iteration [470/470], Loss: 0.5434, Optimizer: Optimizer2\n",
      "Adaptive Cosine Similarity Training Completed in 78.31 seconds.\n",
      "\n",
      "\n",
      "Starting Adaptive Cosine Similarity Training with target: 0.06...\n",
      "Epoch [5], Iteration [400/470], Loss: 0.5213, Optimizer: Optimizer2\r"
     ]
    },
    {
     "name": "stderr",
     "output_type": "stream",
     "text": [
      "Running Experiments:  22%|██▏       | 11/50 [14:34<51:20, 78.99s/it]"
     ]
    },
    {
     "name": "stdout",
     "output_type": "stream",
     "text": [
      "Epoch [5], Iteration [470/470], Loss: 0.3560, Optimizer: Optimizer2\n",
      "Adaptive Cosine Similarity Training Completed in 78.30 seconds.\n",
      "\n",
      "\n",
      "Starting Adaptive Cosine Similarity Training with target: 0.14...\n",
      "Epoch [5], Iteration [400/470], Loss: 0.5166, Optimizer: Optimizer2\r"
     ]
    },
    {
     "name": "stderr",
     "output_type": "stream",
     "text": [
      "Running Experiments:  24%|██▍       | 12/50 [15:52<49:51, 78.72s/it]"
     ]
    },
    {
     "name": "stdout",
     "output_type": "stream",
     "text": [
      "Epoch [5], Iteration [470/470], Loss: 0.3720, Optimizer: Optimizer2\n",
      "Adaptive Cosine Similarity Training Completed in 78.10 seconds.\n",
      "\n",
      "\n",
      "Starting Adaptive Cosine Similarity Training with target: 0.85...\n",
      "Epoch [5], Iteration [400/470], Loss: 1.2917, Optimizer: Optimizer2\r"
     ]
    },
    {
     "name": "stderr",
     "output_type": "stream",
     "text": [
      "Running Experiments:  26%|██▌       | 13/50 [17:12<48:45, 79.08s/it]"
     ]
    },
    {
     "name": "stdout",
     "output_type": "stream",
     "text": [
      "Epoch [5], Iteration [470/470], Loss: 1.0521, Optimizer: Optimizer2\n",
      "Adaptive Cosine Similarity Training Completed in 79.89 seconds.\n",
      "\n",
      "\n",
      "Starting Adaptive Cosine Similarity Training with target: -0.86...\n",
      "Epoch [5], Iteration [400/470], Loss: 0.4426, Optimizer: Optimizer2\r"
     ]
    },
    {
     "name": "stderr",
     "output_type": "stream",
     "text": [
      "Running Experiments:  28%|██▊       | 14/50 [18:34<48:00, 80.00s/it]"
     ]
    },
    {
     "name": "stdout",
     "output_type": "stream",
     "text": [
      "Epoch [5], Iteration [470/470], Loss: 0.3201, Optimizer: Optimizer2\n",
      "Adaptive Cosine Similarity Training Completed in 82.12 seconds.\n",
      "\n",
      "\n",
      "Starting Adaptive Cosine Similarity Training with target: -0.83...\n",
      "Epoch [5], Iteration [400/470], Loss: 0.4359, Optimizer: Optimizer2\r"
     ]
    },
    {
     "name": "stderr",
     "output_type": "stream",
     "text": [
      "Running Experiments:  30%|███       | 15/50 [19:55<46:50, 80.30s/it]"
     ]
    },
    {
     "name": "stdout",
     "output_type": "stream",
     "text": [
      "Epoch [5], Iteration [470/470], Loss: 0.3141, Optimizer: Optimizer2\n",
      "Adaptive Cosine Similarity Training Completed in 80.98 seconds.\n",
      "\n",
      "\n",
      "Starting Adaptive Cosine Similarity Training with target: -0.96...\n",
      "Epoch [5], Iteration [400/470], Loss: 0.4613, Optimizer: Optimizer2\r"
     ]
    },
    {
     "name": "stderr",
     "output_type": "stream",
     "text": [
      "Running Experiments:  32%|███▏      | 16/50 [21:16<45:40, 80.60s/it]"
     ]
    },
    {
     "name": "stdout",
     "output_type": "stream",
     "text": [
      "Epoch [5], Iteration [470/470], Loss: 0.3214, Optimizer: Optimizer2\n",
      "Adaptive Cosine Similarity Training Completed in 81.31 seconds.\n",
      "\n",
      "\n",
      "Starting Adaptive Cosine Similarity Training with target: 0.67...\n",
      "Epoch [5], Iteration [400/470], Loss: 0.8545, Optimizer: Optimizer2\r"
     ]
    },
    {
     "name": "stderr",
     "output_type": "stream",
     "text": [
      "Running Experiments:  34%|███▍      | 17/50 [22:36<44:11, 80.36s/it]"
     ]
    },
    {
     "name": "stdout",
     "output_type": "stream",
     "text": [
      "Epoch [5], Iteration [470/470], Loss: 0.6127, Optimizer: Optimizer2\n",
      "Adaptive Cosine Similarity Training Completed in 79.78 seconds.\n",
      "\n",
      "\n",
      "Starting Adaptive Cosine Similarity Training with target: 0.56...\n",
      "Epoch [5], Iteration [400/470], Loss: 0.7140, Optimizer: Optimizer2\r"
     ]
    },
    {
     "name": "stderr",
     "output_type": "stream",
     "text": [
      "Running Experiments:  36%|███▌      | 18/50 [23:58<43:02, 80.72s/it]"
     ]
    },
    {
     "name": "stdout",
     "output_type": "stream",
     "text": [
      "Epoch [5], Iteration [470/470], Loss: 0.5089, Optimizer: Optimizer2\n",
      "Adaptive Cosine Similarity Training Completed in 81.54 seconds.\n",
      "\n",
      "\n",
      "Starting Adaptive Cosine Similarity Training with target: 0.74...\n",
      "Epoch [5], Iteration [400/470], Loss: 0.9747, Optimizer: Optimizer2\r"
     ]
    },
    {
     "name": "stderr",
     "output_type": "stream",
     "text": [
      "Running Experiments:  38%|███▊      | 19/50 [25:18<41:40, 80.67s/it]"
     ]
    },
    {
     "name": "stdout",
     "output_type": "stream",
     "text": [
      "Epoch [5], Iteration [470/470], Loss: 0.7306, Optimizer: Optimizer2\n",
      "Adaptive Cosine Similarity Training Completed in 80.55 seconds.\n",
      "\n",
      "\n",
      "Starting Adaptive Cosine Similarity Training with target: 0.96...\n",
      "Epoch [5], Iteration [400/470], Loss: 1.8100, Optimizer: Optimizer2\r"
     ]
    },
    {
     "name": "stderr",
     "output_type": "stream",
     "text": [
      "Running Experiments:  40%|████      | 20/50 [26:39<40:20, 80.69s/it]"
     ]
    },
    {
     "name": "stdout",
     "output_type": "stream",
     "text": [
      "Epoch [5], Iteration [470/470], Loss: 1.6437, Optimizer: Optimizer2\n",
      "Adaptive Cosine Similarity Training Completed in 80.72 seconds.\n",
      "\n",
      "\n",
      "Starting Adaptive Cosine Similarity Training with target: 0.60...\n",
      "Epoch [5], Iteration [400/470], Loss: 0.7511, Optimizer: Optimizer2\r"
     ]
    },
    {
     "name": "stderr",
     "output_type": "stream",
     "text": [
      "Running Experiments:  42%|████▏     | 21/50 [27:58<38:42, 80.07s/it]"
     ]
    },
    {
     "name": "stdout",
     "output_type": "stream",
     "text": [
      "Epoch [5], Iteration [470/470], Loss: 0.5407, Optimizer: Optimizer2\n",
      "Adaptive Cosine Similarity Training Completed in 78.63 seconds.\n",
      "\n",
      "\n",
      "Starting Adaptive Cosine Similarity Training with target: -0.08...\n",
      "Epoch [5], Iteration [400/470], Loss: 0.4926, Optimizer: Optimizer2\r"
     ]
    },
    {
     "name": "stderr",
     "output_type": "stream",
     "text": [
      "Running Experiments:  44%|████▍     | 22/50 [29:18<37:25, 80.18s/it]"
     ]
    },
    {
     "name": "stdout",
     "output_type": "stream",
     "text": [
      "Epoch [5], Iteration [470/470], Loss: 0.3446, Optimizer: Optimizer2\n",
      "Adaptive Cosine Similarity Training Completed in 80.42 seconds.\n",
      "\n",
      "\n",
      "Starting Adaptive Cosine Similarity Training with target: 0.56...\n",
      "Epoch [5], Iteration [400/470], Loss: 0.7320, Optimizer: Optimizer2\r"
     ]
    },
    {
     "name": "stderr",
     "output_type": "stream",
     "text": [
      "Running Experiments:  46%|████▌     | 23/50 [30:40<36:16, 80.61s/it]"
     ]
    },
    {
     "name": "stdout",
     "output_type": "stream",
     "text": [
      "Epoch [5], Iteration [470/470], Loss: 0.5218, Optimizer: Optimizer2\n",
      "Adaptive Cosine Similarity Training Completed in 81.61 seconds.\n",
      "\n",
      "\n",
      "Starting Adaptive Cosine Similarity Training with target: -0.76...\n",
      "Epoch [5], Iteration [400/470], Loss: 0.4507, Optimizer: Optimizer2\r"
     ]
    },
    {
     "name": "stderr",
     "output_type": "stream",
     "text": [
      "Running Experiments:  48%|████▊     | 24/50 [32:00<34:54, 80.56s/it]"
     ]
    },
    {
     "name": "stdout",
     "output_type": "stream",
     "text": [
      "Epoch [5], Iteration [470/470], Loss: 0.3157, Optimizer: Optimizer2\n",
      "Adaptive Cosine Similarity Training Completed in 80.42 seconds.\n",
      "\n",
      "\n",
      "Starting Adaptive Cosine Similarity Training with target: 0.28...\n",
      "Epoch [5], Iteration [400/470], Loss: 0.5706, Optimizer: Optimizer2\r"
     ]
    },
    {
     "name": "stderr",
     "output_type": "stream",
     "text": [
      "Running Experiments:  50%|█████     | 25/50 [33:21<33:34, 80.58s/it]"
     ]
    },
    {
     "name": "stdout",
     "output_type": "stream",
     "text": [
      "Epoch [5], Iteration [470/470], Loss: 0.3997, Optimizer: Optimizer2\n",
      "Adaptive Cosine Similarity Training Completed in 80.62 seconds.\n",
      "\n",
      "\n",
      "Starting Adaptive Cosine Similarity Training with target: -0.71...\n",
      "Epoch [5], Iteration [400/470], Loss: 0.4482, Optimizer: Optimizer2\r"
     ]
    },
    {
     "name": "stderr",
     "output_type": "stream",
     "text": [
      "Running Experiments:  52%|█████▏    | 26/50 [34:40<32:05, 80.21s/it]"
     ]
    },
    {
     "name": "stdout",
     "output_type": "stream",
     "text": [
      "Epoch [5], Iteration [470/470], Loss: 0.3179, Optimizer: Optimizer2\n",
      "Adaptive Cosine Similarity Training Completed in 79.34 seconds.\n",
      "\n",
      "\n",
      "Starting Adaptive Cosine Similarity Training with target: 0.89...\n",
      "Epoch [5], Iteration [400/470], Loss: 1.4657, Optimizer: Optimizer2\r"
     ]
    },
    {
     "name": "stderr",
     "output_type": "stream",
     "text": [
      "Running Experiments:  54%|█████▍    | 27/50 [35:58<30:29, 79.53s/it]"
     ]
    },
    {
     "name": "stdout",
     "output_type": "stream",
     "text": [
      "Epoch [5], Iteration [470/470], Loss: 1.2260, Optimizer: Optimizer2\n",
      "Adaptive Cosine Similarity Training Completed in 77.94 seconds.\n",
      "\n",
      "\n",
      "Starting Adaptive Cosine Similarity Training with target: 0.04...\n",
      "Epoch [5], Iteration [400/470], Loss: 0.5219, Optimizer: Optimizer2\r"
     ]
    },
    {
     "name": "stderr",
     "output_type": "stream",
     "text": [
      "Running Experiments:  56%|█████▌    | 28/50 [37:16<29:00, 79.10s/it]"
     ]
    },
    {
     "name": "stdout",
     "output_type": "stream",
     "text": [
      "Epoch [5], Iteration [470/470], Loss: 0.3589, Optimizer: Optimizer2\n",
      "Adaptive Cosine Similarity Training Completed in 78.08 seconds.\n",
      "\n",
      "\n",
      "Starting Adaptive Cosine Similarity Training with target: -0.17...\n",
      "Epoch [5], Iteration [400/470], Loss: 0.4843, Optimizer: Optimizer2\r"
     ]
    },
    {
     "name": "stderr",
     "output_type": "stream",
     "text": [
      "Running Experiments:  58%|█████▊    | 29/50 [38:35<27:36, 78.88s/it]"
     ]
    },
    {
     "name": "stdout",
     "output_type": "stream",
     "text": [
      "Epoch [5], Iteration [470/470], Loss: 0.3433, Optimizer: Optimizer2\n",
      "Adaptive Cosine Similarity Training Completed in 78.36 seconds.\n",
      "\n",
      "\n",
      "Starting Adaptive Cosine Similarity Training with target: -0.47...\n",
      "Epoch [5], Iteration [400/470], Loss: 0.4563, Optimizer: Optimizer2\r"
     ]
    },
    {
     "name": "stderr",
     "output_type": "stream",
     "text": [
      "Running Experiments:  60%|██████    | 30/50 [39:55<26:26, 79.33s/it]"
     ]
    },
    {
     "name": "stdout",
     "output_type": "stream",
     "text": [
      "Epoch [5], Iteration [470/470], Loss: 0.3169, Optimizer: Optimizer2\n",
      "Adaptive Cosine Similarity Training Completed in 80.38 seconds.\n",
      "\n",
      "\n",
      "Starting Adaptive Cosine Similarity Training with target: 0.55...\n",
      "Epoch [5], Iteration [400/470], Loss: 0.7060, Optimizer: Optimizer2\r"
     ]
    },
    {
     "name": "stderr",
     "output_type": "stream",
     "text": [
      "Running Experiments:  62%|██████▏   | 31/50 [41:15<25:08, 79.41s/it]"
     ]
    },
    {
     "name": "stdout",
     "output_type": "stream",
     "text": [
      "Epoch [5], Iteration [470/470], Loss: 0.4922, Optimizer: Optimizer2\n",
      "Adaptive Cosine Similarity Training Completed in 79.57 seconds.\n",
      "\n",
      "\n",
      "Starting Adaptive Cosine Similarity Training with target: -0.09...\n",
      "Epoch [5], Iteration [400/470], Loss: 0.4923, Optimizer: Optimizer2\r"
     ]
    },
    {
     "name": "stderr",
     "output_type": "stream",
     "text": [
      "Running Experiments:  64%|██████▍   | 32/50 [42:34<23:48, 79.35s/it]"
     ]
    },
    {
     "name": "stdout",
     "output_type": "stream",
     "text": [
      "Epoch [5], Iteration [470/470], Loss: 0.3424, Optimizer: Optimizer2\n",
      "Adaptive Cosine Similarity Training Completed in 79.21 seconds.\n",
      "\n",
      "\n",
      "Starting Adaptive Cosine Similarity Training with target: 0.14...\n",
      "Epoch [5], Iteration [400/470], Loss: 0.5314, Optimizer: Optimizer2\r"
     ]
    },
    {
     "name": "stderr",
     "output_type": "stream",
     "text": [
      "Running Experiments:  66%|██████▌   | 33/50 [43:53<22:28, 79.35s/it]"
     ]
    },
    {
     "name": "stdout",
     "output_type": "stream",
     "text": [
      "Epoch [5], Iteration [470/470], Loss: 0.3793, Optimizer: Optimizer2\n",
      "Adaptive Cosine Similarity Training Completed in 79.35 seconds.\n",
      "\n",
      "\n",
      "Starting Adaptive Cosine Similarity Training with target: -0.96...\n",
      "Epoch [5], Iteration [400/470], Loss: 0.4596, Optimizer: Optimizer2\r"
     ]
    },
    {
     "name": "stderr",
     "output_type": "stream",
     "text": [
      "Running Experiments:  68%|██████▊   | 34/50 [45:12<21:08, 79.25s/it]"
     ]
    },
    {
     "name": "stdout",
     "output_type": "stream",
     "text": [
      "Epoch [5], Iteration [470/470], Loss: 0.3295, Optimizer: Optimizer2\n",
      "Adaptive Cosine Similarity Training Completed in 79.01 seconds.\n",
      "\n",
      "\n",
      "Starting Adaptive Cosine Similarity Training with target: 0.24...\n",
      "Epoch [5], Iteration [400/470], Loss: 0.5663, Optimizer: Optimizer2\r"
     ]
    },
    {
     "name": "stderr",
     "output_type": "stream",
     "text": [
      "Running Experiments:  70%|███████   | 35/50 [46:31<19:45, 79.03s/it]"
     ]
    },
    {
     "name": "stdout",
     "output_type": "stream",
     "text": [
      "Epoch [5], Iteration [470/470], Loss: 0.3854, Optimizer: Optimizer2\n",
      "Adaptive Cosine Similarity Training Completed in 78.51 seconds.\n",
      "\n",
      "\n",
      "Starting Adaptive Cosine Similarity Training with target: 0.22...\n",
      "Epoch [5], Iteration [400/470], Loss: 0.5489, Optimizer: Optimizer2\r"
     ]
    },
    {
     "name": "stderr",
     "output_type": "stream",
     "text": [
      "Running Experiments:  72%|███████▏  | 36/50 [47:49<18:25, 78.97s/it]"
     ]
    },
    {
     "name": "stdout",
     "output_type": "stream",
     "text": [
      "Epoch [5], Iteration [470/470], Loss: 0.3858, Optimizer: Optimizer2\n",
      "Adaptive Cosine Similarity Training Completed in 78.81 seconds.\n",
      "\n",
      "\n",
      "Starting Adaptive Cosine Similarity Training with target: 0.23...\n",
      "Epoch [5], Iteration [400/470], Loss: 0.5495, Optimizer: Optimizer2\r"
     ]
    },
    {
     "name": "stderr",
     "output_type": "stream",
     "text": [
      "Running Experiments:  74%|███████▍  | 37/50 [49:11<17:17, 79.84s/it]"
     ]
    },
    {
     "name": "stdout",
     "output_type": "stream",
     "text": [
      "Epoch [5], Iteration [470/470], Loss: 0.3778, Optimizer: Optimizer2\n",
      "Adaptive Cosine Similarity Training Completed in 81.85 seconds.\n",
      "\n",
      "\n",
      "Starting Adaptive Cosine Similarity Training with target: 0.89...\n",
      "Epoch [5], Iteration [400/470], Loss: 1.4472, Optimizer: Optimizer2\r"
     ]
    },
    {
     "name": "stderr",
     "output_type": "stream",
     "text": [
      "Running Experiments:  76%|███████▌  | 38/50 [50:31<15:59, 79.93s/it]"
     ]
    },
    {
     "name": "stdout",
     "output_type": "stream",
     "text": [
      "Epoch [5], Iteration [470/470], Loss: 1.1993, Optimizer: Optimizer2\n",
      "Adaptive Cosine Similarity Training Completed in 80.14 seconds.\n",
      "\n",
      "\n",
      "Starting Adaptive Cosine Similarity Training with target: 0.36...\n",
      "Epoch [5], Iteration [400/470], Loss: 0.6084, Optimizer: Optimizer2\r"
     ]
    },
    {
     "name": "stderr",
     "output_type": "stream",
     "text": [
      "Running Experiments:  78%|███████▊  | 39/50 [51:50<14:33, 79.41s/it]"
     ]
    },
    {
     "name": "stdout",
     "output_type": "stream",
     "text": [
      "Epoch [5], Iteration [470/470], Loss: 0.4283, Optimizer: Optimizer2\n",
      "Adaptive Cosine Similarity Training Completed in 78.21 seconds.\n",
      "\n",
      "\n",
      "Starting Adaptive Cosine Similarity Training with target: -0.28...\n",
      "Epoch [5], Iteration [400/470], Loss: 0.4821, Optimizer: Optimizer2\r"
     ]
    },
    {
     "name": "stderr",
     "output_type": "stream",
     "text": [
      "Running Experiments:  80%|████████  | 40/50 [53:09<13:13, 79.32s/it]"
     ]
    },
    {
     "name": "stdout",
     "output_type": "stream",
     "text": [
      "Epoch [5], Iteration [470/470], Loss: 0.3341, Optimizer: Optimizer2\n",
      "Adaptive Cosine Similarity Training Completed in 79.10 seconds.\n",
      "\n",
      "\n",
      "Starting Adaptive Cosine Similarity Training with target: -0.13...\n",
      "Epoch [5], Iteration [400/470], Loss: 0.4887, Optimizer: Optimizer2\r"
     ]
    },
    {
     "name": "stderr",
     "output_type": "stream",
     "text": [
      "Running Experiments:  82%|████████▏ | 41/50 [54:28<11:53, 79.24s/it]"
     ]
    },
    {
     "name": "stdout",
     "output_type": "stream",
     "text": [
      "Epoch [5], Iteration [470/470], Loss: 0.3430, Optimizer: Optimizer2\n",
      "Adaptive Cosine Similarity Training Completed in 79.05 seconds.\n",
      "\n",
      "\n",
      "Starting Adaptive Cosine Similarity Training with target: 0.40...\n",
      "Epoch [5], Iteration [400/470], Loss: 0.6156, Optimizer: Optimizer2\r"
     ]
    },
    {
     "name": "stderr",
     "output_type": "stream",
     "text": [
      "Running Experiments:  84%|████████▍ | 42/50 [55:47<10:32, 79.09s/it]"
     ]
    },
    {
     "name": "stdout",
     "output_type": "stream",
     "text": [
      "Epoch [5], Iteration [470/470], Loss: 0.4353, Optimizer: Optimizer2\n",
      "Adaptive Cosine Similarity Training Completed in 78.73 seconds.\n",
      "\n",
      "\n",
      "Starting Adaptive Cosine Similarity Training with target: -0.88...\n",
      "Epoch [5], Iteration [400/470], Loss: 0.4433, Optimizer: Optimizer2\r"
     ]
    },
    {
     "name": "stderr",
     "output_type": "stream",
     "text": [
      "Running Experiments:  86%|████████▌ | 43/50 [57:09<09:20, 80.14s/it]"
     ]
    },
    {
     "name": "stdout",
     "output_type": "stream",
     "text": [
      "Epoch [5], Iteration [470/470], Loss: 0.3206, Optimizer: Optimizer2\n",
      "Adaptive Cosine Similarity Training Completed in 82.57 seconds.\n",
      "\n",
      "\n",
      "Starting Adaptive Cosine Similarity Training with target: 0.33...\n",
      "Epoch [5], Iteration [400/470], Loss: 0.6019, Optimizer: Optimizer2\r"
     ]
    },
    {
     "name": "stderr",
     "output_type": "stream",
     "text": [
      "Running Experiments:  88%|████████▊ | 44/50 [58:29<07:59, 79.91s/it]"
     ]
    },
    {
     "name": "stdout",
     "output_type": "stream",
     "text": [
      "Epoch [5], Iteration [470/470], Loss: 0.4113, Optimizer: Optimizer2\n",
      "Adaptive Cosine Similarity Training Completed in 79.38 seconds.\n",
      "\n",
      "\n",
      "Starting Adaptive Cosine Similarity Training with target: 0.34...\n",
      "Epoch [5], Iteration [400/470], Loss: 0.6143, Optimizer: Optimizer2\r"
     ]
    },
    {
     "name": "stderr",
     "output_type": "stream",
     "text": [
      "Running Experiments:  90%|█████████ | 45/50 [59:50<06:42, 80.49s/it]"
     ]
    },
    {
     "name": "stdout",
     "output_type": "stream",
     "text": [
      "Epoch [5], Iteration [470/470], Loss: 0.4266, Optimizer: Optimizer2\n",
      "Adaptive Cosine Similarity Training Completed in 81.83 seconds.\n",
      "\n",
      "\n",
      "Starting Adaptive Cosine Similarity Training with target: -0.58...\n",
      "Epoch [5], Iteration [400/470], Loss: 0.4505, Optimizer: Optimizer2\r"
     ]
    },
    {
     "name": "stderr",
     "output_type": "stream",
     "text": [
      "Running Experiments:  92%|█████████▏| 46/50 [1:01:09<05:19, 79.99s/it]"
     ]
    },
    {
     "name": "stdout",
     "output_type": "stream",
     "text": [
      "Epoch [5], Iteration [470/470], Loss: 0.3247, Optimizer: Optimizer2\n",
      "Adaptive Cosine Similarity Training Completed in 78.80 seconds.\n",
      "\n",
      "\n",
      "Starting Adaptive Cosine Similarity Training with target: -0.74...\n",
      "Epoch [5], Iteration [400/470], Loss: 0.4569, Optimizer: Optimizer2\r"
     ]
    },
    {
     "name": "stderr",
     "output_type": "stream",
     "text": [
      "Running Experiments:  94%|█████████▍| 47/50 [1:02:30<04:00, 80.32s/it]"
     ]
    },
    {
     "name": "stdout",
     "output_type": "stream",
     "text": [
      "Epoch [5], Iteration [470/470], Loss: 0.3170, Optimizer: Optimizer2\n",
      "Adaptive Cosine Similarity Training Completed in 81.10 seconds.\n",
      "\n",
      "\n",
      "Starting Adaptive Cosine Similarity Training with target: -0.37...\n",
      "Epoch [5], Iteration [400/470], Loss: 0.4708, Optimizer: Optimizer2\r"
     ]
    },
    {
     "name": "stderr",
     "output_type": "stream",
     "text": [
      "Running Experiments:  96%|█████████▌| 48/50 [1:03:49<02:39, 79.88s/it]"
     ]
    },
    {
     "name": "stdout",
     "output_type": "stream",
     "text": [
      "Epoch [5], Iteration [470/470], Loss: 0.3292, Optimizer: Optimizer2\n",
      "Adaptive Cosine Similarity Training Completed in 78.84 seconds.\n",
      "\n",
      "\n",
      "Starting Adaptive Cosine Similarity Training with target: -0.27...\n",
      "Epoch [5], Iteration [400/470], Loss: 0.4743, Optimizer: Optimizer2\r"
     ]
    },
    {
     "name": "stderr",
     "output_type": "stream",
     "text": [
      "Running Experiments:  98%|█████████▊| 49/50 [1:05:08<01:19, 79.56s/it]"
     ]
    },
    {
     "name": "stdout",
     "output_type": "stream",
     "text": [
      "Epoch [5], Iteration [470/470], Loss: 0.3314, Optimizer: Optimizer2\n",
      "Adaptive Cosine Similarity Training Completed in 78.81 seconds.\n",
      "\n",
      "\n",
      "Starting Adaptive Cosine Similarity Training with target: 0.14...\n",
      "Epoch [5], Iteration [400/470], Loss: 0.5391, Optimizer: Optimizer2\r"
     ]
    },
    {
     "name": "stderr",
     "output_type": "stream",
     "text": [
      "Running Experiments: 100%|██████████| 50/50 [1:06:27<00:00, 79.74s/it]"
     ]
    },
    {
     "name": "stdout",
     "output_type": "stream",
     "text": [
      "Epoch [5], Iteration [470/470], Loss: 0.3689, Optimizer: Optimizer2\n",
      "Adaptive Cosine Similarity Training Completed in 78.53 seconds.\n",
      "\n"
     ]
    },
    {
     "name": "stderr",
     "output_type": "stream",
     "text": [
      "\n"
     ]
    }
   ],
   "source": [
    "# Part 6: Running Experiments\n",
    "# ----------------------------\n",
    "\n",
    "# Number of experiments\n",
    "num_experiments = 50\n",
    "\n",
    "# Number of epochs per experiment\n",
    "epochs = 5\n",
    "\n",
    "# Initialize list to store results\n",
    "results = []\n",
    "\n",
    "# Initialize the base model once to ensure consistency across experiments\n",
    "base_model = initialize_model()\n",
    "\n",
    "# Run 50 experiments with random target cosine similarities\n",
    "for exp in tqdm(range(num_experiments), desc=\"Running Experiments\"):\n",
    "    # Generate random target cosine similarity between -1.00 and 1.00\n",
    "    target_cos_sim = np.random.uniform(-1.0, 1.0)\n",
    "    \n",
    "    # Initialize a fresh model for this experiment\n",
    "    model = initialize_model()\n",
    "    \n",
    "    # Train the model with adaptive cosine similarity\n",
    "    model_trained, loss_adaptive, cos_sim_adaptive = train_adaptive_cosine_similarity(\n",
    "        model, train_loader, epochs=epochs, desired_cos_sim=target_cos_sim\n",
    "    )\n",
    "    \n",
    "    # Ensure there are at least 100 steps to analyze\n",
    "    if len(cos_sim_adaptive) >= 100:\n",
    "        last_100_cos_sims = cos_sim_adaptive[-100:]\n",
    "        last_100_losses = loss_adaptive[-100:]\n",
    "    else:\n",
    "        last_100_cos_sims = cos_sim_adaptive\n",
    "        last_100_losses = loss_adaptive\n",
    "    \n",
    "    # Compute averages\n",
    "    avg_cos_sim = np.mean(last_100_cos_sims) if len(last_100_cos_sims) > 0 else None\n",
    "    avg_loss = np.mean(last_100_losses) if len(last_100_losses) > 0 else None\n",
    "    \n",
    "    # Append the results\n",
    "    results.append({\n",
    "        'target_value': round(target_cos_sim, 4),\n",
    "        'average_cosine_similarity_last_100_steps': round(avg_cos_sim, 4),\n",
    "        'average_training_loss_last_100_steps': round(avg_loss, 4)\n",
    "    })\n"
   ]
  },
  {
   "cell_type": "code",
   "execution_count": 6,
   "id": "d407ca88-0bbf-4940-a5ad-288f6d588bec",
   "metadata": {},
   "outputs": [
    {
     "name": "stdout",
     "output_type": "stream",
     "text": [
      "\n",
      "Final Results Table:\n",
      "    target_value  average_cosine_similarity_last_100_steps  \\\n",
      "0         0.4304                                   -0.1774   \n",
      "1         0.2055                                   -0.0339   \n",
      "2         0.0898                                    0.0286   \n",
      "3        -0.1527                                    0.1463   \n",
      "4         0.2918                                   -0.0870   \n",
      "5        -0.1248                                    0.1284   \n",
      "6         0.7835                                   -0.5837   \n",
      "7         0.9273                                   -0.7990   \n",
      "8        -0.2331                                    0.1786   \n",
      "9         0.5835                                   -0.3108   \n",
      "10        0.0578                                    0.0460   \n",
      "11        0.1361                                    0.0012   \n",
      "12        0.8512                                   -0.6822   \n",
      "13       -0.8579                                    0.4741   \n",
      "14       -0.8257                                    0.4606   \n",
      "15       -0.9596                                    0.5109   \n",
      "16        0.6652                                   -0.4091   \n",
      "17        0.5563                                   -0.2833   \n",
      "18        0.7400                                   -0.5089   \n",
      "19        0.9572                                   -0.8453   \n",
      "20        0.5983                                   -0.3236   \n",
      "21       -0.0770                                    0.1096   \n",
      "22        0.5611                                   -0.2861   \n",
      "23       -0.7635                                    0.4297   \n",
      "24        0.2798                                   -0.0783   \n",
      "25       -0.7133                                    0.4112   \n",
      "26        0.8893                                   -0.7454   \n",
      "27        0.0437                                    0.0542   \n",
      "28       -0.1707                                    0.1581   \n",
      "29       -0.4709                                    0.2964   \n",
      "30        0.5485                                   -0.2754   \n",
      "31       -0.0877                                    0.1173   \n",
      "32        0.1369                                    0.0039   \n",
      "33       -0.9624                                    0.5152   \n",
      "34        0.2353                                   -0.0480   \n",
      "35        0.2242                                   -0.0461   \n",
      "36        0.2339                                   -0.0515   \n",
      "37        0.8875                                   -0.7389   \n",
      "38        0.3636                                   -0.1263   \n",
      "39       -0.2810                                    0.2109   \n",
      "40       -0.1259                                    0.1404   \n",
      "41        0.3953                                   -0.1527   \n",
      "42       -0.8795                                    0.4817   \n",
      "43        0.3335                                   -0.1073   \n",
      "44        0.3413                                   -0.1141   \n",
      "45       -0.5792                                    0.3468   \n",
      "46       -0.7421                                    0.4276   \n",
      "47       -0.3691                                    0.2472   \n",
      "48       -0.2726                                    0.2043   \n",
      "49        0.1404                                   -0.0007   \n",
      "\n",
      "    average_training_loss_last_100_steps  \n",
      "0                                 0.6089  \n",
      "1                                 0.5157  \n",
      "2                                 0.4809  \n",
      "3                                 0.4444  \n",
      "4                                 0.5343  \n",
      "5                                 0.4465  \n",
      "6                                 1.0582  \n",
      "7                                 1.6033  \n",
      "8                                 0.4304  \n",
      "9                                 0.6994  \n",
      "10                                0.4770  \n",
      "11                                0.4919  \n",
      "12                                1.2383  \n",
      "13                                0.4028  \n",
      "14                                0.4055  \n",
      "15                                0.4106  \n",
      "16                                0.7982  \n",
      "17                                0.6731  \n",
      "18                                0.9240  \n",
      "19                                1.7723  \n",
      "20                                0.7098  \n",
      "21                                0.4522  \n",
      "22                                0.6854  \n",
      "23                                0.4095  \n",
      "24                                0.5262  \n",
      "25                                0.4079  \n",
      "26                                1.4042  \n",
      "27                                0.4808  \n",
      "28                                0.4435  \n",
      "29                                0.4224  \n",
      "30                                0.6537  \n",
      "31                                0.4533  \n",
      "32                                0.4952  \n",
      "33                                0.4147  \n",
      "34                                0.5283  \n",
      "35                                0.5167  \n",
      "36                                0.5131  \n",
      "37                                1.3805  \n",
      "38                                0.5705  \n",
      "39                                0.4354  \n",
      "40                                0.4552  \n",
      "41                                0.5726  \n",
      "42                                0.4075  \n",
      "43                                0.5566  \n",
      "44                                0.5705  \n",
      "45                                0.4139  \n",
      "46                                0.4083  \n",
      "47                                0.4269  \n",
      "48                                0.4342  \n",
      "49                                0.4961  \n"
     ]
    },
    {
     "data": {
      "image/png": "[encoded data removed]",
      "text/plain": [
       "<Figure size 1400x600 with 2 Axes>"
      ]
     },
     "metadata": {},
     "output_type": "display_data"
    }
   ],
   "source": [
    "# Part 8: Visualization\n",
    "# ---------------------\n",
    "\n",
    "# Ensure 'results' list exists and create the dataframe if not created earlier\n",
    "if 'df_results' not in globals():\n",
    "    df_results = pd.DataFrame(results)\n",
    "\n",
    "# Display the final table\n",
    "print(\"\\nFinal Results Table:\")\n",
    "print(df_results)\n",
    "\n",
    "# Sort the dataframe by target_value for plotting\n",
    "df_sorted = df_results.sort_values(by='target_value')\n",
    "\n",
    "# Plotting\n",
    "plt.figure(figsize=(14, 6))\n",
    "\n",
    "# Subplot 1: Target vs Average Cosine Similarity\n",
    "plt.subplot(1, 2, 1)\n",
    "plt.scatter(df_sorted['target_value'], df_sorted['average_cosine_similarity_last_100_steps'], color='blue')\n",
    "plt.plot(df_sorted['target_value'], df_sorted['average_cosine_similarity_last_100_steps'], linestyle='-', color='blue')\n",
    "plt.xlabel('Target Cosine Similarity')\n",
    "plt.ylabel('Average Cosine Similarity (Last 100 Steps)')\n",
    "plt.title('Target vs Average Cosine Similarity')\n",
    "plt.grid(True)\n",
    "\n",
    "# Subplot 2: Target vs Average Training Loss\n",
    "plt.subplot(1, 2, 2)\n",
    "plt.scatter(df_sorted['target_value'], df_sorted['average_training_loss_last_100_steps'], color='green')\n",
    "plt.plot(df_sorted['target_value'], df_sorted['average_training_loss_last_100_steps'], linestyle='-', color='green')\n",
    "plt.xlabel('Target Cosine Similarity')\n",
    "plt.ylabel('Average Training Loss (Last 100 Steps)')\n",
    "plt.title('Target vs Average Training Loss')\n",
    "plt.grid(True)\n",
    "\n",
    "plt.tight_layout()\n",
    "plt.show()\n"
   ]
  },
  {
   "cell_type": "code",
   "execution_count": 8,
   "id": "eb7c9b26-c281-4f00-bac3-9ed4031dcf30",
   "metadata": {},
   "outputs": [
    {
     "name": "stdout",
     "output_type": "stream",
     "text": [
      "Using device: cuda\n",
      "\n",
      "Starting Adaptive Cosine Similarity Training...\n"
     ]
    },
    {
     "ename": "KeyError",
     "evalue": "'state'",
     "output_type": "error",
     "traceback": [
      "\u001b[0;31m---------------------------------------------------------------------------\u001b[0m",
      "\u001b[0;31mKeyError\u001b[0m                                  Traceback (most recent call last)",
      "Cell \u001b[0;32mIn[8], line 219\u001b[0m\n\u001b[1;32m    217\u001b[0m \u001b[38;5;66;03m# Train the model using the adaptive cosine similarity method\u001b[39;00m\n\u001b[1;32m    218\u001b[0m desired_cos_sim \u001b[38;5;241m=\u001b[39m \u001b[38;5;241m0.\u001b[39m  \u001b[38;5;66;03m# Desired cosine similarity between -1 and 1\u001b[39;00m\n\u001b[0;32m--> 219\u001b[0m model_adaptive, loss_adaptive, cos_sim_adaptive, momentum_optimizer1, momentum_optimizer2 \u001b[38;5;241m=\u001b[39m \u001b[43mtrain_adaptive_cosine_similarity\u001b[49m\u001b[43m(\u001b[49m\n\u001b[1;32m    220\u001b[0m \u001b[43m    \u001b[49m\u001b[43mmodel\u001b[49m\u001b[43m,\u001b[49m\u001b[43m \u001b[49m\u001b[43mtrain_loader\u001b[49m\u001b[43m,\u001b[49m\u001b[43m \u001b[49m\u001b[43mepochs\u001b[49m\u001b[38;5;241;43m=\u001b[39;49m\u001b[43mepochs\u001b[49m\u001b[43m,\u001b[49m\u001b[43m \u001b[49m\u001b[43mdesired_cos_sim\u001b[49m\u001b[38;5;241;43m=\u001b[39;49m\u001b[43mdesired_cos_sim\u001b[49m\n\u001b[1;32m    221\u001b[0m \u001b[43m)\u001b[49m\n\u001b[1;32m    223\u001b[0m \u001b[38;5;66;03m# Function to plot loss curves\u001b[39;00m\n\u001b[1;32m    224\u001b[0m \u001b[38;5;28;01mdef\u001b[39;00m \u001b[38;5;21mplot_losses\u001b[39m(losses):\n",
      "Cell \u001b[0;32mIn[8], line 196\u001b[0m, in \u001b[0;36mtrain_adaptive_cosine_similarity\u001b[0;34m(model, loader, epochs, desired_cos_sim)\u001b[0m\n\u001b[1;32m    193\u001b[0m         cos_sim_list\u001b[38;5;241m.\u001b[39mappend(cos_sim)\n\u001b[1;32m    195\u001b[0m \u001b[38;5;66;03m# Track the magnitude of the first moment (momentum) for analysis\u001b[39;00m\n\u001b[0;32m--> 196\u001b[0m moment_1st_optimizer \u001b[38;5;241m=\u001b[39m [group[\u001b[38;5;124m'\u001b[39m\u001b[38;5;124mexp_avg\u001b[39m\u001b[38;5;124m'\u001b[39m] \u001b[38;5;28;01mfor\u001b[39;00m group \u001b[38;5;129;01min\u001b[39;00m \u001b[43moptimizer\u001b[49m\u001b[38;5;241;43m.\u001b[39;49m\u001b[43mparam_groups\u001b[49m\u001b[43m[\u001b[49m\u001b[38;5;241;43m0\u001b[39;49m\u001b[43m]\u001b[49m\u001b[43m[\u001b[49m\u001b[38;5;124;43m'\u001b[39;49m\u001b[38;5;124;43mstate\u001b[39;49m\u001b[38;5;124;43m'\u001b[39;49m\u001b[43m]\u001b[49m\u001b[38;5;241m.\u001b[39mvalues()]\n\u001b[1;32m    197\u001b[0m moment_magnitudes \u001b[38;5;241m=\u001b[39m \u001b[38;5;28msum\u001b[39m([torch\u001b[38;5;241m.\u001b[39mnorm(m)\u001b[38;5;241m.\u001b[39mitem() \u001b[38;5;28;01mfor\u001b[39;00m m \u001b[38;5;129;01min\u001b[39;00m moment_1st_optimizer])\n\u001b[1;32m    198\u001b[0m momentum_tracker\u001b[38;5;241m.\u001b[39mappend(moment_magnitudes)\n",
      "\u001b[0;31mKeyError\u001b[0m: 'state'"
     ]
    }
   ],
   "source": [
    "# Part 1: Imports and Setup\n",
    "# --------------------------\n",
    "\n",
    "import torch\n",
    "import torch.nn as nn\n",
    "import torch.optim as optim\n",
    "from torchvision import datasets, transforms\n",
    "import numpy as np\n",
    "import matplotlib.pyplot as plt\n",
    "from copy import deepcopy\n",
    "import time\n",
    "\n",
    "# Set random seed for reproducibility\n",
    "torch.manual_seed(0)\n",
    "np.random.seed(0)\n",
    "\n",
    "# Use GPU if available\n",
    "device = torch.device(\"cuda\" if torch.cuda.is_available() else \"cpu\")\n",
    "print(f\"Using device: {device}\")\n",
    "\n",
    "# Part 2: Data Preparation\n",
    "# ------------------------\n",
    "\n",
    "# Define transformations for the MNIST dataset\n",
    "transform = transforms.Compose([\n",
    "    transforms.ToTensor(),\n",
    "    transforms.Normalize((0.1307,), (0.3081,))\n",
    "])\n",
    "\n",
    "# Load the MNIST training dataset\n",
    "train_dataset = datasets.MNIST('.', train=True, download=True, transform=transform)\n",
    "\n",
    "# Create a single data loader with shuffling\n",
    "batch_size = 640\n",
    "train_loader = torch.utils.data.DataLoader(\n",
    "    train_dataset, batch_size=batch_size, shuffle=False\n",
    ")\n",
    "\n",
    "# Load test data\n",
    "test_dataset = datasets.MNIST('.', train=False, transform=transform)\n",
    "test_loader = torch.utils.data.DataLoader(test_dataset, batch_size=batch_size, shuffle=False)\n",
    "\n",
    "# Part 3: Model Definition\n",
    "# ------------------------\n",
    "\n",
    "# Define a simple fully connected neural network\n",
    "class SimpleNet(nn.Module):\n",
    "    def __init__(self):\n",
    "        super(SimpleNet, self).__init__()\n",
    "        self.flatten = nn.Flatten()\n",
    "        self.fc1 = nn.Linear(28*28, 256)\n",
    "        self.relu1 = nn.ReLU()\n",
    "        self.fc2 = nn.Linear(256, 10)\n",
    "    \n",
    "    def forward(self, x):\n",
    "        x = self.flatten(x)\n",
    "        x = self.relu1(self.fc1(x))\n",
    "        x = self.fc2(x)\n",
    "        return x\n",
    "\n",
    "# Initialize the model\n",
    "model = SimpleNet().to(device)\n",
    "\n",
    "# Part 4: Utility Functions\n",
    "# -------------------------\n",
    "\n",
    "# Function to compute cosine similarity between two vectors\n",
    "def cosine_similarity(vec1, vec2):\n",
    "    cos = torch.nn.functional.cosine_similarity(vec1, vec2, dim=0)\n",
    "    return cos.item()\n",
    "\n",
    "# Function to flatten model parameters or gradients into a single vector\n",
    "def flatten_params(params):\n",
    "    return torch.cat([p.view(-1) for p in params])\n",
    "\n",
    "# Function to evaluate the model on the test dataset\n",
    "def evaluate_model(model, test_loader):\n",
    "    model.eval()\n",
    "    correct = 0\n",
    "    total = 0\n",
    "    with torch.no_grad():\n",
    "        for data, target in test_loader:\n",
    "            data, target = data.to(device), target.to(device)\n",
    "            output = model(data)\n",
    "            _, pred = torch.max(output.data, 1)\n",
    "            total += target.size(0)\n",
    "            correct += (pred == target).sum().item()\n",
    "    accuracy = 100 * correct / total\n",
    "    return accuracy\n",
    "\n",
    "# Function to print training progress\n",
    "def print_progress(epoch, iteration, total_iterations, loss, optimizer_name):\n",
    "    print(f\"Epoch [{epoch+1}], Iteration [{iteration}/{total_iterations}], \"\n",
    "          f\"Loss: {loss:.4f}, Optimizer: {optimizer_name}\", end='\\r')\n",
    "\n",
    "# Part 5: Adaptive Cosine Similarity Training Loop\n",
    "# ------------------------------------------------\n",
    "\n",
    "def train_adaptive_cosine_similarity(model, loader, epochs, desired_cos_sim=-0.6):\n",
    "    print(\"\\nStarting Adaptive Cosine Similarity Training...\")\n",
    "    criterion = nn.CrossEntropyLoss()\n",
    "    model_adaptive = deepcopy(model).to(device)\n",
    "    \n",
    "    # Initialize two Adam optimizers with the same hyperparameters\n",
    "    optimizer1_adaptive = optim.Adam(model_adaptive.parameters(), lr=0.001)\n",
    "    optimizer2_adaptive = optim.Adam(model_adaptive.parameters(), lr=0.001)\n",
    "    \n",
    "    loss_list = []\n",
    "    cos_sim_list = []\n",
    "    momentum_magnitudes_optimizer1 = []\n",
    "    momentum_magnitudes_optimizer2 = []\n",
    "    \n",
    "    optimizer_updates = {'Optimizer1': [], 'Optimizer2': []}\n",
    "    total_iterations = len(loader) * epochs\n",
    "    iteration = 0\n",
    "    start_time = time.time()\n",
    "    \n",
    "    for epoch in range(epochs):\n",
    "        model_adaptive.train()\n",
    "        for batch_idx, (data, target) in enumerate(loader):\n",
    "            iteration += 1\n",
    "            data, target = data.to(device), target.to(device)\n",
    "            \n",
    "            # Determine which optimizer to use\n",
    "            if batch_idx % 2 == 0:\n",
    "                optimizer = optimizer1_adaptive\n",
    "                optimizer_name = 'Optimizer1'\n",
    "                momentum_tracker = momentum_magnitudes_optimizer1\n",
    "            else:\n",
    "                optimizer = optimizer2_adaptive\n",
    "                optimizer_name = 'Optimizer2'\n",
    "                momentum_tracker = momentum_magnitudes_optimizer2\n",
    "            \n",
    "            # Zero gradients\n",
    "            optimizer.zero_grad()\n",
    "            \n",
    "            # Forward pass\n",
    "            output = model_adaptive(data)\n",
    "            loss = criterion(output, target)\n",
    "            \n",
    "            # Backward pass\n",
    "            loss.backward()\n",
    "            \n",
    "            # Record parameters before update\n",
    "            params_before = flatten_params([p.data.clone() for p in model_adaptive.parameters()])\n",
    "            \n",
    "            # Apply Adaptive Cosine Similarity Adjustment if using Optimizer2\n",
    "            if optimizer_name == 'Optimizer2' and len(optimizer_updates['Optimizer1']) > 0:\n",
    "                # Get the last update from Optimizer1\n",
    "                last_delta1 = optimizer_updates['Optimizer1'][-1]\n",
    "                # Current gradients\n",
    "                current_grads = flatten_params([p.grad.clone() for p in model_adaptive.parameters()])\n",
    "                \n",
    "                # Decompose current gradients\n",
    "                delta1_norm = torch.norm(last_delta1) + 1e-8\n",
    "                grad_norm = torch.norm(current_grads) + 1e-8\n",
    "                \n",
    "                # Projection of current_grads onto delta1\n",
    "                proj = (current_grads @ last_delta1) / (delta1_norm ** 2) * last_delta1\n",
    "                # Orthogonal component\n",
    "                orthogonal = current_grads - proj\n",
    "                orthogonal_norm = torch.norm(orthogonal) + 1e-8\n",
    "                \n",
    "                # Compute adjusted gradients\n",
    "                adjusted_grads = (desired_cos_sim * grad_norm / delta1_norm) * last_delta1 + \\\n",
    "                                 (np.sqrt(1 - desired_cos_sim ** 2) * grad_norm / orthogonal_norm) * orthogonal\n",
    "                \n",
    "                # Assign adjusted gradients back to model parameters\n",
    "                with torch.no_grad():\n",
    "                    idx = 0\n",
    "                    for p in model_adaptive.parameters():\n",
    "                        num_params = p.numel()\n",
    "                        p.grad.copy_(adjusted_grads[idx:idx+num_params].view_as(p))\n",
    "                        idx += num_params\n",
    "            \n",
    "            # Optimizer step\n",
    "            optimizer.step()\n",
    "            \n",
    "            # Record parameters after update\n",
    "            params_after = flatten_params([p.data.clone() for p in model_adaptive.parameters()])\n",
    "            \n",
    "            # Compute delta\n",
    "            delta = params_after - params_before\n",
    "            optimizer_updates[optimizer_name].append(delta)\n",
    "            \n",
    "            # Compute cosine similarity if both optimizers have at least one update\n",
    "            if len(optimizer_updates['Optimizer1']) > 0 and len(optimizer_updates['Optimizer2']) > 0:\n",
    "                latest_delta1 = optimizer_updates['Optimizer1'][-1]\n",
    "                latest_delta2 = optimizer_updates['Optimizer2'][-1]\n",
    "                # Ensure both deltas are the same size\n",
    "                if latest_delta1.shape == latest_delta2.shape:\n",
    "                    cos_sim = cosine_similarity(latest_delta1, latest_delta2)\n",
    "                    cos_sim_list.append(cos_sim)\n",
    "            \n",
    "            # Track the magnitude of the first moment (momentum) for analysis\n",
    "            moment_1st_optimizer = [group['exp_avg'] for group in optimizer.param_groups[0]['state'].values()]\n",
    "            moment_magnitudes = sum([torch.norm(m).item() for m in moment_1st_optimizer])\n",
    "            momentum_tracker.append(moment_magnitudes)\n",
    "            \n",
    "            # Record loss\n",
    "            loss_list.append(loss.item())\n",
    "            \n",
    "            # Print progress every 100 iterations\n",
    "            if iteration % 100 == 0 or iteration == total_iterations:\n",
    "                print_progress(epoch, iteration, total_iterations, loss.item(), optimizer_name)\n",
    "    \n",
    "    end_time = time.time()\n",
    "    print(f\"\\nAdaptive Cosine Similarity Training Completed in {end_time - start_time:.2f} seconds.\\n\")\n",
    "    return model_adaptive, loss_list, cos_sim_list, momentum_magnitudes_optimizer1, momentum_magnitudes_optimizer2\n",
    "\n",
    "# Part 6: Running the Adaptive Training and Analysis\n",
    "# --------------------------------------------------\n",
    "\n",
    "# Number of epochs for training\n",
    "epochs = 5  # Adjust as needed\n",
    "\n",
    "# Train the model using the adaptive cosine similarity method\n",
    "desired_cos_sim = 0.  # Desired cosine similarity between -1 and 1\n",
    "model_adaptive, loss_adaptive, cos_sim_adaptive, momentum_optimizer1, momentum_optimizer2 = train_adaptive_cosine_similarity(\n",
    "    model, train_loader, epochs=epochs, desired_cos_sim=desired_cos_sim\n",
    ")\n",
    "\n",
    "# Function to plot loss curves\n",
    "def plot_losses(losses):\n",
    "    plt.figure(figsize=(10, 5))\n",
    "    plt.plot(losses, label='Loss')\n",
    "    plt.xlabel('Iteration')\n",
    "    plt.ylabel('Loss')\n",
    "    plt.title('Loss Curve - Adaptive Cosine Similarity')\n",
    "    plt.legend()\n",
    "    plt.show()\n",
    "\n",
    "# Function to plot cosine similarity\n",
    "def plot_cosine_similarity(cos_sims):\n",
    "    plt.figure(figsize=(10, 5))\n",
    "    plt.plot(cos_sims)\n",
    "    plt.xlabel('Iteration')\n",
    "    plt.ylabel('Cosine Similarity')\n",
    "    plt.title('Cosine Similarity Between Optimizers - Adaptive Method')\n",
    "    plt.show()\n",
    "\n",
    "# Function to plot momentum magnitudes\n",
    "def plot_momentum(momentum_optimizer1, momentum_optimizer2):\n",
    "    plt.figure(figsize=(10, 5))\n",
    "    plt.plot(momentum_optimizer1, label=\"Optimizer1 Momentum\")\n",
    "    plt.plot(momentum_optimizer2, label=\"Optimizer2 Momentum\")\n",
    "    plt.xlabel('Iteration')\n",
    "    plt.ylabel('Momentum Magnitude')\n",
    "    plt.title('Momentum Magnitudes of Adam Optimizers')\n",
    "    plt.legend()\n",
    "    plt.show()\n",
    "\n",
    "# Plot the loss, cosine similarity, and momentum magnitudes\n",
    "plot_losses(loss_adaptive)\n",
    "plot_cosine_similarity(cos_sim_adaptive)\n",
    "plot_momentum(momentum_optimizer1, momentum_optimizer2)\n",
    "\n",
    "# Compute and display average loss\n",
    "avg_loss = np.mean(loss_adaptive)\n",
    "print(f\"Average Loss: {avg_loss:.4f}\")\n",
    "\n",
    "# Compute and display average cosine similarity\n",
    "if len(cos_sim_adaptive) > 0:\n",
    "    avg_cos_sim = np.mean(cos_sim_adaptive)\n",
    "    print(f\"Average Cosine Similarity: {avg_cos_sim:.4f}\")\n",
    "else:\n",
    "    avg_cos_sim = None\n",
    "    print(f\"Average Cosine Similarity: N/A (Insufficient data)\")\n",
    "\n",
    "# Evaluate model on test data\n",
    "accuracy = evaluate_model(model_adaptive, test_loader)\n",
    "print(f\"Test Accuracy: {accuracy:.2f}%\")\n"
   ]
  },
  {
   "cell_type": "code",
   "execution_count": null,
   "id": "fceef4b4-bba5-427f-ab6d-e7e71b9d3530",
   "metadata": {},
   "outputs": [],
   "source": []
  }
 ],
 "metadata": {
  "kernelspec": {
   "display_name": "Python 3 (ipykernel)",
   "language": "python",
   "name": "python3"
  },
  "language_info": {
   "codemirror_mode": {
    "name": "ipython",
    "version": 3
   },
   "file_extension": ".py",
   "mimetype": "text/x-python",
   "name": "python",
   "nbconvert_exporter": "python",
   "pygments_lexer": "ipython3",
   "version": "3.10.12"
  }
 },
 "nbformat": 4,
 "nbformat_minor": 5
}
